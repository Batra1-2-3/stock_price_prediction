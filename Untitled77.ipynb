{
  "nbformat": 4,
  "nbformat_minor": 0,
  "metadata": {
    "colab": {
      "provenance": [],
      "authorship_tag": "ABX9TyMKUi3gb8M+NRf/JGD+d0F1",
      "include_colab_link": true
    },
    "kernelspec": {
      "name": "python3",
      "display_name": "Python 3"
    },
    "language_info": {
      "name": "python"
    }
  },
  "cells": [
    {
      "cell_type": "markdown",
      "metadata": {
        "id": "view-in-github",
        "colab_type": "text"
      },
      "source": [
        "<a href=\"https://colab.research.google.com/github/Batra1-2-3/stock_price_prediction/blob/main/Untitled77.ipynb\" target=\"_parent\"><img src=\"https://colab.research.google.com/assets/colab-badge.svg\" alt=\"Open In Colab\"/></a>"
      ]
    },
    {
      "cell_type": "code",
      "execution_count": null,
      "metadata": {
        "id": "WsjqL6cX7MhV"
      },
      "outputs": [],
      "source": [
        "import requests\n",
        "import pandas as pd\n",
        "import numpy as np\n",
        "from sklearn.preprocessing import MinMaxScaler\n",
        "from sklearn.model_selection import TimeSeriesSplit\n",
        "from sklearn.metrics import mean_squared_error, mean_absolute_error\n",
        "import matplotlib.pyplot as plt\n",
        "from datetime import datetime, timedelta\n",
        "from tensorflow.keras.models import Sequential\n",
        "from tensorflow.keras.layers import Dense, Conv1D, Flatten\n",
        "from tensorflow.keras.callbacks import EarlyStopping"
      ]
    },
    {
      "cell_type": "code",
      "source": [
        "# Fetch real-time stock price from Tiingo API\n",
        "api_key = '221931bf2369d7a27efc9b1837c80116bc2c900a'\n",
        "symbol = 'NFLX'\n",
        "url = f\"https://api.tiingo.com/tiingo/daily/{symbol}/prices?startDate=2022-01-01&endDate=2022-01-10&token={api_key}\"\n",
        "response = requests.get(url)\n",
        "data = response.json()\n",
        "\n",
        "if data:\n",
        "    latest_price = data[0]['close']\n",
        "    print(f\"Latest price for {symbol}: {latest_price}\")\n",
        "else:\n",
        "    print(\"Failed to fetch stock price\")\n"
      ],
      "metadata": {
        "colab": {
          "base_uri": "https://localhost:8080/"
        },
        "id": "riqFp3fL7P51",
        "outputId": "8eaa6d25-b3fc-4998-93e7-4c2029280e7f"
      },
      "execution_count": null,
      "outputs": [
        {
          "output_type": "stream",
          "name": "stdout",
          "text": [
            "Latest price for NFLX: 597.37\n"
          ]
        }
      ]
    },
    {
      "cell_type": "code",
      "source": [
        "csv_file = '/content/NFLX.csv'\n",
        "df = pd.read_csv(csv_file)"
      ],
      "metadata": {
        "id": "3P-Jxs6r7T3n"
      },
      "execution_count": null,
      "outputs": []
    },
    {
      "cell_type": "code",
      "source": [
        "df['Date'] = pd.to_datetime(df['Date'])\n"
      ],
      "metadata": {
        "id": "6ALhLvlE7cp7"
      },
      "execution_count": null,
      "outputs": []
    },
    {
      "cell_type": "code",
      "source": [
        "df['Price_Change'] = df['Close'].diff()\n",
        "df['MA7'] = df['Close'].rolling(window=7).mean()\n",
        "df['MA21'] = df['Close'].rolling(window=21).mean()\n",
        "df['EMA'] = df['Close'].ewm(span=7, adjust=False).mean()"
      ],
      "metadata": {
        "id": "2ggQVucm7gWY"
      },
      "execution_count": null,
      "outputs": []
    },
    {
      "cell_type": "code",
      "source": [
        "# Drop rows with missing values\n",
        "df = df.dropna()\n",
        "\n",
        "# Create 'Prediction' column\n",
        "df['Prediction'] = df['Close'].shift(-1)"
      ],
      "metadata": {
        "colab": {
          "base_uri": "https://localhost:8080/"
        },
        "id": "Z4b3dRy37n5R",
        "outputId": "cb2cc34a-9760-4eae-d570-5c17e8800fa7"
      },
      "execution_count": null,
      "outputs": [
        {
          "output_type": "stream",
          "name": "stderr",
          "text": [
            "<ipython-input-6-a4f601498b0e>:5: SettingWithCopyWarning: \n",
            "A value is trying to be set on a copy of a slice from a DataFrame.\n",
            "Try using .loc[row_indexer,col_indexer] = value instead\n",
            "\n",
            "See the caveats in the documentation: https://pandas.pydata.org/pandas-docs/stable/user_guide/indexing.html#returning-a-view-versus-a-copy\n",
            "  df['Prediction'] = df['Close'].shift(-1)\n"
          ]
        }
      ]
    },
    {
      "cell_type": "code",
      "source": [
        "\n",
        "# Drop the last row which contains NaN in 'Prediction' and 'Price_Change'\n",
        "df = df.dropna()\n",
        "\n",
        "# Split data into features and target\n",
        "X = df[['Open', 'High', 'Low', 'Close', 'Adj Close', 'Volume', 'Price_Change', 'MA7', 'MA21', 'EMA']]\n",
        "y = df['Prediction']\n",
        "\n",
        "# Remove the last row from X and y to ensure y does not contain NaN values\n",
        "X = X[:-1]\n",
        "y = y[:-1]\n",
        "\n",
        "# Normalize the features\n",
        "scaler_X = MinMaxScaler(feature_range=(0, 1))\n",
        "scaler_y = MinMaxScaler(feature_range=(0, 1))\n",
        "\n",
        "# Fit and transform the features\n",
        "X_scaled = scaler_X.fit_transform(X)\n",
        "\n",
        "# Fit and transform the target variable\n",
        "y_scaled = scaler_y.fit_transform(y.values.reshape(-1, 1))\n",
        "\n",
        "# Reshape input to be 3D [samples, timesteps, features]\n",
        "X_reshaped = np.reshape(X_scaled, (X_scaled.shape[0], X_scaled.shape[1], 1))\n",
        "\n",
        "# Time-based cross-validation\n",
        "tscv = TimeSeriesSplit(n_splits=5)"
      ],
      "metadata": {
        "id": "vMJ6c-sM7jEU"
      },
      "execution_count": null,
      "outputs": []
    },
    {
      "cell_type": "code",
      "source": [
        "model = Sequential()\n",
        "model.add(Conv1D(filters=64, kernel_size=3, activation='relu', input_shape=(X_reshaped.shape[1], X_reshaped.shape[2])))\n",
        "model.add(Flatten())\n",
        "model.add(Dense(50, activation='relu'))\n",
        "model.add(Dense(1))\n",
        "\n",
        "model.compile(optimizer='adam', loss='mean_squared_error')"
      ],
      "metadata": {
        "id": "TzTkW-lZ7t-l"
      },
      "execution_count": null,
      "outputs": []
    },
    {
      "cell_type": "code",
      "source": [
        "# Train the model with cross-validation\n",
        "for train_index, test_index in tscv.split(X_reshaped):\n",
        "    X_train, X_test = X_reshaped[train_index], X_reshaped[test_index]\n",
        "    y_train, y_test = y_scaled[train_index], y_scaled[test_index]\n",
        "\n",
        "    model.fit(X_train, y_train, epochs=50, batch_size=32, verbose=1, callbacks=[EarlyStopping(patience=10)])\n",
        "\n",
        "    # Predictions\n",
        "    predictions = model.predict(X_test)\n",
        "    predictions = scaler_y.inverse_transform(predictions)\n",
        "    y_test = scaler_y.inverse_transform(y_test)\n",
        "\n",
        "    # Calculate RMSE\n",
        "    rmse = np.sqrt(mean_squared_error(y_test, predictions))\n",
        "    mae = mean_absolute_error(y_test, predictions)\n",
        "    mape = np.mean(np.abs((y_test - predictions) / y_test)) * 100\n",
        "    print(f\"Test RMSE: {rmse}\")\n",
        "    print(f\"Test MAE: {mae}\")\n",
        "    print(f\"Test MAPE: {mape}%\")\n",
        "\n",
        "# Train the final model\n",
        "model.fit(X_reshaped, y_scaled, epochs=50, batch_size=32, verbose=1)"
      ],
      "metadata": {
        "colab": {
          "base_uri": "https://localhost:8080/"
        },
        "id": "Dn5CBEGl7vLy",
        "outputId": "c5da6f40-5815-497e-b493-6337c508870e"
      },
      "execution_count": null,
      "outputs": [
        {
          "output_type": "stream",
          "name": "stdout",
          "text": [
            "Epoch 1/50\n",
            "1/6 [====>.........................] - ETA: 14s - loss: 0.0641"
          ]
        },
        {
          "output_type": "stream",
          "name": "stderr",
          "text": [
            "WARNING:tensorflow:Early stopping conditioned on metric `val_loss` which is not available. Available metrics are: loss\n"
          ]
        },
        {
          "output_type": "stream",
          "name": "stdout",
          "text": [
            "\b\b\b\b\b\b\b\b\b\b\b\b\b\b\b\b\b\b\b\b\b\b\b\b\b\b\b\b\b\b\b\b\b\b\b\b\b\b\b\b\b\b\b\b\b\b\b\b\b\b\b\b\b\b\b\b\b\b\b\b\b\b\r6/6 [==============================] - 3s 5ms/step - loss: 0.0316\n",
            "Epoch 2/50\n",
            "1/6 [====>.........................] - ETA: 0s - loss: 0.0020"
          ]
        },
        {
          "output_type": "stream",
          "name": "stderr",
          "text": [
            "WARNING:tensorflow:Early stopping conditioned on metric `val_loss` which is not available. Available metrics are: loss\n"
          ]
        },
        {
          "output_type": "stream",
          "name": "stdout",
          "text": [
            "\b\b\b\b\b\b\b\b\b\b\b\b\b\b\b\b\b\b\b\b\b\b\b\b\b\b\b\b\b\b\b\b\b\b\b\b\b\b\b\b\b\b\b\b\b\b\b\b\b\b\b\b\b\b\b\b\b\b\b\b\b\r6/6 [==============================] - 0s 4ms/step - loss: 0.0054\n",
            "Epoch 3/50\n",
            "1/6 [====>.........................] - ETA: 0s - loss: 0.0067"
          ]
        },
        {
          "output_type": "stream",
          "name": "stderr",
          "text": [
            "WARNING:tensorflow:Early stopping conditioned on metric `val_loss` which is not available. Available metrics are: loss\n"
          ]
        },
        {
          "output_type": "stream",
          "name": "stdout",
          "text": [
            "\b\b\b\b\b\b\b\b\b\b\b\b\b\b\b\b\b\b\b\b\b\b\b\b\b\b\b\b\b\b\b\b\b\b\b\b\b\b\b\b\b\b\b\b\b\b\b\b\b\b\b\b\b\b\b\b\b\b\b\b\b\r6/6 [==============================] - 0s 4ms/step - loss: 0.0031\n",
            "Epoch 4/50\n",
            "1/6 [====>.........................] - ETA: 0s - loss: 0.0011"
          ]
        },
        {
          "output_type": "stream",
          "name": "stderr",
          "text": [
            "WARNING:tensorflow:Early stopping conditioned on metric `val_loss` which is not available. Available metrics are: loss\n"
          ]
        },
        {
          "output_type": "stream",
          "name": "stdout",
          "text": [
            "\b\b\b\b\b\b\b\b\b\b\b\b\b\b\b\b\b\b\b\b\b\b\b\b\b\b\b\b\b\b\b\b\b\b\b\b\b\b\b\b\b\b\b\b\b\b\b\b\b\b\b\b\b\b\b\b\b\b\b\b\b\r6/6 [==============================] - 0s 5ms/step - loss: 0.0023\n",
            "Epoch 5/50\n",
            "1/6 [====>.........................] - ETA: 0s - loss: 0.0021"
          ]
        },
        {
          "output_type": "stream",
          "name": "stderr",
          "text": [
            "WARNING:tensorflow:Early stopping conditioned on metric `val_loss` which is not available. Available metrics are: loss\n"
          ]
        },
        {
          "output_type": "stream",
          "name": "stdout",
          "text": [
            "\b\b\b\b\b\b\b\b\b\b\b\b\b\b\b\b\b\b\b\b\b\b\b\b\b\b\b\b\b\b\b\b\b\b\b\b\b\b\b\b\b\b\b\b\b\b\b\b\b\b\b\b\b\b\b\b\b\b\b\b\b\r6/6 [==============================] - 0s 4ms/step - loss: 0.0014\n",
            "Epoch 6/50\n",
            "1/6 [====>.........................] - ETA: 0s - loss: 0.0011"
          ]
        },
        {
          "output_type": "stream",
          "name": "stderr",
          "text": [
            "WARNING:tensorflow:Early stopping conditioned on metric `val_loss` which is not available. Available metrics are: loss\n"
          ]
        },
        {
          "output_type": "stream",
          "name": "stdout",
          "text": [
            "\b\b\b\b\b\b\b\b\b\b\b\b\b\b\b\b\b\b\b\b\b\b\b\b\b\b\b\b\b\b\b\b\b\b\b\b\b\b\b\b\b\b\b\b\b\b\b\b\b\b\b\b\b\b\b\b\b\b\b\b\b\r6/6 [==============================] - 0s 5ms/step - loss: 0.0011\n",
            "Epoch 7/50\n",
            "1/6 [====>.........................] - ETA: 0s - loss: 7.8851e-04"
          ]
        },
        {
          "output_type": "stream",
          "name": "stderr",
          "text": [
            "WARNING:tensorflow:Early stopping conditioned on metric `val_loss` which is not available. Available metrics are: loss\n"
          ]
        },
        {
          "output_type": "stream",
          "name": "stdout",
          "text": [
            "\b\b\b\b\b\b\b\b\b\b\b\b\b\b\b\b\b\b\b\b\b\b\b\b\b\b\b\b\b\b\b\b\b\b\b\b\b\b\b\b\b\b\b\b\b\b\b\b\b\b\b\b\b\b\b\b\b\b\b\b\b\b\b\b\b\r6/6 [==============================] - 0s 5ms/step - loss: 7.9799e-04\n",
            "Epoch 8/50\n",
            "1/6 [====>.........................] - ETA: 0s - loss: 9.8924e-04"
          ]
        },
        {
          "output_type": "stream",
          "name": "stderr",
          "text": [
            "WARNING:tensorflow:Early stopping conditioned on metric `val_loss` which is not available. Available metrics are: loss\n"
          ]
        },
        {
          "output_type": "stream",
          "name": "stdout",
          "text": [
            "\b\b\b\b\b\b\b\b\b\b\b\b\b\b\b\b\b\b\b\b\b\b\b\b\b\b\b\b\b\b\b\b\b\b\b\b\b\b\b\b\b\b\b\b\b\b\b\b\b\b\b\b\b\b\b\b\b\b\b\b\b\b\b\b\b\r6/6 [==============================] - 0s 6ms/step - loss: 7.7261e-04\n",
            "Epoch 9/50\n",
            "1/6 [====>.........................] - ETA: 0s - loss: 9.1244e-04"
          ]
        },
        {
          "output_type": "stream",
          "name": "stderr",
          "text": [
            "WARNING:tensorflow:Early stopping conditioned on metric `val_loss` which is not available. Available metrics are: loss\n"
          ]
        },
        {
          "output_type": "stream",
          "name": "stdout",
          "text": [
            "\b\b\b\b\b\b\b\b\b\b\b\b\b\b\b\b\b\b\b\b\b\b\b\b\b\b\b\b\b\b\b\b\b\b\b\b\b\b\b\b\b\b\b\b\b\b\b\b\b\b\b\b\b\b\b\b\b\b\b\b\b\b\b\b\b\r6/6 [==============================] - 0s 5ms/step - loss: 6.0903e-04\n",
            "Epoch 10/50\n",
            "1/6 [====>.........................] - ETA: 0s - loss: 0.0010"
          ]
        },
        {
          "output_type": "stream",
          "name": "stderr",
          "text": [
            "WARNING:tensorflow:Early stopping conditioned on metric `val_loss` which is not available. Available metrics are: loss\n"
          ]
        },
        {
          "output_type": "stream",
          "name": "stdout",
          "text": [
            "\b\b\b\b\b\b\b\b\b\b\b\b\b\b\b\b\b\b\b\b\b\b\b\b\b\b\b\b\b\b\b\b\b\b\b\b\b\b\b\b\b\b\b\b\b\b\b\b\b\b\b\b\b\b\b\b\b\b\b\b\b\r6/6 [==============================] - 0s 5ms/step - loss: 6.1586e-04\n",
            "Epoch 11/50\n",
            "1/6 [====>.........................] - ETA: 0s - loss: 8.6202e-04"
          ]
        },
        {
          "output_type": "stream",
          "name": "stderr",
          "text": [
            "WARNING:tensorflow:Early stopping conditioned on metric `val_loss` which is not available. Available metrics are: loss\n"
          ]
        },
        {
          "output_type": "stream",
          "name": "stdout",
          "text": [
            "\b\b\b\b\b\b\b\b\b\b\b\b\b\b\b\b\b\b\b\b\b\b\b\b\b\b\b\b\b\b\b\b\b\b\b\b\b\b\b\b\b\b\b\b\b\b\b\b\b\b\b\b\b\b\b\b\b\b\b\b\b\b\b\b\b\r6/6 [==============================] - 0s 5ms/step - loss: 5.3934e-04\n",
            "Epoch 12/50\n",
            "1/6 [====>.........................] - ETA: 0s - loss: 4.8202e-04"
          ]
        },
        {
          "output_type": "stream",
          "name": "stderr",
          "text": [
            "WARNING:tensorflow:Early stopping conditioned on metric `val_loss` which is not available. Available metrics are: loss\n"
          ]
        },
        {
          "output_type": "stream",
          "name": "stdout",
          "text": [
            "\b\b\b\b\b\b\b\b\b\b\b\b\b\b\b\b\b\b\b\b\b\b\b\b\b\b\b\b\b\b\b\b\b\b\b\b\b\b\b\b\b\b\b\b\b\b\b\b\b\b\b\b\b\b\b\b\b\b\b\b\b\b\b\b\b\r6/6 [==============================] - 0s 4ms/step - loss: 5.2346e-04\n",
            "Epoch 13/50\n",
            "1/6 [====>.........................] - ETA: 0s - loss: 5.2776e-04"
          ]
        },
        {
          "output_type": "stream",
          "name": "stderr",
          "text": [
            "WARNING:tensorflow:Early stopping conditioned on metric `val_loss` which is not available. Available metrics are: loss\n"
          ]
        },
        {
          "output_type": "stream",
          "name": "stdout",
          "text": [
            "\b\b\b\b\b\b\b\b\b\b\b\b\b\b\b\b\b\b\b\b\b\b\b\b\b\b\b\b\b\b\b\b\b\b\b\b\b\b\b\b\b\b\b\b\b\b\b\b\b\b\b\b\b\b\b\b\b\b\b\b\b\b\b\b\b\r6/6 [==============================] - 0s 5ms/step - loss: 5.8634e-04\n",
            "Epoch 14/50\n",
            "1/6 [====>.........................] - ETA: 0s - loss: 5.5560e-04"
          ]
        },
        {
          "output_type": "stream",
          "name": "stderr",
          "text": [
            "WARNING:tensorflow:Early stopping conditioned on metric `val_loss` which is not available. Available metrics are: loss\n"
          ]
        },
        {
          "output_type": "stream",
          "name": "stdout",
          "text": [
            "\b\b\b\b\b\b\b\b\b\b\b\b\b\b\b\b\b\b\b\b\b\b\b\b\b\b\b\b\b\b\b\b\b\b\b\b\b\b\b\b\b\b\b\b\b\b\b\b\b\b\b\b\b\b\b\b\b\b\b\b\b\b\b\b\b\r6/6 [==============================] - 0s 6ms/step - loss: 5.5038e-04\n",
            "Epoch 15/50\n",
            "1/6 [====>.........................] - ETA: 0s - loss: 5.5526e-04"
          ]
        },
        {
          "output_type": "stream",
          "name": "stderr",
          "text": [
            "WARNING:tensorflow:Early stopping conditioned on metric `val_loss` which is not available. Available metrics are: loss\n"
          ]
        },
        {
          "output_type": "stream",
          "name": "stdout",
          "text": [
            "\b\b\b\b\b\b\b\b\b\b\b\b\b\b\b\b\b\b\b\b\b\b\b\b\b\b\b\b\b\b\b\b\b\b\b\b\b\b\b\b\b\b\b\b\b\b\b\b\b\b\b\b\b\b\b\b\b\b\b\b\b\b\b\b\b\r6/6 [==============================] - 0s 4ms/step - loss: 5.4066e-04\n",
            "Epoch 16/50\n",
            "1/6 [====>.........................] - ETA: 0s - loss: 5.3489e-04"
          ]
        },
        {
          "output_type": "stream",
          "name": "stderr",
          "text": [
            "WARNING:tensorflow:Early stopping conditioned on metric `val_loss` which is not available. Available metrics are: loss\n"
          ]
        },
        {
          "output_type": "stream",
          "name": "stdout",
          "text": [
            "\b\b\b\b\b\b\b\b\b\b\b\b\b\b\b\b\b\b\b\b\b\b\b\b\b\b\b\b\b\b\b\b\b\b\b\b\b\b\b\b\b\b\b\b\b\b\b\b\b\b\b\b\b\b\b\b\b\b\b\b\b\b\b\b\b\r6/6 [==============================] - 0s 4ms/step - loss: 5.0200e-04\n",
            "Epoch 17/50\n",
            "1/6 [====>.........................] - ETA: 0s - loss: 4.2764e-04"
          ]
        },
        {
          "output_type": "stream",
          "name": "stderr",
          "text": [
            "WARNING:tensorflow:Early stopping conditioned on metric `val_loss` which is not available. Available metrics are: loss\n"
          ]
        },
        {
          "output_type": "stream",
          "name": "stdout",
          "text": [
            "\b\b\b\b\b\b\b\b\b\b\b\b\b\b\b\b\b\b\b\b\b\b\b\b\b\b\b\b\b\b\b\b\b\b\b\b\b\b\b\b\b\b\b\b\b\b\b\b\b\b\b\b\b\b\b\b\b\b\b\b\b\b\b\b\b\r6/6 [==============================] - 0s 4ms/step - loss: 4.9281e-04\n",
            "Epoch 18/50\n",
            "1/6 [====>.........................] - ETA: 0s - loss: 5.0295e-04"
          ]
        },
        {
          "output_type": "stream",
          "name": "stderr",
          "text": [
            "WARNING:tensorflow:Early stopping conditioned on metric `val_loss` which is not available. Available metrics are: loss\n"
          ]
        },
        {
          "output_type": "stream",
          "name": "stdout",
          "text": [
            "\b\b\b\b\b\b\b\b\b\b\b\b\b\b\b\b\b\b\b\b\b\b\b\b\b\b\b\b\b\b\b\b\b\b\b\b\b\b\b\b\b\b\b\b\b\b\b\b\b\b\b\b\b\b\b\b\b\b\b\b\b\b\b\b\b\r6/6 [==============================] - 0s 5ms/step - loss: 4.8573e-04\n",
            "Epoch 19/50\n",
            "1/6 [====>.........................] - ETA: 0s - loss: 3.8679e-04"
          ]
        },
        {
          "output_type": "stream",
          "name": "stderr",
          "text": [
            "WARNING:tensorflow:Early stopping conditioned on metric `val_loss` which is not available. Available metrics are: loss\n"
          ]
        },
        {
          "output_type": "stream",
          "name": "stdout",
          "text": [
            "\b\b\b\b\b\b\b\b\b\b\b\b\b\b\b\b\b\b\b\b\b\b\b\b\b\b\b\b\b\b\b\b\b\b\b\b\b\b\b\b\b\b\b\b\b\b\b\b\b\b\b\b\b\b\b\b\b\b\b\b\b\b\b\b\b\r6/6 [==============================] - 0s 5ms/step - loss: 4.8378e-04\n",
            "Epoch 20/50\n",
            "1/6 [====>.........................] - ETA: 0s - loss: 4.1626e-04"
          ]
        },
        {
          "output_type": "stream",
          "name": "stderr",
          "text": [
            "WARNING:tensorflow:Early stopping conditioned on metric `val_loss` which is not available. Available metrics are: loss\n"
          ]
        },
        {
          "output_type": "stream",
          "name": "stdout",
          "text": [
            "\b\b\b\b\b\b\b\b\b\b\b\b\b\b\b\b\b\b\b\b\b\b\b\b\b\b\b\b\b\b\b\b\b\b\b\b\b\b\b\b\b\b\b\b\b\b\b\b\b\b\b\b\b\b\b\b\b\b\b\b\b\b\b\b\b\r6/6 [==============================] - 0s 5ms/step - loss: 4.7607e-04\n",
            "Epoch 21/50\n",
            "1/6 [====>.........................] - ETA: 0s - loss: 4.0032e-04"
          ]
        },
        {
          "output_type": "stream",
          "name": "stderr",
          "text": [
            "WARNING:tensorflow:Early stopping conditioned on metric `val_loss` which is not available. Available metrics are: loss\n"
          ]
        },
        {
          "output_type": "stream",
          "name": "stdout",
          "text": [
            "\b\b\b\b\b\b\b\b\b\b\b\b\b\b\b\b\b\b\b\b\b\b\b\b\b\b\b\b\b\b\b\b\b\b\b\b\b\b\b\b\b\b\b\b\b\b\b\b\b\b\b\b\b\b\b\b\b\b\b\b\b\b\b\b\b\r6/6 [==============================] - 0s 4ms/step - loss: 4.8148e-04\n",
            "Epoch 22/50\n",
            "1/6 [====>.........................] - ETA: 0s - loss: 7.3011e-04"
          ]
        },
        {
          "output_type": "stream",
          "name": "stderr",
          "text": [
            "WARNING:tensorflow:Early stopping conditioned on metric `val_loss` which is not available. Available metrics are: loss\n"
          ]
        },
        {
          "output_type": "stream",
          "name": "stdout",
          "text": [
            "\b\b\b\b\b\b\b\b\b\b\b\b\b\b\b\b\b\b\b\b\b\b\b\b\b\b\b\b\b\b\b\b\b\b\b\b\b\b\b\b\b\b\b\b\b\b\b\b\b\b\b\b\b\b\b\b\b\b\b\b\b\b\b\b\b\r6/6 [==============================] - 0s 5ms/step - loss: 4.7201e-04\n",
            "Epoch 23/50\n",
            "1/6 [====>.........................] - ETA: 0s - loss: 2.0036e-04"
          ]
        },
        {
          "output_type": "stream",
          "name": "stderr",
          "text": [
            "WARNING:tensorflow:Early stopping conditioned on metric `val_loss` which is not available. Available metrics are: loss\n"
          ]
        },
        {
          "output_type": "stream",
          "name": "stdout",
          "text": [
            "\b\b\b\b\b\b\b\b\b\b\b\b\b\b\b\b\b\b\b\b\b\b\b\b\b\b\b\b\b\b\b\b\b\b\b\b\b\b\b\b\b\b\b\b\b\b\b\b\b\b\b\b\b\b\b\b\b\b\b\b\b\b\b\b\b\r6/6 [==============================] - 0s 6ms/step - loss: 4.8042e-04\n",
            "Epoch 24/50\n",
            "1/6 [====>.........................] - ETA: 0s - loss: 5.1188e-04"
          ]
        },
        {
          "output_type": "stream",
          "name": "stderr",
          "text": [
            "WARNING:tensorflow:Early stopping conditioned on metric `val_loss` which is not available. Available metrics are: loss\n"
          ]
        },
        {
          "output_type": "stream",
          "name": "stdout",
          "text": [
            "\b\b\b\b\b\b\b\b\b\b\b\b\b\b\b\b\b\b\b\b\b\b\b\b\b\b\b\b\b\b\b\b\b\b\b\b\b\b\b\b\b\b\b\b\b\b\b\b\b\b\b\b\b\b\b\b\b\b\b\b\b\b\b\b\b\r6/6 [==============================] - 0s 5ms/step - loss: 4.6782e-04\n",
            "Epoch 25/50\n",
            "1/6 [====>.........................] - ETA: 0s - loss: 6.1418e-04"
          ]
        },
        {
          "output_type": "stream",
          "name": "stderr",
          "text": [
            "WARNING:tensorflow:Early stopping conditioned on metric `val_loss` which is not available. Available metrics are: loss\n"
          ]
        },
        {
          "output_type": "stream",
          "name": "stdout",
          "text": [
            "\b\b\b\b\b\b\b\b\b\b\b\b\b\b\b\b\b\b\b\b\b\b\b\b\b\b\b\b\b\b\b\b\b\b\b\b\b\b\b\b\b\b\b\b\b\b\b\b\b\b\b\b\b\b\b\b\b\b\b\b\b\b\b\b\b\r6/6 [==============================] - 0s 5ms/step - loss: 4.7359e-04\n",
            "Epoch 26/50\n",
            "1/6 [====>.........................] - ETA: 0s - loss: 3.3644e-04"
          ]
        },
        {
          "output_type": "stream",
          "name": "stderr",
          "text": [
            "WARNING:tensorflow:Early stopping conditioned on metric `val_loss` which is not available. Available metrics are: loss\n"
          ]
        },
        {
          "output_type": "stream",
          "name": "stdout",
          "text": [
            "\b\b\b\b\b\b\b\b\b\b\b\b\b\b\b\b\b\b\b\b\b\b\b\b\b\b\b\b\b\b\b\b\b\b\b\b\b\b\b\b\b\b\b\b\b\b\b\b\b\b\b\b\b\b\b\b\b\b\b\b\b\b\b\b\b\r6/6 [==============================] - 0s 4ms/step - loss: 4.7608e-04\n",
            "Epoch 27/50\n",
            "1/6 [====>.........................] - ETA: 0s - loss: 4.9646e-04"
          ]
        },
        {
          "output_type": "stream",
          "name": "stderr",
          "text": [
            "WARNING:tensorflow:Early stopping conditioned on metric `val_loss` which is not available. Available metrics are: loss\n"
          ]
        },
        {
          "output_type": "stream",
          "name": "stdout",
          "text": [
            "\b\b\b\b\b\b\b\b\b\b\b\b\b\b\b\b\b\b\b\b\b\b\b\b\b\b\b\b\b\b\b\b\b\b\b\b\b\b\b\b\b\b\b\b\b\b\b\b\b\b\b\b\b\b\b\b\b\b\b\b\b\b\b\b\b\r6/6 [==============================] - 0s 6ms/step - loss: 4.6908e-04\n",
            "Epoch 28/50\n",
            "1/6 [====>.........................] - ETA: 0s - loss: 5.2921e-04"
          ]
        },
        {
          "output_type": "stream",
          "name": "stderr",
          "text": [
            "WARNING:tensorflow:Early stopping conditioned on metric `val_loss` which is not available. Available metrics are: loss\n"
          ]
        },
        {
          "output_type": "stream",
          "name": "stdout",
          "text": [
            "\b\b\b\b\b\b\b\b\b\b\b\b\b\b\b\b\b\b\b\b\b\b\b\b\b\b\b\b\b\b\b\b\b\b\b\b\b\b\b\b\b\b\b\b\b\b\b\b\b\b\b\b\b\b\b\b\b\b\b\b\b\b\b\b\b\r6/6 [==============================] - 0s 5ms/step - loss: 4.5674e-04\n",
            "Epoch 29/50\n",
            "1/6 [====>.........................] - ETA: 0s - loss: 3.3941e-04"
          ]
        },
        {
          "output_type": "stream",
          "name": "stderr",
          "text": [
            "WARNING:tensorflow:Early stopping conditioned on metric `val_loss` which is not available. Available metrics are: loss\n"
          ]
        },
        {
          "output_type": "stream",
          "name": "stdout",
          "text": [
            "\b\b\b\b\b\b\b\b\b\b\b\b\b\b\b\b\b\b\b\b\b\b\b\b\b\b\b\b\b\b\b\b\b\b\b\b\b\b\b\b\b\b\b\b\b\b\b\b\b\b\b\b\b\b\b\b\b\b\b\b\b\b\b\b\b\r6/6 [==============================] - 0s 6ms/step - loss: 4.9780e-04\n",
            "Epoch 30/50\n",
            "1/6 [====>.........................] - ETA: 0s - loss: 4.7978e-04"
          ]
        },
        {
          "output_type": "stream",
          "name": "stderr",
          "text": [
            "WARNING:tensorflow:Early stopping conditioned on metric `val_loss` which is not available. Available metrics are: loss\n"
          ]
        },
        {
          "output_type": "stream",
          "name": "stdout",
          "text": [
            "\b\b\b\b\b\b\b\b\b\b\b\b\b\b\b\b\b\b\b\b\b\b\b\b\b\b\b\b\b\b\b\b\b\b\b\b\b\b\b\b\b\b\b\b\b\b\b\b\b\b\b\b\b\b\b\b\b\b\b\b\b\b\b\b\b\r6/6 [==============================] - 0s 4ms/step - loss: 4.8955e-04\n",
            "Epoch 31/50\n",
            "1/6 [====>.........................] - ETA: 0s - loss: 3.9159e-04"
          ]
        },
        {
          "output_type": "stream",
          "name": "stderr",
          "text": [
            "WARNING:tensorflow:Early stopping conditioned on metric `val_loss` which is not available. Available metrics are: loss\n"
          ]
        },
        {
          "output_type": "stream",
          "name": "stdout",
          "text": [
            "\b\b\b\b\b\b\b\b\b\b\b\b\b\b\b\b\b\b\b\b\b\b\b\b\b\b\b\b\b\b\b\b\b\b\b\b\b\b\b\b\b\b\b\b\b\b\b\b\b\b\b\b\b\b\b\b\b\b\b\b\b\b\b\b\b\r6/6 [==============================] - 0s 5ms/step - loss: 4.5153e-04\n",
            "Epoch 32/50\n",
            "1/6 [====>.........................] - ETA: 0s - loss: 3.9425e-04"
          ]
        },
        {
          "output_type": "stream",
          "name": "stderr",
          "text": [
            "WARNING:tensorflow:Early stopping conditioned on metric `val_loss` which is not available. Available metrics are: loss\n"
          ]
        },
        {
          "output_type": "stream",
          "name": "stdout",
          "text": [
            "\b\b\b\b\b\b\b\b\b\b\b\b\b\b\b\b\b\b\b\b\b\b\b\b\b\b\b\b\b\b\b\b\b\b\b\b\b\b\b\b\b\b\b\b\b\b\b\b\b\b\b\b\b\b\b\b\b\b\b\b\b\b\b\b\b\r6/6 [==============================] - 0s 5ms/step - loss: 4.5605e-04\n",
            "Epoch 33/50\n",
            "1/6 [====>.........................] - ETA: 0s - loss: 5.6362e-04"
          ]
        },
        {
          "output_type": "stream",
          "name": "stderr",
          "text": [
            "WARNING:tensorflow:Early stopping conditioned on metric `val_loss` which is not available. Available metrics are: loss\n"
          ]
        },
        {
          "output_type": "stream",
          "name": "stdout",
          "text": [
            "\b\b\b\b\b\b\b\b\b\b\b\b\b\b\b\b\b\b\b\b\b\b\b\b\b\b\b\b\b\b\b\b\b\b\b\b\b\b\b\b\b\b\b\b\b\b\b\b\b\b\b\b\b\b\b\b\b\b\b\b\b\b\b\b\b\r6/6 [==============================] - 0s 6ms/step - loss: 4.4544e-04\n",
            "Epoch 34/50\n",
            "1/6 [====>.........................] - ETA: 0s - loss: 3.6332e-04"
          ]
        },
        {
          "output_type": "stream",
          "name": "stderr",
          "text": [
            "WARNING:tensorflow:Early stopping conditioned on metric `val_loss` which is not available. Available metrics are: loss\n"
          ]
        },
        {
          "output_type": "stream",
          "name": "stdout",
          "text": [
            "\b\b\b\b\b\b\b\b\b\b\b\b\b\b\b\b\b\b\b\b\b\b\b\b\b\b\b\b\b\b\b\b\b\b\b\b\b\b\b\b\b\b\b\b\b\b\b\b\b\b\b\b\b\b\b\b\b\b\b\b\b\b\b\b\b\r6/6 [==============================] - 0s 5ms/step - loss: 4.8183e-04\n",
            "Epoch 35/50\n",
            "1/6 [====>.........................] - ETA: 0s - loss: 5.4374e-04"
          ]
        },
        {
          "output_type": "stream",
          "name": "stderr",
          "text": [
            "WARNING:tensorflow:Early stopping conditioned on metric `val_loss` which is not available. Available metrics are: loss\n"
          ]
        },
        {
          "output_type": "stream",
          "name": "stdout",
          "text": [
            "\b\b\b\b\b\b\b\b\b\b\b\b\b\b\b\b\b\b\b\b\b\b\b\b\b\b\b\b\b\b\b\b\b\b\b\b\b\b\b\b\b\b\b\b\b\b\b\b\b\b\b\b\b\b\b\b\b\b\b\b\b\b\b\b\b\r6/6 [==============================] - 0s 5ms/step - loss: 4.6689e-04\n",
            "Epoch 36/50\n",
            "1/6 [====>.........................] - ETA: 0s - loss: 2.4128e-04"
          ]
        },
        {
          "output_type": "stream",
          "name": "stderr",
          "text": [
            "WARNING:tensorflow:Early stopping conditioned on metric `val_loss` which is not available. Available metrics are: loss\n"
          ]
        },
        {
          "output_type": "stream",
          "name": "stdout",
          "text": [
            "\b\b\b\b\b\b\b\b\b\b\b\b\b\b\b\b\b\b\b\b\b\b\b\b\b\b\b\b\b\b\b\b\b\b\b\b\b\b\b\b\b\b\b\b\b\b\b\b\b\b\b\b\b\b\b\b\b\b\b\b\b\b\b\b\b\r6/6 [==============================] - 0s 5ms/step - loss: 4.4785e-04\n",
            "Epoch 37/50\n",
            "1/6 [====>.........................] - ETA: 0s - loss: 4.7716e-04"
          ]
        },
        {
          "output_type": "stream",
          "name": "stderr",
          "text": [
            "WARNING:tensorflow:Early stopping conditioned on metric `val_loss` which is not available. Available metrics are: loss\n"
          ]
        },
        {
          "output_type": "stream",
          "name": "stdout",
          "text": [
            "\b\b\b\b\b\b\b\b\b\b\b\b\b\b\b\b\b\b\b\b\b\b\b\b\b\b\b\b\b\b\b\b\b\b\b\b\b\b\b\b\b\b\b\b\b\b\b\b\b\b\b\b\b\b\b\b\b\b\b\b\b\b\b\b\b\r6/6 [==============================] - 0s 7ms/step - loss: 4.4280e-04\n",
            "Epoch 38/50\n",
            "1/6 [====>.........................] - ETA: 0s - loss: 3.7012e-04"
          ]
        },
        {
          "output_type": "stream",
          "name": "stderr",
          "text": [
            "WARNING:tensorflow:Early stopping conditioned on metric `val_loss` which is not available. Available metrics are: loss\n"
          ]
        },
        {
          "output_type": "stream",
          "name": "stdout",
          "text": [
            "\b\b\b\b\b\b\b\b\b\b\b\b\b\b\b\b\b\b\b\b\b\b\b\b\b\b\b\b\b\b\b\b\b\b\b\b\b\b\b\b\b\b\b\b\b\b\b\b\b\b\b\b\b\b\b\b\b\b\b\b\b\b\b\b\b\r6/6 [==============================] - 0s 4ms/step - loss: 4.5358e-04\n",
            "Epoch 39/50\n",
            "1/6 [====>.........................] - ETA: 0s - loss: 4.8334e-04"
          ]
        },
        {
          "output_type": "stream",
          "name": "stderr",
          "text": [
            "WARNING:tensorflow:Early stopping conditioned on metric `val_loss` which is not available. Available metrics are: loss\n"
          ]
        },
        {
          "output_type": "stream",
          "name": "stdout",
          "text": [
            "\b\b\b\b\b\b\b\b\b\b\b\b\b\b\b\b\b\b\b\b\b\b\b\b\b\b\b\b\b\b\b\b\b\b\b\b\b\b\b\b\b\b\b\b\b\b\b\b\b\b\b\b\b\b\b\b\b\b\b\b\b\b\b\b\b\r6/6 [==============================] - 0s 5ms/step - loss: 4.4109e-04\n",
            "Epoch 40/50\n",
            "1/6 [====>.........................] - ETA: 0s - loss: 3.4890e-04"
          ]
        },
        {
          "output_type": "stream",
          "name": "stderr",
          "text": [
            "WARNING:tensorflow:Early stopping conditioned on metric `val_loss` which is not available. Available metrics are: loss\n"
          ]
        },
        {
          "output_type": "stream",
          "name": "stdout",
          "text": [
            "\b\b\b\b\b\b\b\b\b\b\b\b\b\b\b\b\b\b\b\b\b\b\b\b\b\b\b\b\b\b\b\b\b\b\b\b\b\b\b\b\b\b\b\b\b\b\b\b\b\b\b\b\b\b\b\b\b\b\b\b\b\b\b\b\b\r6/6 [==============================] - 0s 5ms/step - loss: 4.6191e-04\n",
            "Epoch 41/50\n",
            "1/6 [====>.........................] - ETA: 0s - loss: 5.9916e-04"
          ]
        },
        {
          "output_type": "stream",
          "name": "stderr",
          "text": [
            "WARNING:tensorflow:Early stopping conditioned on metric `val_loss` which is not available. Available metrics are: loss\n"
          ]
        },
        {
          "output_type": "stream",
          "name": "stdout",
          "text": [
            "\b\b\b\b\b\b\b\b\b\b\b\b\b\b\b\b\b\b\b\b\b\b\b\b\b\b\b\b\b\b\b\b\b\b\b\b\b\b\b\b\b\b\b\b\b\b\b\b\b\b\b\b\b\b\b\b\b\b\b\b\b\b\b\b\b\r6/6 [==============================] - 0s 4ms/step - loss: 4.7897e-04\n",
            "Epoch 42/50\n",
            "1/6 [====>.........................] - ETA: 0s - loss: 3.3268e-04"
          ]
        },
        {
          "output_type": "stream",
          "name": "stderr",
          "text": [
            "WARNING:tensorflow:Early stopping conditioned on metric `val_loss` which is not available. Available metrics are: loss\n"
          ]
        },
        {
          "output_type": "stream",
          "name": "stdout",
          "text": [
            "\b\b\b\b\b\b\b\b\b\b\b\b\b\b\b\b\b\b\b\b\b\b\b\b\b\b\b\b\b\b\b\b\b\b\b\b\b\b\b\b\b\b\b\b\b\b\b\b\b\b\b\b\b\b\b\b\b\b\b\b\b\b\b\b\b\r6/6 [==============================] - 0s 4ms/step - loss: 4.3810e-04\n",
            "Epoch 43/50\n",
            "1/6 [====>.........................] - ETA: 0s - loss: 1.9116e-04"
          ]
        },
        {
          "output_type": "stream",
          "name": "stderr",
          "text": [
            "WARNING:tensorflow:Early stopping conditioned on metric `val_loss` which is not available. Available metrics are: loss\n"
          ]
        },
        {
          "output_type": "stream",
          "name": "stdout",
          "text": [
            "\b\b\b\b\b\b\b\b\b\b\b\b\b\b\b\b\b\b\b\b\b\b\b\b\b\b\b\b\b\b\b\b\b\b\b\b\b\b\b\b\b\b\b\b\b\b\b\b\b\b\b\b\b\b\b\b\b\b\b\b\b\b\b\b\b\r6/6 [==============================] - 0s 4ms/step - loss: 4.4205e-04\n",
            "Epoch 44/50\n",
            "1/6 [====>.........................] - ETA: 0s - loss: 3.1319e-04"
          ]
        },
        {
          "output_type": "stream",
          "name": "stderr",
          "text": [
            "WARNING:tensorflow:Early stopping conditioned on metric `val_loss` which is not available. Available metrics are: loss\n"
          ]
        },
        {
          "output_type": "stream",
          "name": "stdout",
          "text": [
            "\b\b\b\b\b\b\b\b\b\b\b\b\b\b\b\b\b\b\b\b\b\b\b\b\b\b\b\b\b\b\b\b\b\b\b\b\b\b\b\b\b\b\b\b\b\b\b\b\b\b\b\b\b\b\b\b\b\b\b\b\b\b\b\b\b\r6/6 [==============================] - 0s 4ms/step - loss: 4.4078e-04\n",
            "Epoch 45/50\n",
            "1/6 [====>.........................] - ETA: 0s - loss: 5.2245e-04"
          ]
        },
        {
          "output_type": "stream",
          "name": "stderr",
          "text": [
            "WARNING:tensorflow:Early stopping conditioned on metric `val_loss` which is not available. Available metrics are: loss\n"
          ]
        },
        {
          "output_type": "stream",
          "name": "stdout",
          "text": [
            "\b\b\b\b\b\b\b\b\b\b\b\b\b\b\b\b\b\b\b\b\b\b\b\b\b\b\b\b\b\b\b\b\b\b\b\b\b\b\b\b\b\b\b\b\b\b\b\b\b\b\b\b\b\b\b\b\b\b\b\b\b\b\b\b\b\r6/6 [==============================] - 0s 6ms/step - loss: 4.3646e-04\n",
            "Epoch 46/50\n",
            "1/6 [====>.........................] - ETA: 0s - loss: 5.3254e-04"
          ]
        },
        {
          "output_type": "stream",
          "name": "stderr",
          "text": [
            "WARNING:tensorflow:Early stopping conditioned on metric `val_loss` which is not available. Available metrics are: loss\n"
          ]
        },
        {
          "output_type": "stream",
          "name": "stdout",
          "text": [
            "\b\b\b\b\b\b\b\b\b\b\b\b\b\b\b\b\b\b\b\b\b\b\b\b\b\b\b\b\b\b\b\b\b\b\b\b\b\b\b\b\b\b\b\b\b\b\b\b\b\b\b\b\b\b\b\b\b\b\b\b\b\b\b\b\b\r6/6 [==============================] - 0s 4ms/step - loss: 4.3598e-04\n",
            "Epoch 47/50\n",
            "1/6 [====>.........................] - ETA: 0s - loss: 6.0055e-04"
          ]
        },
        {
          "output_type": "stream",
          "name": "stderr",
          "text": [
            "WARNING:tensorflow:Early stopping conditioned on metric `val_loss` which is not available. Available metrics are: loss\n"
          ]
        },
        {
          "output_type": "stream",
          "name": "stdout",
          "text": [
            "\b\b\b\b\b\b\b\b\b\b\b\b\b\b\b\b\b\b\b\b\b\b\b\b\b\b\b\b\b\b\b\b\b\b\b\b\b\b\b\b\b\b\b\b\b\b\b\b\b\b\b\b\b\b\b\b\b\b\b\b\b\b\b\b\b\r6/6 [==============================] - 0s 5ms/step - loss: 4.4132e-04\n",
            "Epoch 48/50\n",
            "1/6 [====>.........................] - ETA: 0s - loss: 4.0170e-04"
          ]
        },
        {
          "output_type": "stream",
          "name": "stderr",
          "text": [
            "WARNING:tensorflow:Early stopping conditioned on metric `val_loss` which is not available. Available metrics are: loss\n"
          ]
        },
        {
          "output_type": "stream",
          "name": "stdout",
          "text": [
            "\b\b\b\b\b\b\b\b\b\b\b\b\b\b\b\b\b\b\b\b\b\b\b\b\b\b\b\b\b\b\b\b\b\b\b\b\b\b\b\b\b\b\b\b\b\b\b\b\b\b\b\b\b\b\b\b\b\b\b\b\b\b\b\b\b\r6/6 [==============================] - 0s 4ms/step - loss: 4.4524e-04\n",
            "Epoch 49/50\n",
            "1/6 [====>.........................] - ETA: 0s - loss: 4.9908e-04"
          ]
        },
        {
          "output_type": "stream",
          "name": "stderr",
          "text": [
            "WARNING:tensorflow:Early stopping conditioned on metric `val_loss` which is not available. Available metrics are: loss\n"
          ]
        },
        {
          "output_type": "stream",
          "name": "stdout",
          "text": [
            "\b\b\b\b\b\b\b\b\b\b\b\b\b\b\b\b\b\b\b\b\b\b\b\b\b\b\b\b\b\b\b\b\b\b\b\b\b\b\b\b\b\b\b\b\b\b\b\b\b\b\b\b\b\b\b\b\b\b\b\b\b\b\b\b\b\r6/6 [==============================] - 0s 4ms/step - loss: 4.3153e-04\n",
            "Epoch 50/50\n",
            "1/6 [====>.........................] - ETA: 0s - loss: 5.4454e-04"
          ]
        },
        {
          "output_type": "stream",
          "name": "stderr",
          "text": [
            "WARNING:tensorflow:Early stopping conditioned on metric `val_loss` which is not available. Available metrics are: loss\n"
          ]
        },
        {
          "output_type": "stream",
          "name": "stdout",
          "text": [
            "6/6 [==============================] - 0s 4ms/step - loss: 4.5934e-04\n",
            "6/6 [==============================] - 0s 3ms/step\n",
            "Test RMSE: 9.035298735702579\n",
            "Test MAE: 7.1114650581888315\n",
            "Test MAPE: 2.2558447011782183%\n",
            "Epoch 1/50\n",
            " 1/11 [=>............................] - ETA: 0s - loss: 5.7296e-04"
          ]
        },
        {
          "output_type": "stream",
          "name": "stderr",
          "text": [
            "WARNING:tensorflow:Early stopping conditioned on metric `val_loss` which is not available. Available metrics are: loss\n"
          ]
        },
        {
          "output_type": "stream",
          "name": "stdout",
          "text": [
            "\b\b\b\b\b\b\b\b\b\b\b\b\b\b\b\b\b\b\b\b\b\b\b\b\b\b\b\b\b\b\b\b\b\b\b\b\b\b\b\b\b\b\b\b\b\b\b\b\b\b\b\b\b\b\b\b\b\b\b\b\b\b\b\b\b\b\b\r11/11 [==============================] - 0s 3ms/step - loss: 4.0693e-04\n",
            "Epoch 2/50\n",
            " 1/11 [=>............................] - ETA: 0s - loss: 3.8003e-04"
          ]
        },
        {
          "output_type": "stream",
          "name": "stderr",
          "text": [
            "WARNING:tensorflow:Early stopping conditioned on metric `val_loss` which is not available. Available metrics are: loss\n"
          ]
        },
        {
          "output_type": "stream",
          "name": "stdout",
          "text": [
            "\b\b\b\b\b\b\b\b\b\b\b\b\b\b\b\b\b\b\b\b\b\b\b\b\b\b\b\b\b\b\b\b\b\b\b\b\b\b\b\b\b\b\b\b\b\b\b\b\b\b\b\b\b\b\b\b\b\b\b\b\b\b\b\b\b\b\b\r11/11 [==============================] - 0s 3ms/step - loss: 3.8407e-04\n",
            "Epoch 3/50\n",
            " 1/11 [=>............................] - ETA: 0s - loss: 3.4358e-04"
          ]
        },
        {
          "output_type": "stream",
          "name": "stderr",
          "text": [
            "WARNING:tensorflow:Early stopping conditioned on metric `val_loss` which is not available. Available metrics are: loss\n"
          ]
        },
        {
          "output_type": "stream",
          "name": "stdout",
          "text": [
            "\b\b\b\b\b\b\b\b\b\b\b\b\b\b\b\b\b\b\b\b\b\b\b\b\b\b\b\b\b\b\b\b\b\b\b\b\b\b\b\b\b\b\b\b\b\b\b\b\b\b\b\b\b\b\b\b\b\b\b\b\b\b\b\b\b\b\b\r11/11 [==============================] - 0s 3ms/step - loss: 3.7924e-04\n",
            "Epoch 4/50\n",
            " 1/11 [=>............................] - ETA: 0s - loss: 5.5431e-04"
          ]
        },
        {
          "output_type": "stream",
          "name": "stderr",
          "text": [
            "WARNING:tensorflow:Early stopping conditioned on metric `val_loss` which is not available. Available metrics are: loss\n"
          ]
        },
        {
          "output_type": "stream",
          "name": "stdout",
          "text": [
            "\b\b\b\b\b\b\b\b\b\b\b\b\b\b\b\b\b\b\b\b\b\b\b\b\b\b\b\b\b\b\b\b\b\b\b\b\b\b\b\b\b\b\b\b\b\b\b\b\b\b\b\b\b\b\b\b\b\b\b\b\b\b\b\b\b\b\b\r11/11 [==============================] - 0s 3ms/step - loss: 3.9823e-04\n",
            "Epoch 5/50\n",
            " 1/11 [=>............................] - ETA: 0s - loss: 4.1521e-04"
          ]
        },
        {
          "output_type": "stream",
          "name": "stderr",
          "text": [
            "WARNING:tensorflow:Early stopping conditioned on metric `val_loss` which is not available. Available metrics are: loss\n"
          ]
        },
        {
          "output_type": "stream",
          "name": "stdout",
          "text": [
            "\b\b\b\b\b\b\b\b\b\b\b\b\b\b\b\b\b\b\b\b\b\b\b\b\b\b\b\b\b\b\b\b\b\b\b\b\b\b\b\b\b\b\b\b\b\b\b\b\b\b\b\b\b\b\b\b\b\b\b\b\b\b\b\b\b\b\b\r11/11 [==============================] - 0s 3ms/step - loss: 3.8635e-04\n",
            "Epoch 6/50\n",
            " 1/11 [=>............................] - ETA: 0s - loss: 2.8835e-04"
          ]
        },
        {
          "output_type": "stream",
          "name": "stderr",
          "text": [
            "WARNING:tensorflow:Early stopping conditioned on metric `val_loss` which is not available. Available metrics are: loss\n"
          ]
        },
        {
          "output_type": "stream",
          "name": "stdout",
          "text": [
            "\b\b\b\b\b\b\b\b\b\b\b\b\b\b\b\b\b\b\b\b\b\b\b\b\b\b\b\b\b\b\b\b\b\b\b\b\b\b\b\b\b\b\b\b\b\b\b\b\b\b\b\b\b\b\b\b\b\b\b\b\b\b\b\b\b\b\b\r11/11 [==============================] - 0s 3ms/step - loss: 3.7892e-04\n",
            "Epoch 7/50\n",
            " 1/11 [=>............................] - ETA: 0s - loss: 3.7308e-04"
          ]
        },
        {
          "output_type": "stream",
          "name": "stderr",
          "text": [
            "WARNING:tensorflow:Early stopping conditioned on metric `val_loss` which is not available. Available metrics are: loss\n"
          ]
        },
        {
          "output_type": "stream",
          "name": "stdout",
          "text": [
            "\b\b\b\b\b\b\b\b\b\b\b\b\b\b\b\b\b\b\b\b\b\b\b\b\b\b\b\b\b\b\b\b\b\b\b\b\b\b\b\b\b\b\b\b\b\b\b\b\b\b\b\b\b\b\b\b\b\b\b\b\b\b\b\b\b\b\b\r11/11 [==============================] - 0s 3ms/step - loss: 4.0076e-04\n",
            "Epoch 8/50\n",
            " 1/11 [=>............................] - ETA: 0s - loss: 3.7908e-04"
          ]
        },
        {
          "output_type": "stream",
          "name": "stderr",
          "text": [
            "WARNING:tensorflow:Early stopping conditioned on metric `val_loss` which is not available. Available metrics are: loss\n"
          ]
        },
        {
          "output_type": "stream",
          "name": "stdout",
          "text": [
            "\b\b\b\b\b\b\b\b\b\b\b\b\b\b\b\b\b\b\b\b\b\b\b\b\b\b\b\b\b\b\b\b\b\b\b\b\b\b\b\b\b\b\b\b\b\b\b\b\b\b\b\b\b\b\b\b\b\b\b\b\b\b\b\b\b\b\b\r11/11 [==============================] - 0s 3ms/step - loss: 3.6638e-04\n",
            "Epoch 9/50\n",
            " 1/11 [=>............................] - ETA: 0s - loss: 5.3844e-04"
          ]
        },
        {
          "output_type": "stream",
          "name": "stderr",
          "text": [
            "WARNING:tensorflow:Early stopping conditioned on metric `val_loss` which is not available. Available metrics are: loss\n"
          ]
        },
        {
          "output_type": "stream",
          "name": "stdout",
          "text": [
            "\b\b\b\b\b\b\b\b\b\b\b\b\b\b\b\b\b\b\b\b\b\b\b\b\b\b\b\b\b\b\b\b\b\b\b\b\b\b\b\b\b\b\b\b\b\b\b\b\b\b\b\b\b\b\b\b\b\b\b\b\b\b\b\b\b\b\b\r11/11 [==============================] - 0s 3ms/step - loss: 3.5931e-04\n",
            "Epoch 10/50\n",
            " 1/11 [=>............................] - ETA: 0s - loss: 2.4881e-04"
          ]
        },
        {
          "output_type": "stream",
          "name": "stderr",
          "text": [
            "WARNING:tensorflow:Early stopping conditioned on metric `val_loss` which is not available. Available metrics are: loss\n"
          ]
        },
        {
          "output_type": "stream",
          "name": "stdout",
          "text": [
            "\b\b\b\b\b\b\b\b\b\b\b\b\b\b\b\b\b\b\b\b\b\b\b\b\b\b\b\b\b\b\b\b\b\b\b\b\b\b\b\b\b\b\b\b\b\b\b\b\b\b\b\b\b\b\b\b\b\b\b\b\b\b\b\b\b\b\b\r11/11 [==============================] - 0s 3ms/step - loss: 3.5983e-04\n",
            "Epoch 11/50\n",
            " 1/11 [=>............................] - ETA: 0s - loss: 2.2128e-04"
          ]
        },
        {
          "output_type": "stream",
          "name": "stderr",
          "text": [
            "WARNING:tensorflow:Early stopping conditioned on metric `val_loss` which is not available. Available metrics are: loss\n"
          ]
        },
        {
          "output_type": "stream",
          "name": "stdout",
          "text": [
            "\b\b\b\b\b\b\b\b\b\b\b\b\b\b\b\b\b\b\b\b\b\b\b\b\b\b\b\b\b\b\b\b\b\b\b\b\b\b\b\b\b\b\b\b\b\b\b\b\b\b\b\b\b\b\b\b\b\b\b\b\b\b\b\b\b\b\b\r11/11 [==============================] - 0s 4ms/step - loss: 3.5594e-04\n",
            "Epoch 12/50\n",
            " 1/11 [=>............................] - ETA: 0s - loss: 3.6486e-04"
          ]
        },
        {
          "output_type": "stream",
          "name": "stderr",
          "text": [
            "WARNING:tensorflow:Early stopping conditioned on metric `val_loss` which is not available. Available metrics are: loss\n"
          ]
        },
        {
          "output_type": "stream",
          "name": "stdout",
          "text": [
            "\b\b\b\b\b\b\b\b\b\b\b\b\b\b\b\b\b\b\b\b\b\b\b\b\b\b\b\b\b\b\b\b\b\b\b\b\b\b\b\b\b\b\b\b\b\b\b\b\b\b\b\b\b\b\b\b\b\b\b\b\b\b\b\b\b\b\b\r11/11 [==============================] - 0s 5ms/step - loss: 3.6142e-04\n",
            "Epoch 13/50\n",
            " 1/11 [=>............................] - ETA: 0s - loss: 5.4905e-04"
          ]
        },
        {
          "output_type": "stream",
          "name": "stderr",
          "text": [
            "WARNING:tensorflow:Early stopping conditioned on metric `val_loss` which is not available. Available metrics are: loss\n"
          ]
        },
        {
          "output_type": "stream",
          "name": "stdout",
          "text": [
            "\b\b\b\b\b\b\b\b\b\b\b\b\b\b\b\b\b\b\b\b\b\b\b\b\b\b\b\b\b\b\b\b\b\b\b\b\b\b\b\b\b\b\b\b\b\b\b\b\b\b\b\b\b\b\b\b\b\b\b\b\b\b\b\b\b\b\b\r11/11 [==============================] - 0s 3ms/step - loss: 3.8142e-04\n",
            "Epoch 14/50\n",
            " 1/11 [=>............................] - ETA: 0s - loss: 4.6279e-04"
          ]
        },
        {
          "output_type": "stream",
          "name": "stderr",
          "text": [
            "WARNING:tensorflow:Early stopping conditioned on metric `val_loss` which is not available. Available metrics are: loss\n"
          ]
        },
        {
          "output_type": "stream",
          "name": "stdout",
          "text": [
            "\b\b\b\b\b\b\b\b\b\b\b\b\b\b\b\b\b\b\b\b\b\b\b\b\b\b\b\b\b\b\b\b\b\b\b\b\b\b\b\b\b\b\b\b\b\b\b\b\b\b\b\b\b\b\b\b\b\b\b\b\b\b\b\b\b\b\b\r11/11 [==============================] - 0s 3ms/step - loss: 3.7258e-04\n",
            "Epoch 15/50\n",
            " 1/11 [=>............................] - ETA: 0s - loss: 3.9508e-04"
          ]
        },
        {
          "output_type": "stream",
          "name": "stderr",
          "text": [
            "WARNING:tensorflow:Early stopping conditioned on metric `val_loss` which is not available. Available metrics are: loss\n"
          ]
        },
        {
          "output_type": "stream",
          "name": "stdout",
          "text": [
            "\b\b\b\b\b\b\b\b\b\b\b\b\b\b\b\b\b\b\b\b\b\b\b\b\b\b\b\b\b\b\b\b\b\b\b\b\b\b\b\b\b\b\b\b\b\b\b\b\b\b\b\b\b\b\b\b\b\b\b\b\b\b\b\b\b\b\b\r11/11 [==============================] - 0s 3ms/step - loss: 4.2921e-04\n",
            "Epoch 16/50\n",
            " 1/11 [=>............................] - ETA: 0s - loss: 4.0966e-04"
          ]
        },
        {
          "output_type": "stream",
          "name": "stderr",
          "text": [
            "WARNING:tensorflow:Early stopping conditioned on metric `val_loss` which is not available. Available metrics are: loss\n"
          ]
        },
        {
          "output_type": "stream",
          "name": "stdout",
          "text": [
            "\b\b\b\b\b\b\b\b\b\b\b\b\b\b\b\b\b\b\b\b\b\b\b\b\b\b\b\b\b\b\b\b\b\b\b\b\b\b\b\b\b\b\b\b\b\b\b\b\b\b\b\b\b\b\b\b\b\b\b\b\b\b\b\b\b\b\b\r11/11 [==============================] - 0s 4ms/step - loss: 3.7443e-04\n",
            "Epoch 17/50\n",
            " 1/11 [=>............................] - ETA: 0s - loss: 3.7505e-04"
          ]
        },
        {
          "output_type": "stream",
          "name": "stderr",
          "text": [
            "WARNING:tensorflow:Early stopping conditioned on metric `val_loss` which is not available. Available metrics are: loss\n"
          ]
        },
        {
          "output_type": "stream",
          "name": "stdout",
          "text": [
            "\b\b\b\b\b\b\b\b\b\b\b\b\b\b\b\b\b\b\b\b\b\b\b\b\b\b\b\b\b\b\b\b\b\b\b\b\b\b\b\b\b\b\b\b\b\b\b\b\b\b\b\b\b\b\b\b\b\b\b\b\b\b\b\b\b\b\b\r11/11 [==============================] - 0s 3ms/step - loss: 3.6984e-04\n",
            "Epoch 18/50\n",
            " 1/11 [=>............................] - ETA: 0s - loss: 2.8764e-04"
          ]
        },
        {
          "output_type": "stream",
          "name": "stderr",
          "text": [
            "WARNING:tensorflow:Early stopping conditioned on metric `val_loss` which is not available. Available metrics are: loss\n"
          ]
        },
        {
          "output_type": "stream",
          "name": "stdout",
          "text": [
            "\b\b\b\b\b\b\b\b\b\b\b\b\b\b\b\b\b\b\b\b\b\b\b\b\b\b\b\b\b\b\b\b\b\b\b\b\b\b\b\b\b\b\b\b\b\b\b\b\b\b\b\b\b\b\b\b\b\b\b\b\b\b\b\b\b\b\b\r11/11 [==============================] - 0s 3ms/step - loss: 3.6976e-04\n",
            "Epoch 19/50\n",
            " 1/11 [=>............................] - ETA: 0s - loss: 5.6491e-04"
          ]
        },
        {
          "output_type": "stream",
          "name": "stderr",
          "text": [
            "WARNING:tensorflow:Early stopping conditioned on metric `val_loss` which is not available. Available metrics are: loss\n"
          ]
        },
        {
          "output_type": "stream",
          "name": "stdout",
          "text": [
            "\b\b\b\b\b\b\b\b\b\b\b\b\b\b\b\b\b\b\b\b\b\b\b\b\b\b\b\b\b\b\b\b\b\b\b\b\b\b\b\b\b\b\b\b\b\b\b\b\b\b\b\b\b\b\b\b\b\b\b\b\b\b\b\b\b\b\b\r11/11 [==============================] - 0s 3ms/step - loss: 3.8304e-04\n",
            "Epoch 20/50\n",
            " 1/11 [=>............................] - ETA: 0s - loss: 3.3664e-04"
          ]
        },
        {
          "output_type": "stream",
          "name": "stderr",
          "text": [
            "WARNING:tensorflow:Early stopping conditioned on metric `val_loss` which is not available. Available metrics are: loss\n"
          ]
        },
        {
          "output_type": "stream",
          "name": "stdout",
          "text": [
            "\b\b\b\b\b\b\b\b\b\b\b\b\b\b\b\b\b\b\b\b\b\b\b\b\b\b\b\b\b\b\b\b\b\b\b\b\b\b\b\b\b\b\b\b\b\b\b\b\b\b\b\b\b\b\b\b\b\b\b\b\b\b\b\b\b\b\b\r11/11 [==============================] - 0s 3ms/step - loss: 3.6126e-04\n",
            "Epoch 21/50\n",
            " 1/11 [=>............................] - ETA: 0s - loss: 2.0019e-04"
          ]
        },
        {
          "output_type": "stream",
          "name": "stderr",
          "text": [
            "WARNING:tensorflow:Early stopping conditioned on metric `val_loss` which is not available. Available metrics are: loss\n"
          ]
        },
        {
          "output_type": "stream",
          "name": "stdout",
          "text": [
            "\b\b\b\b\b\b\b\b\b\b\b\b\b\b\b\b\b\b\b\b\b\b\b\b\b\b\b\b\b\b\b\b\b\b\b\b\b\b\b\b\b\b\b\b\b\b\b\b\b\b\b\b\b\b\b\b\b\b\b\b\b\b\b\b\b\b\b\r11/11 [==============================] - 0s 4ms/step - loss: 3.6511e-04\n",
            "Epoch 22/50\n",
            " 1/11 [=>............................] - ETA: 0s - loss: 2.4507e-04"
          ]
        },
        {
          "output_type": "stream",
          "name": "stderr",
          "text": [
            "WARNING:tensorflow:Early stopping conditioned on metric `val_loss` which is not available. Available metrics are: loss\n"
          ]
        },
        {
          "output_type": "stream",
          "name": "stdout",
          "text": [
            "\b\b\b\b\b\b\b\b\b\b\b\b\b\b\b\b\b\b\b\b\b\b\b\b\b\b\b\b\b\b\b\b\b\b\b\b\b\b\b\b\b\b\b\b\b\b\b\b\b\b\b\b\b\b\b\b\b\b\b\b\b\b\b\b\b\b\b\r11/11 [==============================] - 0s 3ms/step - loss: 3.5512e-04\n",
            "Epoch 23/50\n",
            " 1/11 [=>............................] - ETA: 0s - loss: 3.8988e-04"
          ]
        },
        {
          "output_type": "stream",
          "name": "stderr",
          "text": [
            "WARNING:tensorflow:Early stopping conditioned on metric `val_loss` which is not available. Available metrics are: loss\n"
          ]
        },
        {
          "output_type": "stream",
          "name": "stdout",
          "text": [
            "\b\b\b\b\b\b\b\b\b\b\b\b\b\b\b\b\b\b\b\b\b\b\b\b\b\b\b\b\b\b\b\b\b\b\b\b\b\b\b\b\b\b\b\b\b\b\b\b\b\b\b\b\b\b\b\b\b\b\b\b\b\b\b\b\b\b\b\r11/11 [==============================] - 0s 3ms/step - loss: 3.5280e-04\n",
            "Epoch 24/50\n",
            " 1/11 [=>............................] - ETA: 0s - loss: 3.7551e-04"
          ]
        },
        {
          "output_type": "stream",
          "name": "stderr",
          "text": [
            "WARNING:tensorflow:Early stopping conditioned on metric `val_loss` which is not available. Available metrics are: loss\n"
          ]
        },
        {
          "output_type": "stream",
          "name": "stdout",
          "text": [
            "\b\b\b\b\b\b\b\b\b\b\b\b\b\b\b\b\b\b\b\b\b\b\b\b\b\b\b\b\b\b\b\b\b\b\b\b\b\b\b\b\b\b\b\b\b\b\b\b\b\b\b\b\b\b\b\b\b\b\b\b\b\b\b\b\b\b\b\r11/11 [==============================] - 0s 3ms/step - loss: 3.5500e-04\n",
            "Epoch 25/50\n",
            " 1/11 [=>............................] - ETA: 0s - loss: 4.0602e-04"
          ]
        },
        {
          "output_type": "stream",
          "name": "stderr",
          "text": [
            "WARNING:tensorflow:Early stopping conditioned on metric `val_loss` which is not available. Available metrics are: loss\n"
          ]
        },
        {
          "output_type": "stream",
          "name": "stdout",
          "text": [
            "\b\b\b\b\b\b\b\b\b\b\b\b\b\b\b\b\b\b\b\b\b\b\b\b\b\b\b\b\b\b\b\b\b\b\b\b\b\b\b\b\b\b\b\b\b\b\b\b\b\b\b\b\b\b\b\b\b\b\b\b\b\b\b\b\b\b\b\r11/11 [==============================] - 0s 3ms/step - loss: 3.5550e-04\n",
            "Epoch 26/50\n",
            " 1/11 [=>............................] - ETA: 0s - loss: 2.8430e-04"
          ]
        },
        {
          "output_type": "stream",
          "name": "stderr",
          "text": [
            "WARNING:tensorflow:Early stopping conditioned on metric `val_loss` which is not available. Available metrics are: loss\n"
          ]
        },
        {
          "output_type": "stream",
          "name": "stdout",
          "text": [
            "\b\b\b\b\b\b\b\b\b\b\b\b\b\b\b\b\b\b\b\b\b\b\b\b\b\b\b\b\b\b\b\b\b\b\b\b\b\b\b\b\b\b\b\b\b\b\b\b\b\b\b\b\b\b\b\b\b\b\b\b\b\b\b\b\b\b\b\r11/11 [==============================] - 0s 3ms/step - loss: 3.6427e-04\n",
            "Epoch 27/50\n",
            " 1/11 [=>............................] - ETA: 0s - loss: 2.6802e-04"
          ]
        },
        {
          "output_type": "stream",
          "name": "stderr",
          "text": [
            "WARNING:tensorflow:Early stopping conditioned on metric `val_loss` which is not available. Available metrics are: loss\n"
          ]
        },
        {
          "output_type": "stream",
          "name": "stdout",
          "text": [
            "\b\b\b\b\b\b\b\b\b\b\b\b\b\b\b\b\b\b\b\b\b\b\b\b\b\b\b\b\b\b\b\b\b\b\b\b\b\b\b\b\b\b\b\b\b\b\b\b\b\b\b\b\b\b\b\b\b\b\b\b\b\b\b\b\b\b\b\r11/11 [==============================] - 0s 3ms/step - loss: 3.6547e-04\n",
            "Epoch 28/50\n",
            " 1/11 [=>............................] - ETA: 0s - loss: 4.3880e-04"
          ]
        },
        {
          "output_type": "stream",
          "name": "stderr",
          "text": [
            "WARNING:tensorflow:Early stopping conditioned on metric `val_loss` which is not available. Available metrics are: loss\n"
          ]
        },
        {
          "output_type": "stream",
          "name": "stdout",
          "text": [
            "\b\b\b\b\b\b\b\b\b\b\b\b\b\b\b\b\b\b\b\b\b\b\b\b\b\b\b\b\b\b\b\b\b\b\b\b\b\b\b\b\b\b\b\b\b\b\b\b\b\b\b\b\b\b\b\b\b\b\b\b\b\b\b\b\b\b\b\r11/11 [==============================] - 0s 4ms/step - loss: 3.5163e-04\n",
            "Epoch 29/50\n",
            " 1/11 [=>............................] - ETA: 0s - loss: 5.2198e-04"
          ]
        },
        {
          "output_type": "stream",
          "name": "stderr",
          "text": [
            "WARNING:tensorflow:Early stopping conditioned on metric `val_loss` which is not available. Available metrics are: loss\n"
          ]
        },
        {
          "output_type": "stream",
          "name": "stdout",
          "text": [
            "\b\b\b\b\b\b\b\b\b\b\b\b\b\b\b\b\b\b\b\b\b\b\b\b\b\b\b\b\b\b\b\b\b\b\b\b\b\b\b\b\b\b\b\b\b\b\b\b\b\b\b\b\b\b\b\b\b\b\b\b\b\b\b\b\b\b\b\r11/11 [==============================] - 0s 3ms/step - loss: 3.5693e-04\n",
            "Epoch 30/50\n",
            " 1/11 [=>............................] - ETA: 0s - loss: 3.7962e-04"
          ]
        },
        {
          "output_type": "stream",
          "name": "stderr",
          "text": [
            "WARNING:tensorflow:Early stopping conditioned on metric `val_loss` which is not available. Available metrics are: loss\n"
          ]
        },
        {
          "output_type": "stream",
          "name": "stdout",
          "text": [
            "\b\b\b\b\b\b\b\b\b\b\b\b\b\b\b\b\b\b\b\b\b\b\b\b\b\b\b\b\b\b\b\b\b\b\b\b\b\b\b\b\b\b\b\b\b\b\b\b\b\b\b\b\b\b\b\b\b\b\b\b\b\b\b\b\b\b\b\r11/11 [==============================] - 0s 4ms/step - loss: 3.4861e-04\n",
            "Epoch 31/50\n",
            " 1/11 [=>............................] - ETA: 0s - loss: 4.7878e-04"
          ]
        },
        {
          "output_type": "stream",
          "name": "stderr",
          "text": [
            "WARNING:tensorflow:Early stopping conditioned on metric `val_loss` which is not available. Available metrics are: loss\n"
          ]
        },
        {
          "output_type": "stream",
          "name": "stdout",
          "text": [
            "\b\b\b\b\b\b\b\b\b\b\b\b\b\b\b\b\b\b\b\b\b\b\b\b\b\b\b\b\b\b\b\b\b\b\b\b\b\b\b\b\b\b\b\b\b\b\b\b\b\b\b\b\b\b\b\b\b\b\b\b\b\b\b\b\b\b\b\r11/11 [==============================] - 0s 4ms/step - loss: 3.4946e-04\n",
            "Epoch 32/50\n",
            " 1/11 [=>............................] - ETA: 0s - loss: 3.1605e-04"
          ]
        },
        {
          "output_type": "stream",
          "name": "stderr",
          "text": [
            "WARNING:tensorflow:Early stopping conditioned on metric `val_loss` which is not available. Available metrics are: loss\n"
          ]
        },
        {
          "output_type": "stream",
          "name": "stdout",
          "text": [
            "\b\b\b\b\b\b\b\b\b\b\b\b\b\b\b\b\b\b\b\b\b\b\b\b\b\b\b\b\b\b\b\b\b\b\b\b\b\b\b\b\b\b\b\b\b\b\b\b\b\b\b\b\b\b\b\b\b\b\b\b\b\b\b\b\b\b\b\r11/11 [==============================] - 0s 3ms/step - loss: 3.7114e-04\n",
            "Epoch 33/50\n",
            " 1/11 [=>............................] - ETA: 0s - loss: 3.1433e-04"
          ]
        },
        {
          "output_type": "stream",
          "name": "stderr",
          "text": [
            "WARNING:tensorflow:Early stopping conditioned on metric `val_loss` which is not available. Available metrics are: loss\n"
          ]
        },
        {
          "output_type": "stream",
          "name": "stdout",
          "text": [
            "\b\b\b\b\b\b\b\b\b\b\b\b\b\b\b\b\b\b\b\b\b\b\b\b\b\b\b\b\b\b\b\b\b\b\b\b\b\b\b\b\b\b\b\b\b\b\b\b\b\b\b\b\b\b\b\b\b\b\b\b\b\b\b\b\b\b\b\r11/11 [==============================] - 0s 3ms/step - loss: 3.7428e-04\n",
            "Epoch 34/50\n",
            " 1/11 [=>............................] - ETA: 0s - loss: 3.7911e-04"
          ]
        },
        {
          "output_type": "stream",
          "name": "stderr",
          "text": [
            "WARNING:tensorflow:Early stopping conditioned on metric `val_loss` which is not available. Available metrics are: loss\n"
          ]
        },
        {
          "output_type": "stream",
          "name": "stdout",
          "text": [
            "\b\b\b\b\b\b\b\b\b\b\b\b\b\b\b\b\b\b\b\b\b\b\b\b\b\b\b\b\b\b\b\b\b\b\b\b\b\b\b\b\b\b\b\b\b\b\b\b\b\b\b\b\b\b\b\b\b\b\b\b\b\b\b\b\b\b\b\r11/11 [==============================] - 0s 4ms/step - loss: 3.5332e-04\n",
            "Epoch 35/50\n",
            " 1/11 [=>............................] - ETA: 0s - loss: 3.6197e-04"
          ]
        },
        {
          "output_type": "stream",
          "name": "stderr",
          "text": [
            "WARNING:tensorflow:Early stopping conditioned on metric `val_loss` which is not available. Available metrics are: loss\n"
          ]
        },
        {
          "output_type": "stream",
          "name": "stdout",
          "text": [
            "\b\b\b\b\b\b\b\b\b\b\b\b\b\b\b\b\b\b\b\b\b\b\b\b\b\b\b\b\b\b\b\b\b\b\b\b\b\b\b\b\b\b\b\b\b\b\b\b\b\b\b\b\b\b\b\b\b\b\b\b\b\b\b\b\b\b\b\r11/11 [==============================] - 0s 5ms/step - loss: 4.0089e-04\n",
            "Epoch 36/50\n",
            " 1/11 [=>............................] - ETA: 0s - loss: 4.3259e-04"
          ]
        },
        {
          "output_type": "stream",
          "name": "stderr",
          "text": [
            "WARNING:tensorflow:Early stopping conditioned on metric `val_loss` which is not available. Available metrics are: loss\n"
          ]
        },
        {
          "output_type": "stream",
          "name": "stdout",
          "text": [
            "\b\b\b\b\b\b\b\b\b\b\b\b\b\b\b\b\b\b\b\b\b\b\b\b\b\b\b\b\b\b\b\b\b\b\b\b\b\b\b\b\b\b\b\b\b\b\b\b\b\b\b\b\b\b\b\b\b\b\b\b\b\b\b\b\b\b\b\r11/11 [==============================] - 0s 3ms/step - loss: 3.5029e-04\n",
            "Epoch 37/50\n",
            " 1/11 [=>............................] - ETA: 0s - loss: 3.8581e-04"
          ]
        },
        {
          "output_type": "stream",
          "name": "stderr",
          "text": [
            "WARNING:tensorflow:Early stopping conditioned on metric `val_loss` which is not available. Available metrics are: loss\n"
          ]
        },
        {
          "output_type": "stream",
          "name": "stdout",
          "text": [
            "\b\b\b\b\b\b\b\b\b\b\b\b\b\b\b\b\b\b\b\b\b\b\b\b\b\b\b\b\b\b\b\b\b\b\b\b\b\b\b\b\b\b\b\b\b\b\b\b\b\b\b\b\b\b\b\b\b\b\b\b\b\b\b\b\b\b\b\r11/11 [==============================] - 0s 3ms/step - loss: 3.5652e-04\n",
            "Epoch 38/50\n",
            " 1/11 [=>............................] - ETA: 0s - loss: 2.0082e-04"
          ]
        },
        {
          "output_type": "stream",
          "name": "stderr",
          "text": [
            "WARNING:tensorflow:Early stopping conditioned on metric `val_loss` which is not available. Available metrics are: loss\n"
          ]
        },
        {
          "output_type": "stream",
          "name": "stdout",
          "text": [
            "\b\b\b\b\b\b\b\b\b\b\b\b\b\b\b\b\b\b\b\b\b\b\b\b\b\b\b\b\b\b\b\b\b\b\b\b\b\b\b\b\b\b\b\b\b\b\b\b\b\b\b\b\b\b\b\b\b\b\b\b\b\b\b\b\b\b\b\r11/11 [==============================] - 0s 4ms/step - loss: 3.8308e-04\n",
            "Epoch 39/50\n",
            " 1/11 [=>............................] - ETA: 0s - loss: 2.7761e-04"
          ]
        },
        {
          "output_type": "stream",
          "name": "stderr",
          "text": [
            "WARNING:tensorflow:Early stopping conditioned on metric `val_loss` which is not available. Available metrics are: loss\n"
          ]
        },
        {
          "output_type": "stream",
          "name": "stdout",
          "text": [
            "\b\b\b\b\b\b\b\b\b\b\b\b\b\b\b\b\b\b\b\b\b\b\b\b\b\b\b\b\b\b\b\b\b\b\b\b\b\b\b\b\b\b\b\b\b\b\b\b\b\b\b\b\b\b\b\b\b\b\b\b\b\b\b\b\b\b\b\r11/11 [==============================] - 0s 4ms/step - loss: 3.5099e-04\n",
            "Epoch 40/50\n",
            " 1/11 [=>............................] - ETA: 0s - loss: 2.4660e-04"
          ]
        },
        {
          "output_type": "stream",
          "name": "stderr",
          "text": [
            "WARNING:tensorflow:Early stopping conditioned on metric `val_loss` which is not available. Available metrics are: loss\n"
          ]
        },
        {
          "output_type": "stream",
          "name": "stdout",
          "text": [
            "\b\b\b\b\b\b\b\b\b\b\b\b\b\b\b\b\b\b\b\b\b\b\b\b\b\b\b\b\b\b\b\b\b\b\b\b\b\b\b\b\b\b\b\b\b\b\b\b\b\b\b\b\b\b\b\b\b\b\b\b\b\b\b\b\b\b\b\r11/11 [==============================] - 0s 3ms/step - loss: 3.6688e-04\n",
            "Epoch 41/50\n",
            " 1/11 [=>............................] - ETA: 0s - loss: 2.9461e-04"
          ]
        },
        {
          "output_type": "stream",
          "name": "stderr",
          "text": [
            "WARNING:tensorflow:Early stopping conditioned on metric `val_loss` which is not available. Available metrics are: loss\n"
          ]
        },
        {
          "output_type": "stream",
          "name": "stdout",
          "text": [
            "\b\b\b\b\b\b\b\b\b\b\b\b\b\b\b\b\b\b\b\b\b\b\b\b\b\b\b\b\b\b\b\b\b\b\b\b\b\b\b\b\b\b\b\b\b\b\b\b\b\b\b\b\b\b\b\b\b\b\b\b\b\b\b\b\b\b\b\r11/11 [==============================] - 0s 3ms/step - loss: 3.5907e-04\n",
            "Epoch 42/50\n",
            " 1/11 [=>............................] - ETA: 0s - loss: 3.9151e-04"
          ]
        },
        {
          "output_type": "stream",
          "name": "stderr",
          "text": [
            "WARNING:tensorflow:Early stopping conditioned on metric `val_loss` which is not available. Available metrics are: loss\n"
          ]
        },
        {
          "output_type": "stream",
          "name": "stdout",
          "text": [
            "\b\b\b\b\b\b\b\b\b\b\b\b\b\b\b\b\b\b\b\b\b\b\b\b\b\b\b\b\b\b\b\b\b\b\b\b\b\b\b\b\b\b\b\b\b\b\b\b\b\b\b\b\b\b\b\b\b\b\b\b\b\b\b\b\b\b\b\r11/11 [==============================] - 0s 3ms/step - loss: 3.4719e-04\n",
            "Epoch 43/50\n",
            " 1/11 [=>............................] - ETA: 0s - loss: 4.4273e-04"
          ]
        },
        {
          "output_type": "stream",
          "name": "stderr",
          "text": [
            "WARNING:tensorflow:Early stopping conditioned on metric `val_loss` which is not available. Available metrics are: loss\n"
          ]
        },
        {
          "output_type": "stream",
          "name": "stdout",
          "text": [
            "\b\b\b\b\b\b\b\b\b\b\b\b\b\b\b\b\b\b\b\b\b\b\b\b\b\b\b\b\b\b\b\b\b\b\b\b\b\b\b\b\b\b\b\b\b\b\b\b\b\b\b\b\b\b\b\b\b\b\b\b\b\b\b\b\b\b\b\r11/11 [==============================] - 0s 3ms/step - loss: 3.4964e-04\n",
            "Epoch 44/50\n",
            " 1/11 [=>............................] - ETA: 0s - loss: 4.6362e-04"
          ]
        },
        {
          "output_type": "stream",
          "name": "stderr",
          "text": [
            "WARNING:tensorflow:Early stopping conditioned on metric `val_loss` which is not available. Available metrics are: loss\n"
          ]
        },
        {
          "output_type": "stream",
          "name": "stdout",
          "text": [
            "\b\b\b\b\b\b\b\b\b\b\b\b\b\b\b\b\b\b\b\b\b\b\b\b\b\b\b\b\b\b\b\b\b\b\b\b\b\b\b\b\b\b\b\b\b\b\b\b\b\b\b\b\b\b\b\b\b\b\b\b\b\b\b\b\b\b\b\r11/11 [==============================] - 0s 4ms/step - loss: 3.5100e-04\n",
            "Epoch 45/50\n",
            " 1/11 [=>............................] - ETA: 0s - loss: 4.0531e-04"
          ]
        },
        {
          "output_type": "stream",
          "name": "stderr",
          "text": [
            "WARNING:tensorflow:Early stopping conditioned on metric `val_loss` which is not available. Available metrics are: loss\n"
          ]
        },
        {
          "output_type": "stream",
          "name": "stdout",
          "text": [
            "\b\b\b\b\b\b\b\b\b\b\b\b\b\b\b\b\b\b\b\b\b\b\b\b\b\b\b\b\b\b\b\b\b\b\b\b\b\b\b\b\b\b\b\b\b\b\b\b\b\b\b\b\b\b\b\b\b\b\b\b\b\b\b\b\b\b\b\r11/11 [==============================] - 0s 4ms/step - loss: 3.6148e-04\n",
            "Epoch 46/50\n",
            " 1/11 [=>............................] - ETA: 0s - loss: 3.9464e-04"
          ]
        },
        {
          "output_type": "stream",
          "name": "stderr",
          "text": [
            "WARNING:tensorflow:Early stopping conditioned on metric `val_loss` which is not available. Available metrics are: loss\n"
          ]
        },
        {
          "output_type": "stream",
          "name": "stdout",
          "text": [
            "\b\b\b\b\b\b\b\b\b\b\b\b\b\b\b\b\b\b\b\b\b\b\b\b\b\b\b\b\b\b\b\b\b\b\b\b\b\b\b\b\b\b\b\b\b\b\b\b\b\b\b\b\b\b\b\b\b\b\b\b\b\b\b\b\b\b\b\r11/11 [==============================] - 0s 3ms/step - loss: 3.8603e-04\n",
            "Epoch 47/50\n",
            " 1/11 [=>............................] - ETA: 0s - loss: 5.0637e-04"
          ]
        },
        {
          "output_type": "stream",
          "name": "stderr",
          "text": [
            "WARNING:tensorflow:Early stopping conditioned on metric `val_loss` which is not available. Available metrics are: loss\n"
          ]
        },
        {
          "output_type": "stream",
          "name": "stdout",
          "text": [
            "\b\b\b\b\b\b\b\b\b\b\b\b\b\b\b\b\b\b\b\b\b\b\b\b\b\b\b\b\b\b\b\b\b\b\b\b\b\b\b\b\b\b\b\b\b\b\b\b\b\b\b\b\b\b\b\b\b\b\b\b\b\b\b\b\b\b\b\r11/11 [==============================] - 0s 3ms/step - loss: 4.3040e-04\n",
            "Epoch 48/50\n",
            " 1/11 [=>............................] - ETA: 0s - loss: 5.6969e-04"
          ]
        },
        {
          "output_type": "stream",
          "name": "stderr",
          "text": [
            "WARNING:tensorflow:Early stopping conditioned on metric `val_loss` which is not available. Available metrics are: loss\n"
          ]
        },
        {
          "output_type": "stream",
          "name": "stdout",
          "text": [
            "\b\b\b\b\b\b\b\b\b\b\b\b\b\b\b\b\b\b\b\b\b\b\b\b\b\b\b\b\b\b\b\b\b\b\b\b\b\b\b\b\b\b\b\b\b\b\b\b\b\b\b\b\b\b\b\b\b\b\b\b\b\b\b\b\b\b\b\r11/11 [==============================] - 0s 4ms/step - loss: 3.7632e-04\n",
            "Epoch 49/50\n",
            " 1/11 [=>............................] - ETA: 0s - loss: 1.4124e-04"
          ]
        },
        {
          "output_type": "stream",
          "name": "stderr",
          "text": [
            "WARNING:tensorflow:Early stopping conditioned on metric `val_loss` which is not available. Available metrics are: loss\n"
          ]
        },
        {
          "output_type": "stream",
          "name": "stdout",
          "text": [
            "\b\b\b\b\b\b\b\b\b\b\b\b\b\b\b\b\b\b\b\b\b\b\b\b\b\b\b\b\b\b\b\b\b\b\b\b\b\b\b\b\b\b\b\b\b\b\b\b\b\b\b\b\b\b\b\b\b\b\b\b\b\b\b\b\b\b\b\r11/11 [==============================] - 0s 3ms/step - loss: 3.4319e-04\n",
            "Epoch 50/50\n",
            " 1/11 [=>............................] - ETA: 0s - loss: 3.6065e-04"
          ]
        },
        {
          "output_type": "stream",
          "name": "stderr",
          "text": [
            "WARNING:tensorflow:Early stopping conditioned on metric `val_loss` which is not available. Available metrics are: loss\n"
          ]
        },
        {
          "output_type": "stream",
          "name": "stdout",
          "text": [
            "11/11 [==============================] - 0s 3ms/step - loss: 3.3729e-04\n",
            "6/6 [==============================] - 0s 3ms/step\n",
            "Test RMSE: 6.928547092052949\n",
            "Test MAE: 4.979264490597608\n",
            "Test MAPE: 1.5873170468879667%\n",
            "Epoch 1/50\n",
            " 1/16 [>.............................] - ETA: 0s - loss: 3.4356e-04"
          ]
        },
        {
          "output_type": "stream",
          "name": "stderr",
          "text": [
            "WARNING:tensorflow:Early stopping conditioned on metric `val_loss` which is not available. Available metrics are: loss\n"
          ]
        },
        {
          "output_type": "stream",
          "name": "stdout",
          "text": [
            "\b\b\b\b\b\b\b\b\b\b\b\b\b\b\b\b\b\b\b\b\b\b\b\b\b\b\b\b\b\b\b\b\b\b\b\b\b\b\b\b\b\b\b\b\b\b\b\b\b\b\b\b\b\b\b\b\b\b\b\b\b\b\b\b\b\b\b\r16/16 [==============================] - 0s 3ms/step - loss: 3.0975e-04\n",
            "Epoch 2/50\n",
            " 1/16 [>.............................] - ETA: 0s - loss: 5.9719e-04"
          ]
        },
        {
          "output_type": "stream",
          "name": "stderr",
          "text": [
            "WARNING:tensorflow:Early stopping conditioned on metric `val_loss` which is not available. Available metrics are: loss\n"
          ]
        },
        {
          "output_type": "stream",
          "name": "stdout",
          "text": [
            "\b\b\b\b\b\b\b\b\b\b\b\b\b\b\b\b\b\b\b\b\b\b\b\b\b\b\b\b\b\b\b\b\b\b\b\b\b\b\b\b\b\b\b\b\b\b\b\b\b\b\b\b\b\b\b\b\b\b\b\b\b\b\b\b\b\b\b\r16/16 [==============================] - 0s 3ms/step - loss: 3.4218e-04\n",
            "Epoch 3/50\n",
            " 1/16 [>.............................] - ETA: 0s - loss: 4.8749e-04"
          ]
        },
        {
          "output_type": "stream",
          "name": "stderr",
          "text": [
            "WARNING:tensorflow:Early stopping conditioned on metric `val_loss` which is not available. Available metrics are: loss\n"
          ]
        },
        {
          "output_type": "stream",
          "name": "stdout",
          "text": [
            "\b\b\b\b\b\b\b\b\b\b\b\b\b\b\b\b\b\b\b\b\b\b\b\b\b\b\b\b\b\b\b\b\b\b\b\b\b\b\b\b\b\b\b\b\b\b\b\b\b\b\b\b\b\b\b\b\b\b\b\b\b\b\b\b\b\b\b\r16/16 [==============================] - 0s 2ms/step - loss: 3.3538e-04\n",
            "Epoch 4/50\n",
            " 1/16 [>.............................] - ETA: 0s - loss: 2.4339e-04"
          ]
        },
        {
          "output_type": "stream",
          "name": "stderr",
          "text": [
            "WARNING:tensorflow:Early stopping conditioned on metric `val_loss` which is not available. Available metrics are: loss\n"
          ]
        },
        {
          "output_type": "stream",
          "name": "stdout",
          "text": [
            "\b\b\b\b\b\b\b\b\b\b\b\b\b\b\b\b\b\b\b\b\b\b\b\b\b\b\b\b\b\b\b\b\b\b\b\b\b\b\b\b\b\b\b\b\b\b\b\b\b\b\b\b\b\b\b\b\b\b\b\b\b\b\b\b\b\b\b\r16/16 [==============================] - 0s 3ms/step - loss: 3.5617e-04\n",
            "Epoch 5/50\n",
            " 1/16 [>.............................] - ETA: 0s - loss: 2.5831e-04"
          ]
        },
        {
          "output_type": "stream",
          "name": "stderr",
          "text": [
            "WARNING:tensorflow:Early stopping conditioned on metric `val_loss` which is not available. Available metrics are: loss\n"
          ]
        },
        {
          "output_type": "stream",
          "name": "stdout",
          "text": [
            "\b\b\b\b\b\b\b\b\b\b\b\b\b\b\b\b\b\b\b\b\b\b\b\b\b\b\b\b\b\b\b\b\b\b\b\b\b\b\b\b\b\b\b\b\b\b\b\b\b\b\b\b\b\b\b\b\b\b\b\b\b\b\b\b\b\b\b\r16/16 [==============================] - 0s 3ms/step - loss: 3.1321e-04\n",
            "Epoch 6/50\n",
            "16/16 [==============================] - ETA: 0s - loss: 3.4485e-04"
          ]
        },
        {
          "output_type": "stream",
          "name": "stderr",
          "text": [
            "WARNING:tensorflow:Early stopping conditioned on metric `val_loss` which is not available. Available metrics are: loss\n"
          ]
        },
        {
          "output_type": "stream",
          "name": "stdout",
          "text": [
            "\b\b\b\b\b\b\b\b\b\b\b\b\b\b\b\b\b\b\b\b\b\b\b\b\b\b\b\b\b\b\b\b\b\b\b\b\b\b\b\b\b\b\b\b\b\b\b\b\b\b\b\b\b\b\b\b\b\b\b\b\b\b\b\b\b\b\b\r16/16 [==============================] - 0s 4ms/step - loss: 3.4485e-04\n",
            "Epoch 7/50\n",
            " 1/16 [>.............................] - ETA: 0s - loss: 2.9169e-04"
          ]
        },
        {
          "output_type": "stream",
          "name": "stderr",
          "text": [
            "WARNING:tensorflow:Early stopping conditioned on metric `val_loss` which is not available. Available metrics are: loss\n"
          ]
        },
        {
          "output_type": "stream",
          "name": "stdout",
          "text": [
            "\b\b\b\b\b\b\b\b\b\b\b\b\b\b\b\b\b\b\b\b\b\b\b\b\b\b\b\b\b\b\b\b\b\b\b\b\b\b\b\b\b\b\b\b\b\b\b\b\b\b\b\b\b\b\b\b\b\b\b\b\b\b\b\b\b\b\b\r16/16 [==============================] - 0s 3ms/step - loss: 3.0444e-04\n",
            "Epoch 8/50\n",
            " 1/16 [>.............................] - ETA: 0s - loss: 1.9806e-04"
          ]
        },
        {
          "output_type": "stream",
          "name": "stderr",
          "text": [
            "WARNING:tensorflow:Early stopping conditioned on metric `val_loss` which is not available. Available metrics are: loss\n"
          ]
        },
        {
          "output_type": "stream",
          "name": "stdout",
          "text": [
            "\b\b\b\b\b\b\b\b\b\b\b\b\b\b\b\b\b\b\b\b\b\b\b\b\b\b\b\b\b\b\b\b\b\b\b\b\b\b\b\b\b\b\b\b\b\b\b\b\b\b\b\b\b\b\b\b\b\b\b\b\b\b\b\b\b\b\b\r16/16 [==============================] - 0s 3ms/step - loss: 3.1255e-04\n",
            "Epoch 9/50\n",
            " 1/16 [>.............................] - ETA: 0s - loss: 1.6689e-04"
          ]
        },
        {
          "output_type": "stream",
          "name": "stderr",
          "text": [
            "WARNING:tensorflow:Early stopping conditioned on metric `val_loss` which is not available. Available metrics are: loss\n"
          ]
        },
        {
          "output_type": "stream",
          "name": "stdout",
          "text": [
            "\b\b\b\b\b\b\b\b\b\b\b\b\b\b\b\b\b\b\b\b\b\b\b\b\b\b\b\b\b\b\b\b\b\b\b\b\b\b\b\b\b\b\b\b\b\b\b\b\b\b\b\b\b\b\b\b\b\b\b\b\b\b\b\b\b\b\b\r16/16 [==============================] - 0s 3ms/step - loss: 3.0953e-04\n",
            "Epoch 10/50\n",
            " 1/16 [>.............................] - ETA: 0s - loss: 3.4584e-04"
          ]
        },
        {
          "output_type": "stream",
          "name": "stderr",
          "text": [
            "WARNING:tensorflow:Early stopping conditioned on metric `val_loss` which is not available. Available metrics are: loss\n"
          ]
        },
        {
          "output_type": "stream",
          "name": "stdout",
          "text": [
            "\b\b\b\b\b\b\b\b\b\b\b\b\b\b\b\b\b\b\b\b\b\b\b\b\b\b\b\b\b\b\b\b\b\b\b\b\b\b\b\b\b\b\b\b\b\b\b\b\b\b\b\b\b\b\b\b\b\b\b\b\b\b\b\b\b\b\b\r16/16 [==============================] - 0s 3ms/step - loss: 2.9813e-04\n",
            "Epoch 11/50\n",
            " 1/16 [>.............................] - ETA: 0s - loss: 1.7955e-04"
          ]
        },
        {
          "output_type": "stream",
          "name": "stderr",
          "text": [
            "WARNING:tensorflow:Early stopping conditioned on metric `val_loss` which is not available. Available metrics are: loss\n"
          ]
        },
        {
          "output_type": "stream",
          "name": "stdout",
          "text": [
            "\b\b\b\b\b\b\b\b\b\b\b\b\b\b\b\b\b\b\b\b\b\b\b\b\b\b\b\b\b\b\b\b\b\b\b\b\b\b\b\b\b\b\b\b\b\b\b\b\b\b\b\b\b\b\b\b\b\b\b\b\b\b\b\b\b\b\b\r16/16 [==============================] - 0s 3ms/step - loss: 3.0008e-04\n",
            "Epoch 12/50\n",
            " 1/16 [>.............................] - ETA: 0s - loss: 1.9946e-04"
          ]
        },
        {
          "output_type": "stream",
          "name": "stderr",
          "text": [
            "WARNING:tensorflow:Early stopping conditioned on metric `val_loss` which is not available. Available metrics are: loss\n"
          ]
        },
        {
          "output_type": "stream",
          "name": "stdout",
          "text": [
            "\b\b\b\b\b\b\b\b\b\b\b\b\b\b\b\b\b\b\b\b\b\b\b\b\b\b\b\b\b\b\b\b\b\b\b\b\b\b\b\b\b\b\b\b\b\b\b\b\b\b\b\b\b\b\b\b\b\b\b\b\b\b\b\b\b\b\b\r16/16 [==============================] - 0s 3ms/step - loss: 2.9955e-04\n",
            "Epoch 13/50\n",
            "11/16 [===================>..........] - ETA: 0s - loss: 3.1346e-04"
          ]
        },
        {
          "output_type": "stream",
          "name": "stderr",
          "text": [
            "WARNING:tensorflow:Early stopping conditioned on metric `val_loss` which is not available. Available metrics are: loss\n"
          ]
        },
        {
          "output_type": "stream",
          "name": "stdout",
          "text": [
            "\b\b\b\b\b\b\b\b\b\b\b\b\b\b\b\b\b\b\b\b\b\b\b\b\b\b\b\b\b\b\b\b\b\b\b\b\b\b\b\b\b\b\b\b\b\b\b\b\b\b\b\b\b\b\b\b\b\b\b\b\b\b\b\b\b\b\b\r16/16 [==============================] - 0s 5ms/step - loss: 2.9909e-04\n",
            "Epoch 14/50\n",
            "16/16 [==============================] - ETA: 0s - loss: 3.2153e-04"
          ]
        },
        {
          "output_type": "stream",
          "name": "stderr",
          "text": [
            "WARNING:tensorflow:Early stopping conditioned on metric `val_loss` which is not available. Available metrics are: loss\n"
          ]
        },
        {
          "output_type": "stream",
          "name": "stdout",
          "text": [
            "\b\b\b\b\b\b\b\b\b\b\b\b\b\b\b\b\b\b\b\b\b\b\b\b\b\b\b\b\b\b\b\b\b\b\b\b\b\b\b\b\b\b\b\b\b\b\b\b\b\b\b\b\b\b\b\b\b\b\b\b\b\b\b\b\b\b\b\r16/16 [==============================] - 0s 4ms/step - loss: 3.2153e-04\n",
            "Epoch 15/50\n",
            " 1/16 [>.............................] - ETA: 0s - loss: 3.4716e-04"
          ]
        },
        {
          "output_type": "stream",
          "name": "stderr",
          "text": [
            "WARNING:tensorflow:Early stopping conditioned on metric `val_loss` which is not available. Available metrics are: loss\n"
          ]
        },
        {
          "output_type": "stream",
          "name": "stdout",
          "text": [
            "\b\b\b\b\b\b\b\b\b\b\b\b\b\b\b\b\b\b\b\b\b\b\b\b\b\b\b\b\b\b\b\b\b\b\b\b\b\b\b\b\b\b\b\b\b\b\b\b\b\b\b\b\b\b\b\b\b\b\b\b\b\b\b\b\b\b\b\r16/16 [==============================] - 0s 3ms/step - loss: 3.1640e-04\n",
            "Epoch 16/50\n",
            "16/16 [==============================] - ETA: 0s - loss: 3.2458e-04"
          ]
        },
        {
          "output_type": "stream",
          "name": "stderr",
          "text": [
            "WARNING:tensorflow:Early stopping conditioned on metric `val_loss` which is not available. Available metrics are: loss\n"
          ]
        },
        {
          "output_type": "stream",
          "name": "stdout",
          "text": [
            "\b\b\b\b\b\b\b\b\b\b\b\b\b\b\b\b\b\b\b\b\b\b\b\b\b\b\b\b\b\b\b\b\b\b\b\b\b\b\b\b\b\b\b\b\b\b\b\b\b\b\b\b\b\b\b\b\b\b\b\b\b\b\b\b\b\b\b\r16/16 [==============================] - 0s 4ms/step - loss: 3.2458e-04\n",
            "Epoch 17/50\n",
            " 1/16 [>.............................] - ETA: 0s - loss: 2.5916e-04"
          ]
        },
        {
          "output_type": "stream",
          "name": "stderr",
          "text": [
            "WARNING:tensorflow:Early stopping conditioned on metric `val_loss` which is not available. Available metrics are: loss\n"
          ]
        },
        {
          "output_type": "stream",
          "name": "stdout",
          "text": [
            "\b\b\b\b\b\b\b\b\b\b\b\b\b\b\b\b\b\b\b\b\b\b\b\b\b\b\b\b\b\b\b\b\b\b\b\b\b\b\b\b\b\b\b\b\b\b\b\b\b\b\b\b\b\b\b\b\b\b\b\b\b\b\b\b\b\b\b\r16/16 [==============================] - 0s 3ms/step - loss: 3.0281e-04\n",
            "Epoch 18/50\n",
            " 1/16 [>.............................] - ETA: 0s - loss: 1.7618e-04"
          ]
        },
        {
          "output_type": "stream",
          "name": "stderr",
          "text": [
            "WARNING:tensorflow:Early stopping conditioned on metric `val_loss` which is not available. Available metrics are: loss\n"
          ]
        },
        {
          "output_type": "stream",
          "name": "stdout",
          "text": [
            "\b\b\b\b\b\b\b\b\b\b\b\b\b\b\b\b\b\b\b\b\b\b\b\b\b\b\b\b\b\b\b\b\b\b\b\b\b\b\b\b\b\b\b\b\b\b\b\b\b\b\b\b\b\b\b\b\b\b\b\b\b\b\b\b\b\b\b\r16/16 [==============================] - 0s 3ms/step - loss: 2.9637e-04\n",
            "Epoch 19/50\n",
            " 1/16 [>.............................] - ETA: 0s - loss: 2.2296e-04"
          ]
        },
        {
          "output_type": "stream",
          "name": "stderr",
          "text": [
            "WARNING:tensorflow:Early stopping conditioned on metric `val_loss` which is not available. Available metrics are: loss\n"
          ]
        },
        {
          "output_type": "stream",
          "name": "stdout",
          "text": [
            "\b\b\b\b\b\b\b\b\b\b\b\b\b\b\b\b\b\b\b\b\b\b\b\b\b\b\b\b\b\b\b\b\b\b\b\b\b\b\b\b\b\b\b\b\b\b\b\b\b\b\b\b\b\b\b\b\b\b\b\b\b\b\b\b\b\b\b\r16/16 [==============================] - 0s 3ms/step - loss: 3.4187e-04\n",
            "Epoch 20/50\n",
            " 1/16 [>.............................] - ETA: 0s - loss: 3.6217e-04"
          ]
        },
        {
          "output_type": "stream",
          "name": "stderr",
          "text": [
            "WARNING:tensorflow:Early stopping conditioned on metric `val_loss` which is not available. Available metrics are: loss\n"
          ]
        },
        {
          "output_type": "stream",
          "name": "stdout",
          "text": [
            "\b\b\b\b\b\b\b\b\b\b\b\b\b\b\b\b\b\b\b\b\b\b\b\b\b\b\b\b\b\b\b\b\b\b\b\b\b\b\b\b\b\b\b\b\b\b\b\b\b\b\b\b\b\b\b\b\b\b\b\b\b\b\b\b\b\b\b\r16/16 [==============================] - 0s 3ms/step - loss: 3.0757e-04\n",
            "Epoch 21/50\n",
            " 1/16 [>.............................] - ETA: 0s - loss: 4.4243e-04"
          ]
        },
        {
          "output_type": "stream",
          "name": "stderr",
          "text": [
            "WARNING:tensorflow:Early stopping conditioned on metric `val_loss` which is not available. Available metrics are: loss\n"
          ]
        },
        {
          "output_type": "stream",
          "name": "stdout",
          "text": [
            "\b\b\b\b\b\b\b\b\b\b\b\b\b\b\b\b\b\b\b\b\b\b\b\b\b\b\b\b\b\b\b\b\b\b\b\b\b\b\b\b\b\b\b\b\b\b\b\b\b\b\b\b\b\b\b\b\b\b\b\b\b\b\b\b\b\b\b\r16/16 [==============================] - 0s 3ms/step - loss: 3.7108e-04\n",
            "Epoch 22/50\n",
            " 1/16 [>.............................] - ETA: 0s - loss: 2.3483e-04"
          ]
        },
        {
          "output_type": "stream",
          "name": "stderr",
          "text": [
            "WARNING:tensorflow:Early stopping conditioned on metric `val_loss` which is not available. Available metrics are: loss\n"
          ]
        },
        {
          "output_type": "stream",
          "name": "stdout",
          "text": [
            "\b\b\b\b\b\b\b\b\b\b\b\b\b\b\b\b\b\b\b\b\b\b\b\b\b\b\b\b\b\b\b\b\b\b\b\b\b\b\b\b\b\b\b\b\b\b\b\b\b\b\b\b\b\b\b\b\b\b\b\b\b\b\b\b\b\b\b\r16/16 [==============================] - 0s 3ms/step - loss: 3.9176e-04\n",
            "Epoch 23/50\n",
            "16/16 [==============================] - ETA: 0s - loss: 3.1012e-04"
          ]
        },
        {
          "output_type": "stream",
          "name": "stderr",
          "text": [
            "WARNING:tensorflow:Early stopping conditioned on metric `val_loss` which is not available. Available metrics are: loss\n"
          ]
        },
        {
          "output_type": "stream",
          "name": "stdout",
          "text": [
            "\b\b\b\b\b\b\b\b\b\b\b\b\b\b\b\b\b\b\b\b\b\b\b\b\b\b\b\b\b\b\b\b\b\b\b\b\b\b\b\b\b\b\b\b\b\b\b\b\b\b\b\b\b\b\b\b\b\b\b\b\b\b\b\b\b\b\b\r16/16 [==============================] - 0s 4ms/step - loss: 3.1012e-04\n",
            "Epoch 24/50\n",
            " 1/16 [>.............................] - ETA: 0s - loss: 2.3861e-04"
          ]
        },
        {
          "output_type": "stream",
          "name": "stderr",
          "text": [
            "WARNING:tensorflow:Early stopping conditioned on metric `val_loss` which is not available. Available metrics are: loss\n"
          ]
        },
        {
          "output_type": "stream",
          "name": "stdout",
          "text": [
            "\b\b\b\b\b\b\b\b\b\b\b\b\b\b\b\b\b\b\b\b\b\b\b\b\b\b\b\b\b\b\b\b\b\b\b\b\b\b\b\b\b\b\b\b\b\b\b\b\b\b\b\b\b\b\b\b\b\b\b\b\b\b\b\b\b\b\b\r16/16 [==============================] - 0s 3ms/step - loss: 3.0671e-04\n",
            "Epoch 25/50\n",
            " 1/16 [>.............................] - ETA: 0s - loss: 3.5542e-04"
          ]
        },
        {
          "output_type": "stream",
          "name": "stderr",
          "text": [
            "WARNING:tensorflow:Early stopping conditioned on metric `val_loss` which is not available. Available metrics are: loss\n"
          ]
        },
        {
          "output_type": "stream",
          "name": "stdout",
          "text": [
            "\b\b\b\b\b\b\b\b\b\b\b\b\b\b\b\b\b\b\b\b\b\b\b\b\b\b\b\b\b\b\b\b\b\b\b\b\b\b\b\b\b\b\b\b\b\b\b\b\b\b\b\b\b\b\b\b\b\b\b\b\b\b\b\b\b\b\b\r16/16 [==============================] - 0s 3ms/step - loss: 3.7738e-04\n",
            "Epoch 26/50\n",
            " 1/16 [>.............................] - ETA: 0s - loss: 4.5445e-04"
          ]
        },
        {
          "output_type": "stream",
          "name": "stderr",
          "text": [
            "WARNING:tensorflow:Early stopping conditioned on metric `val_loss` which is not available. Available metrics are: loss\n"
          ]
        },
        {
          "output_type": "stream",
          "name": "stdout",
          "text": [
            "\b\b\b\b\b\b\b\b\b\b\b\b\b\b\b\b\b\b\b\b\b\b\b\b\b\b\b\b\b\b\b\b\b\b\b\b\b\b\b\b\b\b\b\b\b\b\b\b\b\b\b\b\b\b\b\b\b\b\b\b\b\b\b\b\b\b\b\r16/16 [==============================] - 0s 3ms/step - loss: 3.7241e-04\n",
            "Epoch 27/50\n",
            " 1/16 [>.............................] - ETA: 0s - loss: 1.9384e-04"
          ]
        },
        {
          "output_type": "stream",
          "name": "stderr",
          "text": [
            "WARNING:tensorflow:Early stopping conditioned on metric `val_loss` which is not available. Available metrics are: loss\n"
          ]
        },
        {
          "output_type": "stream",
          "name": "stdout",
          "text": [
            "\b\b\b\b\b\b\b\b\b\b\b\b\b\b\b\b\b\b\b\b\b\b\b\b\b\b\b\b\b\b\b\b\b\b\b\b\b\b\b\b\b\b\b\b\b\b\b\b\b\b\b\b\b\b\b\b\b\b\b\b\b\b\b\b\b\b\b\r16/16 [==============================] - 0s 3ms/step - loss: 3.1124e-04\n",
            "Epoch 28/50\n",
            " 1/16 [>.............................] - ETA: 0s - loss: 2.4534e-04"
          ]
        },
        {
          "output_type": "stream",
          "name": "stderr",
          "text": [
            "WARNING:tensorflow:Early stopping conditioned on metric `val_loss` which is not available. Available metrics are: loss\n"
          ]
        },
        {
          "output_type": "stream",
          "name": "stdout",
          "text": [
            "\b\b\b\b\b\b\b\b\b\b\b\b\b\b\b\b\b\b\b\b\b\b\b\b\b\b\b\b\b\b\b\b\b\b\b\b\b\b\b\b\b\b\b\b\b\b\b\b\b\b\b\b\b\b\b\b\b\b\b\b\b\b\b\b\b\b\b\r16/16 [==============================] - 0s 3ms/step - loss: 3.0550e-04\n",
            "Epoch 29/50\n",
            " 1/16 [>.............................] - ETA: 0s - loss: 2.6428e-04"
          ]
        },
        {
          "output_type": "stream",
          "name": "stderr",
          "text": [
            "WARNING:tensorflow:Early stopping conditioned on metric `val_loss` which is not available. Available metrics are: loss\n"
          ]
        },
        {
          "output_type": "stream",
          "name": "stdout",
          "text": [
            "\b\b\b\b\b\b\b\b\b\b\b\b\b\b\b\b\b\b\b\b\b\b\b\b\b\b\b\b\b\b\b\b\b\b\b\b\b\b\b\b\b\b\b\b\b\b\b\b\b\b\b\b\b\b\b\b\b\b\b\b\b\b\b\b\b\b\b\r16/16 [==============================] - 0s 3ms/step - loss: 2.9616e-04\n",
            "Epoch 30/50\n",
            " 1/16 [>.............................] - ETA: 0s - loss: 2.4138e-04"
          ]
        },
        {
          "output_type": "stream",
          "name": "stderr",
          "text": [
            "WARNING:tensorflow:Early stopping conditioned on metric `val_loss` which is not available. Available metrics are: loss\n"
          ]
        },
        {
          "output_type": "stream",
          "name": "stdout",
          "text": [
            "\b\b\b\b\b\b\b\b\b\b\b\b\b\b\b\b\b\b\b\b\b\b\b\b\b\b\b\b\b\b\b\b\b\b\b\b\b\b\b\b\b\b\b\b\b\b\b\b\b\b\b\b\b\b\b\b\b\b\b\b\b\b\b\b\b\b\b\r16/16 [==============================] - 0s 3ms/step - loss: 3.0216e-04\n",
            "Epoch 31/50\n",
            "13/16 [=======================>......] - ETA: 0s - loss: 2.9783e-04"
          ]
        },
        {
          "output_type": "stream",
          "name": "stderr",
          "text": [
            "WARNING:tensorflow:Early stopping conditioned on metric `val_loss` which is not available. Available metrics are: loss\n"
          ]
        },
        {
          "output_type": "stream",
          "name": "stdout",
          "text": [
            "\b\b\b\b\b\b\b\b\b\b\b\b\b\b\b\b\b\b\b\b\b\b\b\b\b\b\b\b\b\b\b\b\b\b\b\b\b\b\b\b\b\b\b\b\b\b\b\b\b\b\b\b\b\b\b\b\b\b\b\b\b\b\b\b\b\b\b\r16/16 [==============================] - 0s 5ms/step - loss: 3.0692e-04\n",
            "Epoch 32/50\n",
            " 1/16 [>.............................] - ETA: 0s - loss: 3.0011e-04"
          ]
        },
        {
          "output_type": "stream",
          "name": "stderr",
          "text": [
            "WARNING:tensorflow:Early stopping conditioned on metric `val_loss` which is not available. Available metrics are: loss\n"
          ]
        },
        {
          "output_type": "stream",
          "name": "stdout",
          "text": [
            "\b\b\b\b\b\b\b\b\b\b\b\b\b\b\b\b\b\b\b\b\b\b\b\b\b\b\b\b\b\b\b\b\b\b\b\b\b\b\b\b\b\b\b\b\b\b\b\b\b\b\b\b\b\b\b\b\b\b\b\b\b\b\b\b\b\b\b\r16/16 [==============================] - 0s 3ms/step - loss: 3.1547e-04\n",
            "Epoch 33/50\n",
            "14/16 [=========================>....] - ETA: 0s - loss: 3.2068e-04"
          ]
        },
        {
          "output_type": "stream",
          "name": "stderr",
          "text": [
            "WARNING:tensorflow:Early stopping conditioned on metric `val_loss` which is not available. Available metrics are: loss\n"
          ]
        },
        {
          "output_type": "stream",
          "name": "stdout",
          "text": [
            "\b\b\b\b\b\b\b\b\b\b\b\b\b\b\b\b\b\b\b\b\b\b\b\b\b\b\b\b\b\b\b\b\b\b\b\b\b\b\b\b\b\b\b\b\b\b\b\b\b\b\b\b\b\b\b\b\b\b\b\b\b\b\b\b\b\b\b\r16/16 [==============================] - 0s 4ms/step - loss: 3.2580e-04\n",
            "Epoch 34/50\n",
            " 1/16 [>.............................] - ETA: 0s - loss: 3.4544e-04"
          ]
        },
        {
          "output_type": "stream",
          "name": "stderr",
          "text": [
            "WARNING:tensorflow:Early stopping conditioned on metric `val_loss` which is not available. Available metrics are: loss\n"
          ]
        },
        {
          "output_type": "stream",
          "name": "stdout",
          "text": [
            "\b\b\b\b\b\b\b\b\b\b\b\b\b\b\b\b\b\b\b\b\b\b\b\b\b\b\b\b\b\b\b\b\b\b\b\b\b\b\b\b\b\b\b\b\b\b\b\b\b\b\b\b\b\b\b\b\b\b\b\b\b\b\b\b\b\b\b\r16/16 [==============================] - 0s 3ms/step - loss: 3.0922e-04\n",
            "Epoch 35/50\n",
            " 1/16 [>.............................] - ETA: 0s - loss: 2.7401e-04"
          ]
        },
        {
          "output_type": "stream",
          "name": "stderr",
          "text": [
            "WARNING:tensorflow:Early stopping conditioned on metric `val_loss` which is not available. Available metrics are: loss\n"
          ]
        },
        {
          "output_type": "stream",
          "name": "stdout",
          "text": [
            "\b\b\b\b\b\b\b\b\b\b\b\b\b\b\b\b\b\b\b\b\b\b\b\b\b\b\b\b\b\b\b\b\b\b\b\b\b\b\b\b\b\b\b\b\b\b\b\b\b\b\b\b\b\b\b\b\b\b\b\b\b\b\b\b\b\b\b\r16/16 [==============================] - 0s 3ms/step - loss: 3.0271e-04\n",
            "Epoch 36/50\n",
            " 1/16 [>.............................] - ETA: 0s - loss: 2.7715e-04"
          ]
        },
        {
          "output_type": "stream",
          "name": "stderr",
          "text": [
            "WARNING:tensorflow:Early stopping conditioned on metric `val_loss` which is not available. Available metrics are: loss\n"
          ]
        },
        {
          "output_type": "stream",
          "name": "stdout",
          "text": [
            "\b\b\b\b\b\b\b\b\b\b\b\b\b\b\b\b\b\b\b\b\b\b\b\b\b\b\b\b\b\b\b\b\b\b\b\b\b\b\b\b\b\b\b\b\b\b\b\b\b\b\b\b\b\b\b\b\b\b\b\b\b\b\b\b\b\b\b\r16/16 [==============================] - 0s 3ms/step - loss: 3.0075e-04\n",
            "Epoch 37/50\n",
            " 1/16 [>.............................] - ETA: 0s - loss: 4.4674e-04"
          ]
        },
        {
          "output_type": "stream",
          "name": "stderr",
          "text": [
            "WARNING:tensorflow:Early stopping conditioned on metric `val_loss` which is not available. Available metrics are: loss\n"
          ]
        },
        {
          "output_type": "stream",
          "name": "stdout",
          "text": [
            "\b\b\b\b\b\b\b\b\b\b\b\b\b\b\b\b\b\b\b\b\b\b\b\b\b\b\b\b\b\b\b\b\b\b\b\b\b\b\b\b\b\b\b\b\b\b\b\b\b\b\b\b\b\b\b\b\b\b\b\b\b\b\b\b\b\b\b\r16/16 [==============================] - 0s 3ms/step - loss: 3.2251e-04\n",
            "Epoch 38/50\n",
            " 1/16 [>.............................] - ETA: 0s - loss: 4.3381e-04"
          ]
        },
        {
          "output_type": "stream",
          "name": "stderr",
          "text": [
            "WARNING:tensorflow:Early stopping conditioned on metric `val_loss` which is not available. Available metrics are: loss\n"
          ]
        },
        {
          "output_type": "stream",
          "name": "stdout",
          "text": [
            "\b\b\b\b\b\b\b\b\b\b\b\b\b\b\b\b\b\b\b\b\b\b\b\b\b\b\b\b\b\b\b\b\b\b\b\b\b\b\b\b\b\b\b\b\b\b\b\b\b\b\b\b\b\b\b\b\b\b\b\b\b\b\b\b\b\b\b\r16/16 [==============================] - 0s 3ms/step - loss: 3.5667e-04\n",
            "Epoch 39/50\n",
            " 1/16 [>.............................] - ETA: 0s - loss: 2.1833e-04"
          ]
        },
        {
          "output_type": "stream",
          "name": "stderr",
          "text": [
            "WARNING:tensorflow:Early stopping conditioned on metric `val_loss` which is not available. Available metrics are: loss\n"
          ]
        },
        {
          "output_type": "stream",
          "name": "stdout",
          "text": [
            "\b\b\b\b\b\b\b\b\b\b\b\b\b\b\b\b\b\b\b\b\b\b\b\b\b\b\b\b\b\b\b\b\b\b\b\b\b\b\b\b\b\b\b\b\b\b\b\b\b\b\b\b\b\b\b\b\b\b\b\b\b\b\b\b\b\b\b\r16/16 [==============================] - 0s 3ms/step - loss: 3.5118e-04\n",
            "Epoch 40/50\n",
            " 1/16 [>.............................] - ETA: 0s - loss: 2.9537e-04"
          ]
        },
        {
          "output_type": "stream",
          "name": "stderr",
          "text": [
            "WARNING:tensorflow:Early stopping conditioned on metric `val_loss` which is not available. Available metrics are: loss\n"
          ]
        },
        {
          "output_type": "stream",
          "name": "stdout",
          "text": [
            "\b\b\b\b\b\b\b\b\b\b\b\b\b\b\b\b\b\b\b\b\b\b\b\b\b\b\b\b\b\b\b\b\b\b\b\b\b\b\b\b\b\b\b\b\b\b\b\b\b\b\b\b\b\b\b\b\b\b\b\b\b\b\b\b\b\b\b\r16/16 [==============================] - 0s 3ms/step - loss: 2.9965e-04\n",
            "Epoch 41/50\n",
            " 1/16 [>.............................] - ETA: 0s - loss: 1.5600e-04"
          ]
        },
        {
          "output_type": "stream",
          "name": "stderr",
          "text": [
            "WARNING:tensorflow:Early stopping conditioned on metric `val_loss` which is not available. Available metrics are: loss\n"
          ]
        },
        {
          "output_type": "stream",
          "name": "stdout",
          "text": [
            "\b\b\b\b\b\b\b\b\b\b\b\b\b\b\b\b\b\b\b\b\b\b\b\b\b\b\b\b\b\b\b\b\b\b\b\b\b\b\b\b\b\b\b\b\b\b\b\b\b\b\b\b\b\b\b\b\b\b\b\b\b\b\b\b\b\b\b\r16/16 [==============================] - 0s 3ms/step - loss: 3.0741e-04\n",
            "Epoch 42/50\n",
            " 1/16 [>.............................] - ETA: 0s - loss: 2.8758e-04"
          ]
        },
        {
          "output_type": "stream",
          "name": "stderr",
          "text": [
            "WARNING:tensorflow:Early stopping conditioned on metric `val_loss` which is not available. Available metrics are: loss\n"
          ]
        },
        {
          "output_type": "stream",
          "name": "stdout",
          "text": [
            "\b\b\b\b\b\b\b\b\b\b\b\b\b\b\b\b\b\b\b\b\b\b\b\b\b\b\b\b\b\b\b\b\b\b\b\b\b\b\b\b\b\b\b\b\b\b\b\b\b\b\b\b\b\b\b\b\b\b\b\b\b\b\b\b\b\b\b\r16/16 [==============================] - 0s 3ms/step - loss: 2.9180e-04\n",
            "Epoch 43/50\n",
            "16/16 [==============================] - ETA: 0s - loss: 2.9519e-04"
          ]
        },
        {
          "output_type": "stream",
          "name": "stderr",
          "text": [
            "WARNING:tensorflow:Early stopping conditioned on metric `val_loss` which is not available. Available metrics are: loss\n"
          ]
        },
        {
          "output_type": "stream",
          "name": "stdout",
          "text": [
            "\b\b\b\b\b\b\b\b\b\b\b\b\b\b\b\b\b\b\b\b\b\b\b\b\b\b\b\b\b\b\b\b\b\b\b\b\b\b\b\b\b\b\b\b\b\b\b\b\b\b\b\b\b\b\b\b\b\b\b\b\b\b\b\b\b\b\b\r16/16 [==============================] - 0s 4ms/step - loss: 2.9519e-04\n",
            "Epoch 44/50\n",
            " 1/16 [>.............................] - ETA: 0s - loss: 2.1545e-04"
          ]
        },
        {
          "output_type": "stream",
          "name": "stderr",
          "text": [
            "WARNING:tensorflow:Early stopping conditioned on metric `val_loss` which is not available. Available metrics are: loss\n"
          ]
        },
        {
          "output_type": "stream",
          "name": "stdout",
          "text": [
            "\b\b\b\b\b\b\b\b\b\b\b\b\b\b\b\b\b\b\b\b\b\b\b\b\b\b\b\b\b\b\b\b\b\b\b\b\b\b\b\b\b\b\b\b\b\b\b\b\b\b\b\b\b\b\b\b\b\b\b\b\b\b\b\b\b\b\b\r16/16 [==============================] - 0s 3ms/step - loss: 3.2119e-04\n",
            "Epoch 45/50\n",
            " 1/16 [>.............................] - ETA: 0s - loss: 5.7550e-04"
          ]
        },
        {
          "output_type": "stream",
          "name": "stderr",
          "text": [
            "WARNING:tensorflow:Early stopping conditioned on metric `val_loss` which is not available. Available metrics are: loss\n"
          ]
        },
        {
          "output_type": "stream",
          "name": "stdout",
          "text": [
            "\b\b\b\b\b\b\b\b\b\b\b\b\b\b\b\b\b\b\b\b\b\b\b\b\b\b\b\b\b\b\b\b\b\b\b\b\b\b\b\b\b\b\b\b\b\b\b\b\b\b\b\b\b\b\b\b\b\b\b\b\b\b\b\b\b\b\b\r16/16 [==============================] - 0s 3ms/step - loss: 3.3881e-04\n",
            "Epoch 46/50\n",
            " 1/16 [>.............................] - ETA: 0s - loss: 5.0934e-04"
          ]
        },
        {
          "output_type": "stream",
          "name": "stderr",
          "text": [
            "WARNING:tensorflow:Early stopping conditioned on metric `val_loss` which is not available. Available metrics are: loss\n"
          ]
        },
        {
          "output_type": "stream",
          "name": "stdout",
          "text": [
            "\b\b\b\b\b\b\b\b\b\b\b\b\b\b\b\b\b\b\b\b\b\b\b\b\b\b\b\b\b\b\b\b\b\b\b\b\b\b\b\b\b\b\b\b\b\b\b\b\b\b\b\b\b\b\b\b\b\b\b\b\b\b\b\b\b\b\b\r16/16 [==============================] - 0s 3ms/step - loss: 3.2343e-04\n",
            "Epoch 47/50\n",
            " 1/16 [>.............................] - ETA: 0s - loss: 1.8205e-04"
          ]
        },
        {
          "output_type": "stream",
          "name": "stderr",
          "text": [
            "WARNING:tensorflow:Early stopping conditioned on metric `val_loss` which is not available. Available metrics are: loss\n"
          ]
        },
        {
          "output_type": "stream",
          "name": "stdout",
          "text": [
            "\b\b\b\b\b\b\b\b\b\b\b\b\b\b\b\b\b\b\b\b\b\b\b\b\b\b\b\b\b\b\b\b\b\b\b\b\b\b\b\b\b\b\b\b\b\b\b\b\b\b\b\b\b\b\b\b\b\b\b\b\b\b\b\b\b\b\b\r16/16 [==============================] - 0s 3ms/step - loss: 3.0408e-04\n",
            "Epoch 48/50\n",
            " 1/16 [>.............................] - ETA: 0s - loss: 3.0041e-04"
          ]
        },
        {
          "output_type": "stream",
          "name": "stderr",
          "text": [
            "WARNING:tensorflow:Early stopping conditioned on metric `val_loss` which is not available. Available metrics are: loss\n"
          ]
        },
        {
          "output_type": "stream",
          "name": "stdout",
          "text": [
            "\b\b\b\b\b\b\b\b\b\b\b\b\b\b\b\b\b\b\b\b\b\b\b\b\b\b\b\b\b\b\b\b\b\b\b\b\b\b\b\b\b\b\b\b\b\b\b\b\b\b\b\b\b\b\b\b\b\b\b\b\b\b\b\b\b\b\b\r16/16 [==============================] - 0s 3ms/step - loss: 2.9627e-04\n",
            "Epoch 49/50\n",
            "11/16 [===================>..........] - ETA: 0s - loss: 3.1161e-04"
          ]
        },
        {
          "output_type": "stream",
          "name": "stderr",
          "text": [
            "WARNING:tensorflow:Early stopping conditioned on metric `val_loss` which is not available. Available metrics are: loss\n"
          ]
        },
        {
          "output_type": "stream",
          "name": "stdout",
          "text": [
            "\b\b\b\b\b\b\b\b\b\b\b\b\b\b\b\b\b\b\b\b\b\b\b\b\b\b\b\b\b\b\b\b\b\b\b\b\b\b\b\b\b\b\b\b\b\b\b\b\b\b\b\b\b\b\b\b\b\b\b\b\b\b\b\b\b\b\b\r16/16 [==============================] - 0s 5ms/step - loss: 3.3632e-04\n",
            "Epoch 50/50\n",
            "14/16 [=========================>....] - ETA: 0s - loss: 3.5007e-04"
          ]
        },
        {
          "output_type": "stream",
          "name": "stderr",
          "text": [
            "WARNING:tensorflow:Early stopping conditioned on metric `val_loss` which is not available. Available metrics are: loss\n"
          ]
        },
        {
          "output_type": "stream",
          "name": "stdout",
          "text": [
            "16/16 [==============================] - 0s 5ms/step - loss: 3.3234e-04\n",
            "6/6 [==============================] - 0s 3ms/step\n",
            "Test RMSE: 23.540792858509455\n",
            "Test MAE: 18.345491532560022\n",
            "Test MAPE: 3.9996752837254963%\n",
            "Epoch 1/50\n",
            "19/21 [==========================>...] - ETA: 0s - loss: 5.7108e-04"
          ]
        },
        {
          "output_type": "stream",
          "name": "stderr",
          "text": [
            "WARNING:tensorflow:Early stopping conditioned on metric `val_loss` which is not available. Available metrics are: loss\n"
          ]
        },
        {
          "output_type": "stream",
          "name": "stdout",
          "text": [
            "\b\b\b\b\b\b\b\b\b\b\b\b\b\b\b\b\b\b\b\b\b\b\b\b\b\b\b\b\b\b\b\b\b\b\b\b\b\b\b\b\b\b\b\b\b\b\b\b\b\b\b\b\b\b\b\b\b\b\b\b\b\b\b\b\b\b\b\r21/21 [==============================] - 0s 3ms/step - loss: 5.7825e-04\n",
            "Epoch 2/50\n",
            "18/21 [========================>.....] - ETA: 0s - loss: 5.1692e-04"
          ]
        },
        {
          "output_type": "stream",
          "name": "stderr",
          "text": [
            "WARNING:tensorflow:Early stopping conditioned on metric `val_loss` which is not available. Available metrics are: loss\n"
          ]
        },
        {
          "output_type": "stream",
          "name": "stdout",
          "text": [
            "\b\b\b\b\b\b\b\b\b\b\b\b\b\b\b\b\b\b\b\b\b\b\b\b\b\b\b\b\b\b\b\b\b\b\b\b\b\b\b\b\b\b\b\b\b\b\b\b\b\b\b\b\b\b\b\b\b\b\b\b\b\b\b\b\b\b\b\r21/21 [==============================] - 0s 4ms/step - loss: 5.0544e-04\n",
            "Epoch 3/50\n",
            "20/21 [===========================>..] - ETA: 0s - loss: 4.8741e-04"
          ]
        },
        {
          "output_type": "stream",
          "name": "stderr",
          "text": [
            "WARNING:tensorflow:Early stopping conditioned on metric `val_loss` which is not available. Available metrics are: loss\n"
          ]
        },
        {
          "output_type": "stream",
          "name": "stdout",
          "text": [
            "\b\b\b\b\b\b\b\b\b\b\b\b\b\b\b\b\b\b\b\b\b\b\b\b\b\b\b\b\b\b\b\b\b\b\b\b\b\b\b\b\b\b\b\b\b\b\b\b\b\b\b\b\b\b\b\b\b\b\b\b\b\b\b\b\b\b\b\r21/21 [==============================] - 0s 3ms/step - loss: 4.9704e-04\n",
            "Epoch 4/50\n",
            "15/21 [====================>.........] - ETA: 0s - loss: 5.1591e-04"
          ]
        },
        {
          "output_type": "stream",
          "name": "stderr",
          "text": [
            "WARNING:tensorflow:Early stopping conditioned on metric `val_loss` which is not available. Available metrics are: loss\n"
          ]
        },
        {
          "output_type": "stream",
          "name": "stdout",
          "text": [
            "\b\b\b\b\b\b\b\b\b\b\b\b\b\b\b\b\b\b\b\b\b\b\b\b\b\b\b\b\b\b\b\b\b\b\b\b\b\b\b\b\b\b\b\b\b\b\b\b\b\b\b\b\b\b\b\b\b\b\b\b\b\b\b\b\b\b\b\r21/21 [==============================] - 0s 4ms/step - loss: 5.2259e-04\n",
            "Epoch 5/50\n",
            "18/21 [========================>.....] - ETA: 0s - loss: 4.6572e-04"
          ]
        },
        {
          "output_type": "stream",
          "name": "stderr",
          "text": [
            "WARNING:tensorflow:Early stopping conditioned on metric `val_loss` which is not available. Available metrics are: loss\n"
          ]
        },
        {
          "output_type": "stream",
          "name": "stdout",
          "text": [
            "\b\b\b\b\b\b\b\b\b\b\b\b\b\b\b\b\b\b\b\b\b\b\b\b\b\b\b\b\b\b\b\b\b\b\b\b\b\b\b\b\b\b\b\b\b\b\b\b\b\b\b\b\b\b\b\b\b\b\b\b\b\b\b\b\b\b\b\r21/21 [==============================] - 0s 3ms/step - loss: 4.6458e-04\n",
            "Epoch 6/50\n",
            "19/21 [==========================>...] - ETA: 0s - loss: 4.5941e-04"
          ]
        },
        {
          "output_type": "stream",
          "name": "stderr",
          "text": [
            "WARNING:tensorflow:Early stopping conditioned on metric `val_loss` which is not available. Available metrics are: loss\n"
          ]
        },
        {
          "output_type": "stream",
          "name": "stdout",
          "text": [
            "\b\b\b\b\b\b\b\b\b\b\b\b\b\b\b\b\b\b\b\b\b\b\b\b\b\b\b\b\b\b\b\b\b\b\b\b\b\b\b\b\b\b\b\b\b\b\b\b\b\b\b\b\b\b\b\b\b\b\b\b\b\b\b\b\b\b\b\r21/21 [==============================] - 0s 3ms/step - loss: 4.8479e-04\n",
            "Epoch 7/50\n",
            "18/21 [========================>.....] - ETA: 0s - loss: 5.5274e-04"
          ]
        },
        {
          "output_type": "stream",
          "name": "stderr",
          "text": [
            "WARNING:tensorflow:Early stopping conditioned on metric `val_loss` which is not available. Available metrics are: loss\n"
          ]
        },
        {
          "output_type": "stream",
          "name": "stdout",
          "text": [
            "\b\b\b\b\b\b\b\b\b\b\b\b\b\b\b\b\b\b\b\b\b\b\b\b\b\b\b\b\b\b\b\b\b\b\b\b\b\b\b\b\b\b\b\b\b\b\b\b\b\b\b\b\b\b\b\b\b\b\b\b\b\b\b\b\b\b\b\r21/21 [==============================] - 0s 3ms/step - loss: 5.4264e-04\n",
            "Epoch 8/50\n",
            "18/21 [========================>.....] - ETA: 0s - loss: 5.0543e-04"
          ]
        },
        {
          "output_type": "stream",
          "name": "stderr",
          "text": [
            "WARNING:tensorflow:Early stopping conditioned on metric `val_loss` which is not available. Available metrics are: loss\n"
          ]
        },
        {
          "output_type": "stream",
          "name": "stdout",
          "text": [
            "\b\b\b\b\b\b\b\b\b\b\b\b\b\b\b\b\b\b\b\b\b\b\b\b\b\b\b\b\b\b\b\b\b\b\b\b\b\b\b\b\b\b\b\b\b\b\b\b\b\b\b\b\b\b\b\b\b\b\b\b\b\b\b\b\b\b\b\r21/21 [==============================] - 0s 3ms/step - loss: 5.0200e-04\n",
            "Epoch 9/50\n",
            "19/21 [==========================>...] - ETA: 0s - loss: 4.7902e-04"
          ]
        },
        {
          "output_type": "stream",
          "name": "stderr",
          "text": [
            "WARNING:tensorflow:Early stopping conditioned on metric `val_loss` which is not available. Available metrics are: loss\n"
          ]
        },
        {
          "output_type": "stream",
          "name": "stdout",
          "text": [
            "\b\b\b\b\b\b\b\b\b\b\b\b\b\b\b\b\b\b\b\b\b\b\b\b\b\b\b\b\b\b\b\b\b\b\b\b\b\b\b\b\b\b\b\b\b\b\b\b\b\b\b\b\b\b\b\b\b\b\b\b\b\b\b\b\b\b\b\r21/21 [==============================] - 0s 3ms/step - loss: 4.7014e-04\n",
            "Epoch 10/50\n",
            "17/21 [=======================>......] - ETA: 0s - loss: 4.5854e-04"
          ]
        },
        {
          "output_type": "stream",
          "name": "stderr",
          "text": [
            "WARNING:tensorflow:Early stopping conditioned on metric `val_loss` which is not available. Available metrics are: loss\n"
          ]
        },
        {
          "output_type": "stream",
          "name": "stdout",
          "text": [
            "\b\b\b\b\b\b\b\b\b\b\b\b\b\b\b\b\b\b\b\b\b\b\b\b\b\b\b\b\b\b\b\b\b\b\b\b\b\b\b\b\b\b\b\b\b\b\b\b\b\b\b\b\b\b\b\b\b\b\b\b\b\b\b\b\b\b\b\r21/21 [==============================] - 0s 4ms/step - loss: 4.4479e-04\n",
            "Epoch 11/50\n",
            " 1/21 [>.............................] - ETA: 0s - loss: 6.2227e-04"
          ]
        },
        {
          "output_type": "stream",
          "name": "stderr",
          "text": [
            "WARNING:tensorflow:Early stopping conditioned on metric `val_loss` which is not available. Available metrics are: loss\n"
          ]
        },
        {
          "output_type": "stream",
          "name": "stdout",
          "text": [
            "\b\b\b\b\b\b\b\b\b\b\b\b\b\b\b\b\b\b\b\b\b\b\b\b\b\b\b\b\b\b\b\b\b\b\b\b\b\b\b\b\b\b\b\b\b\b\b\b\b\b\b\b\b\b\b\b\b\b\b\b\b\b\b\b\b\b\b\r21/21 [==============================] - 0s 3ms/step - loss: 5.0490e-04\n",
            "Epoch 12/50\n",
            "21/21 [==============================] - ETA: 0s - loss: 4.4388e-04"
          ]
        },
        {
          "output_type": "stream",
          "name": "stderr",
          "text": [
            "WARNING:tensorflow:Early stopping conditioned on metric `val_loss` which is not available. Available metrics are: loss\n"
          ]
        },
        {
          "output_type": "stream",
          "name": "stdout",
          "text": [
            "\b\b\b\b\b\b\b\b\b\b\b\b\b\b\b\b\b\b\b\b\b\b\b\b\b\b\b\b\b\b\b\b\b\b\b\b\b\b\b\b\b\b\b\b\b\b\b\b\b\b\b\b\b\b\b\b\b\b\b\b\b\b\b\b\b\b\b\r21/21 [==============================] - 0s 3ms/step - loss: 4.4388e-04\n",
            "Epoch 13/50\n",
            "20/21 [===========================>..] - ETA: 0s - loss: 4.5822e-04"
          ]
        },
        {
          "output_type": "stream",
          "name": "stderr",
          "text": [
            "WARNING:tensorflow:Early stopping conditioned on metric `val_loss` which is not available. Available metrics are: loss\n"
          ]
        },
        {
          "output_type": "stream",
          "name": "stdout",
          "text": [
            "\b\b\b\b\b\b\b\b\b\b\b\b\b\b\b\b\b\b\b\b\b\b\b\b\b\b\b\b\b\b\b\b\b\b\b\b\b\b\b\b\b\b\b\b\b\b\b\b\b\b\b\b\b\b\b\b\b\b\b\b\b\b\b\b\b\b\b\r21/21 [==============================] - 0s 3ms/step - loss: 4.5813e-04\n",
            "Epoch 14/50\n",
            "19/21 [==========================>...] - ETA: 0s - loss: 5.1790e-04"
          ]
        },
        {
          "output_type": "stream",
          "name": "stderr",
          "text": [
            "WARNING:tensorflow:Early stopping conditioned on metric `val_loss` which is not available. Available metrics are: loss\n"
          ]
        },
        {
          "output_type": "stream",
          "name": "stdout",
          "text": [
            "\b\b\b\b\b\b\b\b\b\b\b\b\b\b\b\b\b\b\b\b\b\b\b\b\b\b\b\b\b\b\b\b\b\b\b\b\b\b\b\b\b\b\b\b\b\b\b\b\b\b\b\b\b\b\b\b\b\b\b\b\b\b\b\b\b\b\b\r21/21 [==============================] - 0s 3ms/step - loss: 5.1747e-04\n",
            "Epoch 15/50\n",
            "19/21 [==========================>...] - ETA: 0s - loss: 5.3609e-04"
          ]
        },
        {
          "output_type": "stream",
          "name": "stderr",
          "text": [
            "WARNING:tensorflow:Early stopping conditioned on metric `val_loss` which is not available. Available metrics are: loss\n"
          ]
        },
        {
          "output_type": "stream",
          "name": "stdout",
          "text": [
            "\b\b\b\b\b\b\b\b\b\b\b\b\b\b\b\b\b\b\b\b\b\b\b\b\b\b\b\b\b\b\b\b\b\b\b\b\b\b\b\b\b\b\b\b\b\b\b\b\b\b\b\b\b\b\b\b\b\b\b\b\b\b\b\b\b\b\b\r21/21 [==============================] - 0s 3ms/step - loss: 5.1923e-04\n",
            "Epoch 16/50\n",
            "15/21 [====================>.........] - ETA: 0s - loss: 4.2630e-04"
          ]
        },
        {
          "output_type": "stream",
          "name": "stderr",
          "text": [
            "WARNING:tensorflow:Early stopping conditioned on metric `val_loss` which is not available. Available metrics are: loss\n"
          ]
        },
        {
          "output_type": "stream",
          "name": "stdout",
          "text": [
            "\b\b\b\b\b\b\b\b\b\b\b\b\b\b\b\b\b\b\b\b\b\b\b\b\b\b\b\b\b\b\b\b\b\b\b\b\b\b\b\b\b\b\b\b\b\b\b\b\b\b\b\b\b\b\b\b\b\b\b\b\b\b\b\b\b\b\b\r21/21 [==============================] - 0s 4ms/step - loss: 4.4728e-04\n",
            "Epoch 17/50\n",
            "14/21 [===================>..........] - ETA: 0s - loss: 3.9171e-04"
          ]
        },
        {
          "output_type": "stream",
          "name": "stderr",
          "text": [
            "WARNING:tensorflow:Early stopping conditioned on metric `val_loss` which is not available. Available metrics are: loss\n"
          ]
        },
        {
          "output_type": "stream",
          "name": "stdout",
          "text": [
            "\b\b\b\b\b\b\b\b\b\b\b\b\b\b\b\b\b\b\b\b\b\b\b\b\b\b\b\b\b\b\b\b\b\b\b\b\b\b\b\b\b\b\b\b\b\b\b\b\b\b\b\b\b\b\b\b\b\b\b\b\b\b\b\b\b\b\b\r21/21 [==============================] - 0s 4ms/step - loss: 4.6222e-04\n",
            "Epoch 18/50\n",
            "17/21 [=======================>......] - ETA: 0s - loss: 4.2458e-04"
          ]
        },
        {
          "output_type": "stream",
          "name": "stderr",
          "text": [
            "WARNING:tensorflow:Early stopping conditioned on metric `val_loss` which is not available. Available metrics are: loss\n"
          ]
        },
        {
          "output_type": "stream",
          "name": "stdout",
          "text": [
            "\b\b\b\b\b\b\b\b\b\b\b\b\b\b\b\b\b\b\b\b\b\b\b\b\b\b\b\b\b\b\b\b\b\b\b\b\b\b\b\b\b\b\b\b\b\b\b\b\b\b\b\b\b\b\b\b\b\b\b\b\b\b\b\b\b\b\b\r21/21 [==============================] - 0s 4ms/step - loss: 4.5109e-04\n",
            "Epoch 19/50\n",
            "19/21 [==========================>...] - ETA: 0s - loss: 5.3144e-04"
          ]
        },
        {
          "output_type": "stream",
          "name": "stderr",
          "text": [
            "WARNING:tensorflow:Early stopping conditioned on metric `val_loss` which is not available. Available metrics are: loss\n"
          ]
        },
        {
          "output_type": "stream",
          "name": "stdout",
          "text": [
            "\b\b\b\b\b\b\b\b\b\b\b\b\b\b\b\b\b\b\b\b\b\b\b\b\b\b\b\b\b\b\b\b\b\b\b\b\b\b\b\b\b\b\b\b\b\b\b\b\b\b\b\b\b\b\b\b\b\b\b\b\b\b\b\b\b\b\b\r21/21 [==============================] - 0s 3ms/step - loss: 5.2860e-04\n",
            "Epoch 20/50\n",
            "14/21 [===================>..........] - ETA: 0s - loss: 4.5837e-04"
          ]
        },
        {
          "output_type": "stream",
          "name": "stderr",
          "text": [
            "WARNING:tensorflow:Early stopping conditioned on metric `val_loss` which is not available. Available metrics are: loss\n"
          ]
        },
        {
          "output_type": "stream",
          "name": "stdout",
          "text": [
            "\b\b\b\b\b\b\b\b\b\b\b\b\b\b\b\b\b\b\b\b\b\b\b\b\b\b\b\b\b\b\b\b\b\b\b\b\b\b\b\b\b\b\b\b\b\b\b\b\b\b\b\b\b\b\b\b\b\b\b\b\b\b\b\b\b\b\b\r21/21 [==============================] - 0s 4ms/step - loss: 4.7804e-04\n",
            "Epoch 21/50\n",
            "18/21 [========================>.....] - ETA: 0s - loss: 4.2903e-04"
          ]
        },
        {
          "output_type": "stream",
          "name": "stderr",
          "text": [
            "WARNING:tensorflow:Early stopping conditioned on metric `val_loss` which is not available. Available metrics are: loss\n"
          ]
        },
        {
          "output_type": "stream",
          "name": "stdout",
          "text": [
            "\b\b\b\b\b\b\b\b\b\b\b\b\b\b\b\b\b\b\b\b\b\b\b\b\b\b\b\b\b\b\b\b\b\b\b\b\b\b\b\b\b\b\b\b\b\b\b\b\b\b\b\b\b\b\b\b\b\b\b\b\b\b\b\b\b\b\b\r21/21 [==============================] - 0s 6ms/step - loss: 4.3251e-04\n",
            "Epoch 22/50\n",
            "21/21 [==============================] - ETA: 0s - loss: 4.5562e-04"
          ]
        },
        {
          "output_type": "stream",
          "name": "stderr",
          "text": [
            "WARNING:tensorflow:Early stopping conditioned on metric `val_loss` which is not available. Available metrics are: loss\n"
          ]
        },
        {
          "output_type": "stream",
          "name": "stdout",
          "text": [
            "\b\b\b\b\b\b\b\b\b\b\b\b\b\b\b\b\b\b\b\b\b\b\b\b\b\b\b\b\b\b\b\b\b\b\b\b\b\b\b\b\b\b\b\b\b\b\b\b\b\b\b\b\b\b\b\b\b\b\b\b\b\b\b\b\b\b\b\r21/21 [==============================] - 0s 6ms/step - loss: 4.5562e-04\n",
            "Epoch 23/50\n",
            "17/21 [=======================>......] - ETA: 0s - loss: 4.2465e-04"
          ]
        },
        {
          "output_type": "stream",
          "name": "stderr",
          "text": [
            "WARNING:tensorflow:Early stopping conditioned on metric `val_loss` which is not available. Available metrics are: loss\n"
          ]
        },
        {
          "output_type": "stream",
          "name": "stdout",
          "text": [
            "\b\b\b\b\b\b\b\b\b\b\b\b\b\b\b\b\b\b\b\b\b\b\b\b\b\b\b\b\b\b\b\b\b\b\b\b\b\b\b\b\b\b\b\b\b\b\b\b\b\b\b\b\b\b\b\b\b\b\b\b\b\b\b\b\b\b\b\r21/21 [==============================] - 0s 7ms/step - loss: 4.3922e-04\n",
            "Epoch 24/50\n",
            "14/21 [===================>..........] - ETA: 0s - loss: 4.4186e-04"
          ]
        },
        {
          "output_type": "stream",
          "name": "stderr",
          "text": [
            "WARNING:tensorflow:Early stopping conditioned on metric `val_loss` which is not available. Available metrics are: loss\n"
          ]
        },
        {
          "output_type": "stream",
          "name": "stdout",
          "text": [
            "\b\b\b\b\b\b\b\b\b\b\b\b\b\b\b\b\b\b\b\b\b\b\b\b\b\b\b\b\b\b\b\b\b\b\b\b\b\b\b\b\b\b\b\b\b\b\b\b\b\b\b\b\b\b\b\b\b\b\b\b\b\b\b\b\b\b\b\r21/21 [==============================] - 0s 8ms/step - loss: 4.7300e-04\n",
            "Epoch 25/50\n",
            "10/21 [=============>................] - ETA: 0s - loss: 5.0383e-04"
          ]
        },
        {
          "output_type": "stream",
          "name": "stderr",
          "text": [
            "WARNING:tensorflow:Early stopping conditioned on metric `val_loss` which is not available. Available metrics are: loss\n"
          ]
        },
        {
          "output_type": "stream",
          "name": "stdout",
          "text": [
            "\b\b\b\b\b\b\b\b\b\b\b\b\b\b\b\b\b\b\b\b\b\b\b\b\b\b\b\b\b\b\b\b\b\b\b\b\b\b\b\b\b\b\b\b\b\b\b\b\b\b\b\b\b\b\b\b\b\b\b\b\b\b\b\b\b\b\b\r21/21 [==============================] - 0s 6ms/step - loss: 4.9481e-04\n",
            "Epoch 26/50\n",
            "17/21 [=======================>......] - ETA: 0s - loss: 5.2020e-04"
          ]
        },
        {
          "output_type": "stream",
          "name": "stderr",
          "text": [
            "WARNING:tensorflow:Early stopping conditioned on metric `val_loss` which is not available. Available metrics are: loss\n"
          ]
        },
        {
          "output_type": "stream",
          "name": "stdout",
          "text": [
            "\b\b\b\b\b\b\b\b\b\b\b\b\b\b\b\b\b\b\b\b\b\b\b\b\b\b\b\b\b\b\b\b\b\b\b\b\b\b\b\b\b\b\b\b\b\b\b\b\b\b\b\b\b\b\b\b\b\b\b\b\b\b\b\b\b\b\b\r21/21 [==============================] - 0s 10ms/step - loss: 5.1017e-04\n",
            "Epoch 27/50\n",
            "16/21 [=====================>........] - ETA: 0s - loss: 4.4864e-04"
          ]
        },
        {
          "output_type": "stream",
          "name": "stderr",
          "text": [
            "WARNING:tensorflow:Early stopping conditioned on metric `val_loss` which is not available. Available metrics are: loss\n"
          ]
        },
        {
          "output_type": "stream",
          "name": "stdout",
          "text": [
            "\b\b\b\b\b\b\b\b\b\b\b\b\b\b\b\b\b\b\b\b\b\b\b\b\b\b\b\b\b\b\b\b\b\b\b\b\b\b\b\b\b\b\b\b\b\b\b\b\b\b\b\b\b\b\b\b\b\b\b\b\b\b\b\b\b\b\b\r21/21 [==============================] - 0s 7ms/step - loss: 4.6038e-04\n",
            "Epoch 28/50\n",
            "20/21 [===========================>..] - ETA: 0s - loss: 5.0744e-04"
          ]
        },
        {
          "output_type": "stream",
          "name": "stderr",
          "text": [
            "WARNING:tensorflow:Early stopping conditioned on metric `val_loss` which is not available. Available metrics are: loss\n"
          ]
        },
        {
          "output_type": "stream",
          "name": "stdout",
          "text": [
            "\b\b\b\b\b\b\b\b\b\b\b\b\b\b\b\b\b\b\b\b\b\b\b\b\b\b\b\b\b\b\b\b\b\b\b\b\b\b\b\b\b\b\b\b\b\b\b\b\b\b\b\b\b\b\b\b\b\b\b\b\b\b\b\b\b\b\b\r21/21 [==============================] - 0s 6ms/step - loss: 5.1443e-04\n",
            "Epoch 29/50\n",
            "18/21 [========================>.....] - ETA: 0s - loss: 5.2894e-04"
          ]
        },
        {
          "output_type": "stream",
          "name": "stderr",
          "text": [
            "WARNING:tensorflow:Early stopping conditioned on metric `val_loss` which is not available. Available metrics are: loss\n"
          ]
        },
        {
          "output_type": "stream",
          "name": "stdout",
          "text": [
            "\b\b\b\b\b\b\b\b\b\b\b\b\b\b\b\b\b\b\b\b\b\b\b\b\b\b\b\b\b\b\b\b\b\b\b\b\b\b\b\b\b\b\b\b\b\b\b\b\b\b\b\b\b\b\b\b\b\b\b\b\b\b\b\b\b\b\b\r21/21 [==============================] - 0s 6ms/step - loss: 5.0695e-04\n",
            "Epoch 30/50\n",
            "20/21 [===========================>..] - ETA: 0s - loss: 4.4361e-04"
          ]
        },
        {
          "output_type": "stream",
          "name": "stderr",
          "text": [
            "WARNING:tensorflow:Early stopping conditioned on metric `val_loss` which is not available. Available metrics are: loss\n"
          ]
        },
        {
          "output_type": "stream",
          "name": "stdout",
          "text": [
            "\b\b\b\b\b\b\b\b\b\b\b\b\b\b\b\b\b\b\b\b\b\b\b\b\b\b\b\b\b\b\b\b\b\b\b\b\b\b\b\b\b\b\b\b\b\b\b\b\b\b\b\b\b\b\b\b\b\b\b\b\b\b\b\b\b\b\b\r21/21 [==============================] - 0s 10ms/step - loss: 4.4049e-04\n",
            "Epoch 31/50\n",
            "19/21 [==========================>...] - ETA: 0s - loss: 4.2553e-04"
          ]
        },
        {
          "output_type": "stream",
          "name": "stderr",
          "text": [
            "WARNING:tensorflow:Early stopping conditioned on metric `val_loss` which is not available. Available metrics are: loss\n"
          ]
        },
        {
          "output_type": "stream",
          "name": "stdout",
          "text": [
            "\b\b\b\b\b\b\b\b\b\b\b\b\b\b\b\b\b\b\b\b\b\b\b\b\b\b\b\b\b\b\b\b\b\b\b\b\b\b\b\b\b\b\b\b\b\b\b\b\b\b\b\b\b\b\b\b\b\b\b\b\b\b\b\b\b\b\b\r21/21 [==============================] - 0s 9ms/step - loss: 4.2110e-04\n",
            "Epoch 32/50\n",
            "19/21 [==========================>...] - ETA: 0s - loss: 4.7472e-04"
          ]
        },
        {
          "output_type": "stream",
          "name": "stderr",
          "text": [
            "WARNING:tensorflow:Early stopping conditioned on metric `val_loss` which is not available. Available metrics are: loss\n"
          ]
        },
        {
          "output_type": "stream",
          "name": "stdout",
          "text": [
            "\b\b\b\b\b\b\b\b\b\b\b\b\b\b\b\b\b\b\b\b\b\b\b\b\b\b\b\b\b\b\b\b\b\b\b\b\b\b\b\b\b\b\b\b\b\b\b\b\b\b\b\b\b\b\b\b\b\b\b\b\b\b\b\b\b\b\b\r21/21 [==============================] - 0s 6ms/step - loss: 4.7358e-04\n",
            "Epoch 33/50\n",
            "18/21 [========================>.....] - ETA: 0s - loss: 4.1706e-04"
          ]
        },
        {
          "output_type": "stream",
          "name": "stderr",
          "text": [
            "WARNING:tensorflow:Early stopping conditioned on metric `val_loss` which is not available. Available metrics are: loss\n"
          ]
        },
        {
          "output_type": "stream",
          "name": "stdout",
          "text": [
            "\b\b\b\b\b\b\b\b\b\b\b\b\b\b\b\b\b\b\b\b\b\b\b\b\b\b\b\b\b\b\b\b\b\b\b\b\b\b\b\b\b\b\b\b\b\b\b\b\b\b\b\b\b\b\b\b\b\b\b\b\b\b\b\b\b\b\b\r21/21 [==============================] - 0s 3ms/step - loss: 4.2716e-04\n",
            "Epoch 34/50\n",
            "19/21 [==========================>...] - ETA: 0s - loss: 5.0231e-04"
          ]
        },
        {
          "output_type": "stream",
          "name": "stderr",
          "text": [
            "WARNING:tensorflow:Early stopping conditioned on metric `val_loss` which is not available. Available metrics are: loss\n"
          ]
        },
        {
          "output_type": "stream",
          "name": "stdout",
          "text": [
            "\b\b\b\b\b\b\b\b\b\b\b\b\b\b\b\b\b\b\b\b\b\b\b\b\b\b\b\b\b\b\b\b\b\b\b\b\b\b\b\b\b\b\b\b\b\b\b\b\b\b\b\b\b\b\b\b\b\b\b\b\b\b\b\b\b\b\b\r21/21 [==============================] - 0s 3ms/step - loss: 5.2621e-04\n",
            "Epoch 35/50\n",
            "20/21 [===========================>..] - ETA: 0s - loss: 5.0283e-04"
          ]
        },
        {
          "output_type": "stream",
          "name": "stderr",
          "text": [
            "WARNING:tensorflow:Early stopping conditioned on metric `val_loss` which is not available. Available metrics are: loss\n"
          ]
        },
        {
          "output_type": "stream",
          "name": "stdout",
          "text": [
            "\b\b\b\b\b\b\b\b\b\b\b\b\b\b\b\b\b\b\b\b\b\b\b\b\b\b\b\b\b\b\b\b\b\b\b\b\b\b\b\b\b\b\b\b\b\b\b\b\b\b\b\b\b\b\b\b\b\b\b\b\b\b\b\b\b\b\b\r21/21 [==============================] - 0s 3ms/step - loss: 5.0080e-04\n",
            "Epoch 36/50\n",
            "13/21 [=================>............] - ETA: 0s - loss: 4.3185e-04"
          ]
        },
        {
          "output_type": "stream",
          "name": "stderr",
          "text": [
            "WARNING:tensorflow:Early stopping conditioned on metric `val_loss` which is not available. Available metrics are: loss\n"
          ]
        },
        {
          "output_type": "stream",
          "name": "stdout",
          "text": [
            "\b\b\b\b\b\b\b\b\b\b\b\b\b\b\b\b\b\b\b\b\b\b\b\b\b\b\b\b\b\b\b\b\b\b\b\b\b\b\b\b\b\b\b\b\b\b\b\b\b\b\b\b\b\b\b\b\b\b\b\b\b\b\b\b\b\b\b\r21/21 [==============================] - 0s 4ms/step - loss: 4.4061e-04\n",
            "Epoch 37/50\n",
            " 1/21 [>.............................] - ETA: 0s - loss: 5.2632e-04"
          ]
        },
        {
          "output_type": "stream",
          "name": "stderr",
          "text": [
            "WARNING:tensorflow:Early stopping conditioned on metric `val_loss` which is not available. Available metrics are: loss\n"
          ]
        },
        {
          "output_type": "stream",
          "name": "stdout",
          "text": [
            "\b\b\b\b\b\b\b\b\b\b\b\b\b\b\b\b\b\b\b\b\b\b\b\b\b\b\b\b\b\b\b\b\b\b\b\b\b\b\b\b\b\b\b\b\b\b\b\b\b\b\b\b\b\b\b\b\b\b\b\b\b\b\b\b\b\b\b\r21/21 [==============================] - 0s 3ms/step - loss: 4.8848e-04\n",
            "Epoch 38/50\n",
            "16/21 [=====================>........] - ETA: 0s - loss: 4.7695e-04"
          ]
        },
        {
          "output_type": "stream",
          "name": "stderr",
          "text": [
            "WARNING:tensorflow:Early stopping conditioned on metric `val_loss` which is not available. Available metrics are: loss\n"
          ]
        },
        {
          "output_type": "stream",
          "name": "stdout",
          "text": [
            "\b\b\b\b\b\b\b\b\b\b\b\b\b\b\b\b\b\b\b\b\b\b\b\b\b\b\b\b\b\b\b\b\b\b\b\b\b\b\b\b\b\b\b\b\b\b\b\b\b\b\b\b\b\b\b\b\b\b\b\b\b\b\b\b\b\b\b\r21/21 [==============================] - 0s 4ms/step - loss: 4.8969e-04\n",
            "Epoch 39/50\n",
            "20/21 [===========================>..] - ETA: 0s - loss: 4.8188e-04"
          ]
        },
        {
          "output_type": "stream",
          "name": "stderr",
          "text": [
            "WARNING:tensorflow:Early stopping conditioned on metric `val_loss` which is not available. Available metrics are: loss\n"
          ]
        },
        {
          "output_type": "stream",
          "name": "stdout",
          "text": [
            "\b\b\b\b\b\b\b\b\b\b\b\b\b\b\b\b\b\b\b\b\b\b\b\b\b\b\b\b\b\b\b\b\b\b\b\b\b\b\b\b\b\b\b\b\b\b\b\b\b\b\b\b\b\b\b\b\b\b\b\b\b\b\b\b\b\b\b\r21/21 [==============================] - 0s 3ms/step - loss: 4.8400e-04\n",
            "Epoch 40/50\n",
            "17/21 [=======================>......] - ETA: 0s - loss: 4.4260e-04"
          ]
        },
        {
          "output_type": "stream",
          "name": "stderr",
          "text": [
            "WARNING:tensorflow:Early stopping conditioned on metric `val_loss` which is not available. Available metrics are: loss\n"
          ]
        },
        {
          "output_type": "stream",
          "name": "stdout",
          "text": [
            "\b\b\b\b\b\b\b\b\b\b\b\b\b\b\b\b\b\b\b\b\b\b\b\b\b\b\b\b\b\b\b\b\b\b\b\b\b\b\b\b\b\b\b\b\b\b\b\b\b\b\b\b\b\b\b\b\b\b\b\b\b\b\b\b\b\b\b\r21/21 [==============================] - 0s 3ms/step - loss: 4.2895e-04\n",
            "Epoch 41/50\n",
            "16/21 [=====================>........] - ETA: 0s - loss: 4.0886e-04"
          ]
        },
        {
          "output_type": "stream",
          "name": "stderr",
          "text": [
            "WARNING:tensorflow:Early stopping conditioned on metric `val_loss` which is not available. Available metrics are: loss\n"
          ]
        },
        {
          "output_type": "stream",
          "name": "stdout",
          "text": [
            "\b\b\b\b\b\b\b\b\b\b\b\b\b\b\b\b\b\b\b\b\b\b\b\b\b\b\b\b\b\b\b\b\b\b\b\b\b\b\b\b\b\b\b\b\b\b\b\b\b\b\b\b\b\b\b\b\b\b\b\b\b\b\b\b\b\b\b\r21/21 [==============================] - 0s 4ms/step - loss: 4.3196e-04\n",
            "Epoch 42/50\n",
            "20/21 [===========================>..] - ETA: 0s - loss: 4.5346e-04"
          ]
        },
        {
          "output_type": "stream",
          "name": "stderr",
          "text": [
            "WARNING:tensorflow:Early stopping conditioned on metric `val_loss` which is not available. Available metrics are: loss\n"
          ]
        },
        {
          "output_type": "stream",
          "name": "stdout",
          "text": [
            "\b\b\b\b\b\b\b\b\b\b\b\b\b\b\b\b\b\b\b\b\b\b\b\b\b\b\b\b\b\b\b\b\b\b\b\b\b\b\b\b\b\b\b\b\b\b\b\b\b\b\b\b\b\b\b\b\b\b\b\b\b\b\b\b\b\b\b\r21/21 [==============================] - 0s 3ms/step - loss: 4.5286e-04\n",
            "Epoch 43/50\n",
            "14/21 [===================>..........] - ETA: 0s - loss: 4.8250e-04"
          ]
        },
        {
          "output_type": "stream",
          "name": "stderr",
          "text": [
            "WARNING:tensorflow:Early stopping conditioned on metric `val_loss` which is not available. Available metrics are: loss\n"
          ]
        },
        {
          "output_type": "stream",
          "name": "stdout",
          "text": [
            "\b\b\b\b\b\b\b\b\b\b\b\b\b\b\b\b\b\b\b\b\b\b\b\b\b\b\b\b\b\b\b\b\b\b\b\b\b\b\b\b\b\b\b\b\b\b\b\b\b\b\b\b\b\b\b\b\b\b\b\b\b\b\b\b\b\b\b\r21/21 [==============================] - 0s 4ms/step - loss: 4.4437e-04\n",
            "Epoch 44/50\n",
            "15/21 [====================>.........] - ETA: 0s - loss: 4.2828e-04"
          ]
        },
        {
          "output_type": "stream",
          "name": "stderr",
          "text": [
            "WARNING:tensorflow:Early stopping conditioned on metric `val_loss` which is not available. Available metrics are: loss\n"
          ]
        },
        {
          "output_type": "stream",
          "name": "stdout",
          "text": [
            "\b\b\b\b\b\b\b\b\b\b\b\b\b\b\b\b\b\b\b\b\b\b\b\b\b\b\b\b\b\b\b\b\b\b\b\b\b\b\b\b\b\b\b\b\b\b\b\b\b\b\b\b\b\b\b\b\b\b\b\b\b\b\b\b\b\b\b\r21/21 [==============================] - 0s 4ms/step - loss: 4.5166e-04\n",
            "Epoch 45/50\n",
            "17/21 [=======================>......] - ETA: 0s - loss: 4.9577e-04"
          ]
        },
        {
          "output_type": "stream",
          "name": "stderr",
          "text": [
            "WARNING:tensorflow:Early stopping conditioned on metric `val_loss` which is not available. Available metrics are: loss\n"
          ]
        },
        {
          "output_type": "stream",
          "name": "stdout",
          "text": [
            "\b\b\b\b\b\b\b\b\b\b\b\b\b\b\b\b\b\b\b\b\b\b\b\b\b\b\b\b\b\b\b\b\b\b\b\b\b\b\b\b\b\b\b\b\b\b\b\b\b\b\b\b\b\b\b\b\b\b\b\b\b\b\b\b\b\b\b\r21/21 [==============================] - 0s 4ms/step - loss: 4.9817e-04\n",
            "Epoch 46/50\n",
            "18/21 [========================>.....] - ETA: 0s - loss: 4.5516e-04"
          ]
        },
        {
          "output_type": "stream",
          "name": "stderr",
          "text": [
            "WARNING:tensorflow:Early stopping conditioned on metric `val_loss` which is not available. Available metrics are: loss\n"
          ]
        },
        {
          "output_type": "stream",
          "name": "stdout",
          "text": [
            "\b\b\b\b\b\b\b\b\b\b\b\b\b\b\b\b\b\b\b\b\b\b\b\b\b\b\b\b\b\b\b\b\b\b\b\b\b\b\b\b\b\b\b\b\b\b\b\b\b\b\b\b\b\b\b\b\b\b\b\b\b\b\b\b\b\b\b\r21/21 [==============================] - 0s 3ms/step - loss: 4.6201e-04\n",
            "Epoch 47/50\n",
            "14/21 [===================>..........] - ETA: 0s - loss: 4.0346e-04"
          ]
        },
        {
          "output_type": "stream",
          "name": "stderr",
          "text": [
            "WARNING:tensorflow:Early stopping conditioned on metric `val_loss` which is not available. Available metrics are: loss\n"
          ]
        },
        {
          "output_type": "stream",
          "name": "stdout",
          "text": [
            "\b\b\b\b\b\b\b\b\b\b\b\b\b\b\b\b\b\b\b\b\b\b\b\b\b\b\b\b\b\b\b\b\b\b\b\b\b\b\b\b\b\b\b\b\b\b\b\b\b\b\b\b\b\b\b\b\b\b\b\b\b\b\b\b\b\b\b\r21/21 [==============================] - 0s 4ms/step - loss: 4.2091e-04\n",
            "Epoch 48/50\n",
            "19/21 [==========================>...] - ETA: 0s - loss: 4.4106e-04"
          ]
        },
        {
          "output_type": "stream",
          "name": "stderr",
          "text": [
            "WARNING:tensorflow:Early stopping conditioned on metric `val_loss` which is not available. Available metrics are: loss\n"
          ]
        },
        {
          "output_type": "stream",
          "name": "stdout",
          "text": [
            "\b\b\b\b\b\b\b\b\b\b\b\b\b\b\b\b\b\b\b\b\b\b\b\b\b\b\b\b\b\b\b\b\b\b\b\b\b\b\b\b\b\b\b\b\b\b\b\b\b\b\b\b\b\b\b\b\b\b\b\b\b\b\b\b\b\b\b\r21/21 [==============================] - 0s 3ms/step - loss: 4.2808e-04\n",
            "Epoch 49/50\n",
            "14/21 [===================>..........] - ETA: 0s - loss: 4.8606e-04"
          ]
        },
        {
          "output_type": "stream",
          "name": "stderr",
          "text": [
            "WARNING:tensorflow:Early stopping conditioned on metric `val_loss` which is not available. Available metrics are: loss\n"
          ]
        },
        {
          "output_type": "stream",
          "name": "stdout",
          "text": [
            "\b\b\b\b\b\b\b\b\b\b\b\b\b\b\b\b\b\b\b\b\b\b\b\b\b\b\b\b\b\b\b\b\b\b\b\b\b\b\b\b\b\b\b\b\b\b\b\b\b\b\b\b\b\b\b\b\b\b\b\b\b\b\b\b\b\b\b\r21/21 [==============================] - 0s 4ms/step - loss: 4.5818e-04\n",
            "Epoch 50/50\n",
            "15/21 [====================>.........] - ETA: 0s - loss: 4.5154e-04"
          ]
        },
        {
          "output_type": "stream",
          "name": "stderr",
          "text": [
            "WARNING:tensorflow:Early stopping conditioned on metric `val_loss` which is not available. Available metrics are: loss\n"
          ]
        },
        {
          "output_type": "stream",
          "name": "stdout",
          "text": [
            "21/21 [==============================] - 0s 4ms/step - loss: 4.6398e-04\n",
            "6/6 [==============================] - 0s 4ms/step\n",
            "Test RMSE: 13.733341808435583\n",
            "Test MAE: 9.643616269054876\n",
            "Test MAPE: 1.8487147209799264%\n",
            "Epoch 1/50\n",
            "18/26 [===================>..........] - ETA: 0s - loss: 5.0029e-04"
          ]
        },
        {
          "output_type": "stream",
          "name": "stderr",
          "text": [
            "WARNING:tensorflow:Early stopping conditioned on metric `val_loss` which is not available. Available metrics are: loss\n"
          ]
        },
        {
          "output_type": "stream",
          "name": "stdout",
          "text": [
            "\b\b\b\b\b\b\b\b\b\b\b\b\b\b\b\b\b\b\b\b\b\b\b\b\b\b\b\b\b\b\b\b\b\b\b\b\b\b\b\b\b\b\b\b\b\b\b\b\b\b\b\b\b\b\b\b\b\b\b\b\b\b\b\b\b\b\b\r26/26 [==============================] - 0s 3ms/step - loss: 5.0382e-04\n",
            "Epoch 2/50\n",
            "19/26 [====================>.........] - ETA: 0s - loss: 5.0310e-04"
          ]
        },
        {
          "output_type": "stream",
          "name": "stderr",
          "text": [
            "WARNING:tensorflow:Early stopping conditioned on metric `val_loss` which is not available. Available metrics are: loss\n"
          ]
        },
        {
          "output_type": "stream",
          "name": "stdout",
          "text": [
            "\b\b\b\b\b\b\b\b\b\b\b\b\b\b\b\b\b\b\b\b\b\b\b\b\b\b\b\b\b\b\b\b\b\b\b\b\b\b\b\b\b\b\b\b\b\b\b\b\b\b\b\b\b\b\b\b\b\b\b\b\b\b\b\b\b\b\b\r26/26 [==============================] - 0s 3ms/step - loss: 5.7647e-04\n",
            "Epoch 3/50\n",
            "18/26 [===================>..........] - ETA: 0s - loss: 7.4314e-04"
          ]
        },
        {
          "output_type": "stream",
          "name": "stderr",
          "text": [
            "WARNING:tensorflow:Early stopping conditioned on metric `val_loss` which is not available. Available metrics are: loss\n"
          ]
        },
        {
          "output_type": "stream",
          "name": "stdout",
          "text": [
            "\b\b\b\b\b\b\b\b\b\b\b\b\b\b\b\b\b\b\b\b\b\b\b\b\b\b\b\b\b\b\b\b\b\b\b\b\b\b\b\b\b\b\b\b\b\b\b\b\b\b\b\b\b\b\b\b\b\b\b\b\b\b\b\b\b\b\b\r26/26 [==============================] - 0s 3ms/step - loss: 7.0384e-04\n",
            "Epoch 4/50\n",
            "17/26 [==================>...........] - ETA: 0s - loss: 7.5916e-04"
          ]
        },
        {
          "output_type": "stream",
          "name": "stderr",
          "text": [
            "WARNING:tensorflow:Early stopping conditioned on metric `val_loss` which is not available. Available metrics are: loss\n"
          ]
        },
        {
          "output_type": "stream",
          "name": "stdout",
          "text": [
            "\b\b\b\b\b\b\b\b\b\b\b\b\b\b\b\b\b\b\b\b\b\b\b\b\b\b\b\b\b\b\b\b\b\b\b\b\b\b\b\b\b\b\b\b\b\b\b\b\b\b\b\b\b\b\b\b\b\b\b\b\b\b\b\b\b\b\b\r26/26 [==============================] - 0s 3ms/step - loss: 6.5546e-04\n",
            "Epoch 5/50\n",
            "20/26 [======================>.......] - ETA: 0s - loss: 5.3193e-04"
          ]
        },
        {
          "output_type": "stream",
          "name": "stderr",
          "text": [
            "WARNING:tensorflow:Early stopping conditioned on metric `val_loss` which is not available. Available metrics are: loss\n"
          ]
        },
        {
          "output_type": "stream",
          "name": "stdout",
          "text": [
            "\b\b\b\b\b\b\b\b\b\b\b\b\b\b\b\b\b\b\b\b\b\b\b\b\b\b\b\b\b\b\b\b\b\b\b\b\b\b\b\b\b\b\b\b\b\b\b\b\b\b\b\b\b\b\b\b\b\b\b\b\b\b\b\b\b\b\b\r26/26 [==============================] - 0s 3ms/step - loss: 5.2632e-04\n",
            "Epoch 6/50\n",
            "18/26 [===================>..........] - ETA: 0s - loss: 4.6919e-04"
          ]
        },
        {
          "output_type": "stream",
          "name": "stderr",
          "text": [
            "WARNING:tensorflow:Early stopping conditioned on metric `val_loss` which is not available. Available metrics are: loss\n"
          ]
        },
        {
          "output_type": "stream",
          "name": "stdout",
          "text": [
            "\b\b\b\b\b\b\b\b\b\b\b\b\b\b\b\b\b\b\b\b\b\b\b\b\b\b\b\b\b\b\b\b\b\b\b\b\b\b\b\b\b\b\b\b\b\b\b\b\b\b\b\b\b\b\b\b\b\b\b\b\b\b\b\b\b\b\b\r26/26 [==============================] - 0s 3ms/step - loss: 4.9787e-04\n",
            "Epoch 7/50\n",
            "18/26 [===================>..........] - ETA: 0s - loss: 4.1593e-04"
          ]
        },
        {
          "output_type": "stream",
          "name": "stderr",
          "text": [
            "WARNING:tensorflow:Early stopping conditioned on metric `val_loss` which is not available. Available metrics are: loss\n"
          ]
        },
        {
          "output_type": "stream",
          "name": "stdout",
          "text": [
            "\b\b\b\b\b\b\b\b\b\b\b\b\b\b\b\b\b\b\b\b\b\b\b\b\b\b\b\b\b\b\b\b\b\b\b\b\b\b\b\b\b\b\b\b\b\b\b\b\b\b\b\b\b\b\b\b\b\b\b\b\b\b\b\b\b\b\b\r26/26 [==============================] - 0s 3ms/step - loss: 5.2147e-04\n",
            "Epoch 8/50\n",
            "12/26 [============>.................] - ETA: 0s - loss: 6.0293e-04"
          ]
        },
        {
          "output_type": "stream",
          "name": "stderr",
          "text": [
            "WARNING:tensorflow:Early stopping conditioned on metric `val_loss` which is not available. Available metrics are: loss\n"
          ]
        },
        {
          "output_type": "stream",
          "name": "stdout",
          "text": [
            "\b\b\b\b\b\b\b\b\b\b\b\b\b\b\b\b\b\b\b\b\b\b\b\b\b\b\b\b\b\b\b\b\b\b\b\b\b\b\b\b\b\b\b\b\b\b\b\b\b\b\b\b\b\b\b\b\b\b\b\b\b\b\b\b\b\b\b\r26/26 [==============================] - 0s 4ms/step - loss: 5.1265e-04\n",
            "Epoch 9/50\n",
            "19/26 [====================>.........] - ETA: 0s - loss: 5.0741e-04"
          ]
        },
        {
          "output_type": "stream",
          "name": "stderr",
          "text": [
            "WARNING:tensorflow:Early stopping conditioned on metric `val_loss` which is not available. Available metrics are: loss\n"
          ]
        },
        {
          "output_type": "stream",
          "name": "stdout",
          "text": [
            "\b\b\b\b\b\b\b\b\b\b\b\b\b\b\b\b\b\b\b\b\b\b\b\b\b\b\b\b\b\b\b\b\b\b\b\b\b\b\b\b\b\b\b\b\b\b\b\b\b\b\b\b\b\b\b\b\b\b\b\b\b\b\b\b\b\b\b\r26/26 [==============================] - 0s 3ms/step - loss: 5.0534e-04\n",
            "Epoch 10/50\n",
            "15/26 [================>.............] - ETA: 0s - loss: 5.4071e-04"
          ]
        },
        {
          "output_type": "stream",
          "name": "stderr",
          "text": [
            "WARNING:tensorflow:Early stopping conditioned on metric `val_loss` which is not available. Available metrics are: loss\n"
          ]
        },
        {
          "output_type": "stream",
          "name": "stdout",
          "text": [
            "\b\b\b\b\b\b\b\b\b\b\b\b\b\b\b\b\b\b\b\b\b\b\b\b\b\b\b\b\b\b\b\b\b\b\b\b\b\b\b\b\b\b\b\b\b\b\b\b\b\b\b\b\b\b\b\b\b\b\b\b\b\b\b\b\b\b\b\r26/26 [==============================] - 0s 4ms/step - loss: 4.8755e-04\n",
            "Epoch 11/50\n",
            "22/26 [========================>.....] - ETA: 0s - loss: 5.1507e-04"
          ]
        },
        {
          "output_type": "stream",
          "name": "stderr",
          "text": [
            "WARNING:tensorflow:Early stopping conditioned on metric `val_loss` which is not available. Available metrics are: loss\n"
          ]
        },
        {
          "output_type": "stream",
          "name": "stdout",
          "text": [
            "\b\b\b\b\b\b\b\b\b\b\b\b\b\b\b\b\b\b\b\b\b\b\b\b\b\b\b\b\b\b\b\b\b\b\b\b\b\b\b\b\b\b\b\b\b\b\b\b\b\b\b\b\b\b\b\b\b\b\b\b\b\b\b\b\b\b\b\r26/26 [==============================] - 0s 3ms/step - loss: 4.9518e-04\n",
            "Epoch 12/50\n",
            "17/26 [==================>...........] - ETA: 0s - loss: 4.5068e-04"
          ]
        },
        {
          "output_type": "stream",
          "name": "stderr",
          "text": [
            "WARNING:tensorflow:Early stopping conditioned on metric `val_loss` which is not available. Available metrics are: loss\n"
          ]
        },
        {
          "output_type": "stream",
          "name": "stdout",
          "text": [
            "\b\b\b\b\b\b\b\b\b\b\b\b\b\b\b\b\b\b\b\b\b\b\b\b\b\b\b\b\b\b\b\b\b\b\b\b\b\b\b\b\b\b\b\b\b\b\b\b\b\b\b\b\b\b\b\b\b\b\b\b\b\b\b\b\b\b\b\r26/26 [==============================] - 0s 4ms/step - loss: 4.9990e-04\n",
            "Epoch 13/50\n",
            "17/26 [==================>...........] - ETA: 0s - loss: 4.7707e-04"
          ]
        },
        {
          "output_type": "stream",
          "name": "stderr",
          "text": [
            "WARNING:tensorflow:Early stopping conditioned on metric `val_loss` which is not available. Available metrics are: loss\n"
          ]
        },
        {
          "output_type": "stream",
          "name": "stdout",
          "text": [
            "\b\b\b\b\b\b\b\b\b\b\b\b\b\b\b\b\b\b\b\b\b\b\b\b\b\b\b\b\b\b\b\b\b\b\b\b\b\b\b\b\b\b\b\b\b\b\b\b\b\b\b\b\b\b\b\b\b\b\b\b\b\b\b\b\b\b\b\r26/26 [==============================] - 0s 4ms/step - loss: 5.0644e-04\n",
            "Epoch 14/50\n",
            "16/26 [=================>............] - ETA: 0s - loss: 5.1073e-04"
          ]
        },
        {
          "output_type": "stream",
          "name": "stderr",
          "text": [
            "WARNING:tensorflow:Early stopping conditioned on metric `val_loss` which is not available. Available metrics are: loss\n"
          ]
        },
        {
          "output_type": "stream",
          "name": "stdout",
          "text": [
            "\b\b\b\b\b\b\b\b\b\b\b\b\b\b\b\b\b\b\b\b\b\b\b\b\b\b\b\b\b\b\b\b\b\b\b\b\b\b\b\b\b\b\b\b\b\b\b\b\b\b\b\b\b\b\b\b\b\b\b\b\b\b\b\b\b\b\b\r26/26 [==============================] - 0s 4ms/step - loss: 5.0833e-04\n",
            "Epoch 15/50\n",
            "17/26 [==================>...........] - ETA: 0s - loss: 4.9772e-04"
          ]
        },
        {
          "output_type": "stream",
          "name": "stderr",
          "text": [
            "WARNING:tensorflow:Early stopping conditioned on metric `val_loss` which is not available. Available metrics are: loss\n"
          ]
        },
        {
          "output_type": "stream",
          "name": "stdout",
          "text": [
            "\b\b\b\b\b\b\b\b\b\b\b\b\b\b\b\b\b\b\b\b\b\b\b\b\b\b\b\b\b\b\b\b\b\b\b\b\b\b\b\b\b\b\b\b\b\b\b\b\b\b\b\b\b\b\b\b\b\b\b\b\b\b\b\b\b\b\b\r26/26 [==============================] - 0s 3ms/step - loss: 4.8965e-04\n",
            "Epoch 16/50\n",
            "18/26 [===================>..........] - ETA: 0s - loss: 5.2426e-04"
          ]
        },
        {
          "output_type": "stream",
          "name": "stderr",
          "text": [
            "WARNING:tensorflow:Early stopping conditioned on metric `val_loss` which is not available. Available metrics are: loss\n"
          ]
        },
        {
          "output_type": "stream",
          "name": "stdout",
          "text": [
            "\b\b\b\b\b\b\b\b\b\b\b\b\b\b\b\b\b\b\b\b\b\b\b\b\b\b\b\b\b\b\b\b\b\b\b\b\b\b\b\b\b\b\b\b\b\b\b\b\b\b\b\b\b\b\b\b\b\b\b\b\b\b\b\b\b\b\b\r26/26 [==============================] - 0s 3ms/step - loss: 5.0937e-04\n",
            "Epoch 17/50\n",
            "17/26 [==================>...........] - ETA: 0s - loss: 5.4708e-04"
          ]
        },
        {
          "output_type": "stream",
          "name": "stderr",
          "text": [
            "WARNING:tensorflow:Early stopping conditioned on metric `val_loss` which is not available. Available metrics are: loss\n"
          ]
        },
        {
          "output_type": "stream",
          "name": "stdout",
          "text": [
            "\b\b\b\b\b\b\b\b\b\b\b\b\b\b\b\b\b\b\b\b\b\b\b\b\b\b\b\b\b\b\b\b\b\b\b\b\b\b\b\b\b\b\b\b\b\b\b\b\b\b\b\b\b\b\b\b\b\b\b\b\b\b\b\b\b\b\b\r26/26 [==============================] - 0s 3ms/step - loss: 5.3009e-04\n",
            "Epoch 18/50\n",
            "15/26 [================>.............] - ETA: 0s - loss: 5.4170e-04"
          ]
        },
        {
          "output_type": "stream",
          "name": "stderr",
          "text": [
            "WARNING:tensorflow:Early stopping conditioned on metric `val_loss` which is not available. Available metrics are: loss\n"
          ]
        },
        {
          "output_type": "stream",
          "name": "stdout",
          "text": [
            "\b\b\b\b\b\b\b\b\b\b\b\b\b\b\b\b\b\b\b\b\b\b\b\b\b\b\b\b\b\b\b\b\b\b\b\b\b\b\b\b\b\b\b\b\b\b\b\b\b\b\b\b\b\b\b\b\b\b\b\b\b\b\b\b\b\b\b\r26/26 [==============================] - 0s 4ms/step - loss: 5.2628e-04\n",
            "Epoch 19/50\n",
            "20/26 [======================>.......] - ETA: 0s - loss: 4.9930e-04"
          ]
        },
        {
          "output_type": "stream",
          "name": "stderr",
          "text": [
            "WARNING:tensorflow:Early stopping conditioned on metric `val_loss` which is not available. Available metrics are: loss\n"
          ]
        },
        {
          "output_type": "stream",
          "name": "stdout",
          "text": [
            "\b\b\b\b\b\b\b\b\b\b\b\b\b\b\b\b\b\b\b\b\b\b\b\b\b\b\b\b\b\b\b\b\b\b\b\b\b\b\b\b\b\b\b\b\b\b\b\b\b\b\b\b\b\b\b\b\b\b\b\b\b\b\b\b\b\b\b\r26/26 [==============================] - 0s 3ms/step - loss: 5.4585e-04\n",
            "Epoch 20/50\n",
            "18/26 [===================>..........] - ETA: 0s - loss: 5.4533e-04"
          ]
        },
        {
          "output_type": "stream",
          "name": "stderr",
          "text": [
            "WARNING:tensorflow:Early stopping conditioned on metric `val_loss` which is not available. Available metrics are: loss\n"
          ]
        },
        {
          "output_type": "stream",
          "name": "stdout",
          "text": [
            "\b\b\b\b\b\b\b\b\b\b\b\b\b\b\b\b\b\b\b\b\b\b\b\b\b\b\b\b\b\b\b\b\b\b\b\b\b\b\b\b\b\b\b\b\b\b\b\b\b\b\b\b\b\b\b\b\b\b\b\b\b\b\b\b\b\b\b\r26/26 [==============================] - 0s 3ms/step - loss: 5.2315e-04\n",
            "Epoch 21/50\n",
            "17/26 [==================>...........] - ETA: 0s - loss: 4.3257e-04"
          ]
        },
        {
          "output_type": "stream",
          "name": "stderr",
          "text": [
            "WARNING:tensorflow:Early stopping conditioned on metric `val_loss` which is not available. Available metrics are: loss\n"
          ]
        },
        {
          "output_type": "stream",
          "name": "stdout",
          "text": [
            "\b\b\b\b\b\b\b\b\b\b\b\b\b\b\b\b\b\b\b\b\b\b\b\b\b\b\b\b\b\b\b\b\b\b\b\b\b\b\b\b\b\b\b\b\b\b\b\b\b\b\b\b\b\b\b\b\b\b\b\b\b\b\b\b\b\b\b\r26/26 [==============================] - 0s 3ms/step - loss: 5.1105e-04\n",
            "Epoch 22/50\n",
            "16/26 [=================>............] - ETA: 0s - loss: 6.2308e-04"
          ]
        },
        {
          "output_type": "stream",
          "name": "stderr",
          "text": [
            "WARNING:tensorflow:Early stopping conditioned on metric `val_loss` which is not available. Available metrics are: loss\n"
          ]
        },
        {
          "output_type": "stream",
          "name": "stdout",
          "text": [
            "\b\b\b\b\b\b\b\b\b\b\b\b\b\b\b\b\b\b\b\b\b\b\b\b\b\b\b\b\b\b\b\b\b\b\b\b\b\b\b\b\b\b\b\b\b\b\b\b\b\b\b\b\b\b\b\b\b\b\b\b\b\b\b\b\b\b\b\r26/26 [==============================] - 0s 3ms/step - loss: 6.1648e-04\n",
            "Epoch 23/50\n",
            "15/26 [================>.............] - ETA: 0s - loss: 6.4634e-04"
          ]
        },
        {
          "output_type": "stream",
          "name": "stderr",
          "text": [
            "WARNING:tensorflow:Early stopping conditioned on metric `val_loss` which is not available. Available metrics are: loss\n"
          ]
        },
        {
          "output_type": "stream",
          "name": "stdout",
          "text": [
            "\b\b\b\b\b\b\b\b\b\b\b\b\b\b\b\b\b\b\b\b\b\b\b\b\b\b\b\b\b\b\b\b\b\b\b\b\b\b\b\b\b\b\b\b\b\b\b\b\b\b\b\b\b\b\b\b\b\b\b\b\b\b\b\b\b\b\b\r26/26 [==============================] - 0s 4ms/step - loss: 5.7500e-04\n",
            "Epoch 24/50\n",
            "16/26 [=================>............] - ETA: 0s - loss: 5.2412e-04"
          ]
        },
        {
          "output_type": "stream",
          "name": "stderr",
          "text": [
            "WARNING:tensorflow:Early stopping conditioned on metric `val_loss` which is not available. Available metrics are: loss\n"
          ]
        },
        {
          "output_type": "stream",
          "name": "stdout",
          "text": [
            "\b\b\b\b\b\b\b\b\b\b\b\b\b\b\b\b\b\b\b\b\b\b\b\b\b\b\b\b\b\b\b\b\b\b\b\b\b\b\b\b\b\b\b\b\b\b\b\b\b\b\b\b\b\b\b\b\b\b\b\b\b\b\b\b\b\b\b\r26/26 [==============================] - 0s 3ms/step - loss: 5.2959e-04\n",
            "Epoch 25/50\n",
            "20/26 [======================>.......] - ETA: 0s - loss: 5.0332e-04"
          ]
        },
        {
          "output_type": "stream",
          "name": "stderr",
          "text": [
            "WARNING:tensorflow:Early stopping conditioned on metric `val_loss` which is not available. Available metrics are: loss\n"
          ]
        },
        {
          "output_type": "stream",
          "name": "stdout",
          "text": [
            "\b\b\b\b\b\b\b\b\b\b\b\b\b\b\b\b\b\b\b\b\b\b\b\b\b\b\b\b\b\b\b\b\b\b\b\b\b\b\b\b\b\b\b\b\b\b\b\b\b\b\b\b\b\b\b\b\b\b\b\b\b\b\b\b\b\b\b\r26/26 [==============================] - 0s 3ms/step - loss: 4.9318e-04\n",
            "Epoch 26/50\n",
            "20/26 [======================>.......] - ETA: 0s - loss: 5.4165e-04"
          ]
        },
        {
          "output_type": "stream",
          "name": "stderr",
          "text": [
            "WARNING:tensorflow:Early stopping conditioned on metric `val_loss` which is not available. Available metrics are: loss\n"
          ]
        },
        {
          "output_type": "stream",
          "name": "stdout",
          "text": [
            "\b\b\b\b\b\b\b\b\b\b\b\b\b\b\b\b\b\b\b\b\b\b\b\b\b\b\b\b\b\b\b\b\b\b\b\b\b\b\b\b\b\b\b\b\b\b\b\b\b\b\b\b\b\b\b\b\b\b\b\b\b\b\b\b\b\b\b\r26/26 [==============================] - 0s 3ms/step - loss: 5.0982e-04\n",
            "Epoch 27/50\n",
            "19/26 [====================>.........] - ETA: 0s - loss: 5.4076e-04"
          ]
        },
        {
          "output_type": "stream",
          "name": "stderr",
          "text": [
            "WARNING:tensorflow:Early stopping conditioned on metric `val_loss` which is not available. Available metrics are: loss\n"
          ]
        },
        {
          "output_type": "stream",
          "name": "stdout",
          "text": [
            "\b\b\b\b\b\b\b\b\b\b\b\b\b\b\b\b\b\b\b\b\b\b\b\b\b\b\b\b\b\b\b\b\b\b\b\b\b\b\b\b\b\b\b\b\b\b\b\b\b\b\b\b\b\b\b\b\b\b\b\b\b\b\b\b\b\b\b\r26/26 [==============================] - 0s 3ms/step - loss: 5.4459e-04\n",
            "Epoch 28/50\n",
            "18/26 [===================>..........] - ETA: 0s - loss: 4.9304e-04"
          ]
        },
        {
          "output_type": "stream",
          "name": "stderr",
          "text": [
            "WARNING:tensorflow:Early stopping conditioned on metric `val_loss` which is not available. Available metrics are: loss\n"
          ]
        },
        {
          "output_type": "stream",
          "name": "stdout",
          "text": [
            "\b\b\b\b\b\b\b\b\b\b\b\b\b\b\b\b\b\b\b\b\b\b\b\b\b\b\b\b\b\b\b\b\b\b\b\b\b\b\b\b\b\b\b\b\b\b\b\b\b\b\b\b\b\b\b\b\b\b\b\b\b\b\b\b\b\b\b\r26/26 [==============================] - 0s 3ms/step - loss: 5.4192e-04\n",
            "Epoch 29/50\n",
            "15/26 [================>.............] - ETA: 0s - loss: 6.0831e-04"
          ]
        },
        {
          "output_type": "stream",
          "name": "stderr",
          "text": [
            "WARNING:tensorflow:Early stopping conditioned on metric `val_loss` which is not available. Available metrics are: loss\n"
          ]
        },
        {
          "output_type": "stream",
          "name": "stdout",
          "text": [
            "\b\b\b\b\b\b\b\b\b\b\b\b\b\b\b\b\b\b\b\b\b\b\b\b\b\b\b\b\b\b\b\b\b\b\b\b\b\b\b\b\b\b\b\b\b\b\b\b\b\b\b\b\b\b\b\b\b\b\b\b\b\b\b\b\b\b\b\r26/26 [==============================] - 0s 4ms/step - loss: 5.8640e-04\n",
            "Epoch 30/50\n",
            "17/26 [==================>...........] - ETA: 0s - loss: 6.2614e-04"
          ]
        },
        {
          "output_type": "stream",
          "name": "stderr",
          "text": [
            "WARNING:tensorflow:Early stopping conditioned on metric `val_loss` which is not available. Available metrics are: loss\n"
          ]
        },
        {
          "output_type": "stream",
          "name": "stdout",
          "text": [
            "\b\b\b\b\b\b\b\b\b\b\b\b\b\b\b\b\b\b\b\b\b\b\b\b\b\b\b\b\b\b\b\b\b\b\b\b\b\b\b\b\b\b\b\b\b\b\b\b\b\b\b\b\b\b\b\b\b\b\b\b\b\b\b\b\b\b\b\r26/26 [==============================] - 0s 3ms/step - loss: 5.5085e-04\n",
            "Epoch 31/50\n",
            "17/26 [==================>...........] - ETA: 0s - loss: 5.4093e-04"
          ]
        },
        {
          "output_type": "stream",
          "name": "stderr",
          "text": [
            "WARNING:tensorflow:Early stopping conditioned on metric `val_loss` which is not available. Available metrics are: loss\n"
          ]
        },
        {
          "output_type": "stream",
          "name": "stdout",
          "text": [
            "\b\b\b\b\b\b\b\b\b\b\b\b\b\b\b\b\b\b\b\b\b\b\b\b\b\b\b\b\b\b\b\b\b\b\b\b\b\b\b\b\b\b\b\b\b\b\b\b\b\b\b\b\b\b\b\b\b\b\b\b\b\b\b\b\b\b\b\r26/26 [==============================] - 0s 3ms/step - loss: 5.0147e-04\n",
            "Epoch 32/50\n",
            "21/26 [=======================>......] - ETA: 0s - loss: 4.9779e-04"
          ]
        },
        {
          "output_type": "stream",
          "name": "stderr",
          "text": [
            "WARNING:tensorflow:Early stopping conditioned on metric `val_loss` which is not available. Available metrics are: loss\n"
          ]
        },
        {
          "output_type": "stream",
          "name": "stdout",
          "text": [
            "\b\b\b\b\b\b\b\b\b\b\b\b\b\b\b\b\b\b\b\b\b\b\b\b\b\b\b\b\b\b\b\b\b\b\b\b\b\b\b\b\b\b\b\b\b\b\b\b\b\b\b\b\b\b\b\b\b\b\b\b\b\b\b\b\b\b\b\r26/26 [==============================] - 0s 3ms/step - loss: 4.9482e-04\n",
            "Epoch 33/50\n",
            "17/26 [==================>...........] - ETA: 0s - loss: 5.2457e-04"
          ]
        },
        {
          "output_type": "stream",
          "name": "stderr",
          "text": [
            "WARNING:tensorflow:Early stopping conditioned on metric `val_loss` which is not available. Available metrics are: loss\n"
          ]
        },
        {
          "output_type": "stream",
          "name": "stdout",
          "text": [
            "\b\b\b\b\b\b\b\b\b\b\b\b\b\b\b\b\b\b\b\b\b\b\b\b\b\b\b\b\b\b\b\b\b\b\b\b\b\b\b\b\b\b\b\b\b\b\b\b\b\b\b\b\b\b\b\b\b\b\b\b\b\b\b\b\b\b\b\r26/26 [==============================] - 0s 3ms/step - loss: 5.0270e-04\n",
            "Epoch 34/50\n",
            "17/26 [==================>...........] - ETA: 0s - loss: 4.9661e-04"
          ]
        },
        {
          "output_type": "stream",
          "name": "stderr",
          "text": [
            "WARNING:tensorflow:Early stopping conditioned on metric `val_loss` which is not available. Available metrics are: loss\n"
          ]
        },
        {
          "output_type": "stream",
          "name": "stdout",
          "text": [
            "\b\b\b\b\b\b\b\b\b\b\b\b\b\b\b\b\b\b\b\b\b\b\b\b\b\b\b\b\b\b\b\b\b\b\b\b\b\b\b\b\b\b\b\b\b\b\b\b\b\b\b\b\b\b\b\b\b\b\b\b\b\b\b\b\b\b\b\r26/26 [==============================] - 0s 4ms/step - loss: 4.8990e-04\n",
            "Epoch 35/50\n",
            "19/26 [====================>.........] - ETA: 0s - loss: 5.1155e-04"
          ]
        },
        {
          "output_type": "stream",
          "name": "stderr",
          "text": [
            "WARNING:tensorflow:Early stopping conditioned on metric `val_loss` which is not available. Available metrics are: loss\n"
          ]
        },
        {
          "output_type": "stream",
          "name": "stdout",
          "text": [
            "\b\b\b\b\b\b\b\b\b\b\b\b\b\b\b\b\b\b\b\b\b\b\b\b\b\b\b\b\b\b\b\b\b\b\b\b\b\b\b\b\b\b\b\b\b\b\b\b\b\b\b\b\b\b\b\b\b\b\b\b\b\b\b\b\b\b\b\r26/26 [==============================] - 0s 3ms/step - loss: 5.3759e-04\n",
            "Epoch 36/50\n",
            "16/26 [=================>............] - ETA: 0s - loss: 5.2690e-04"
          ]
        },
        {
          "output_type": "stream",
          "name": "stderr",
          "text": [
            "WARNING:tensorflow:Early stopping conditioned on metric `val_loss` which is not available. Available metrics are: loss\n"
          ]
        },
        {
          "output_type": "stream",
          "name": "stdout",
          "text": [
            "\b\b\b\b\b\b\b\b\b\b\b\b\b\b\b\b\b\b\b\b\b\b\b\b\b\b\b\b\b\b\b\b\b\b\b\b\b\b\b\b\b\b\b\b\b\b\b\b\b\b\b\b\b\b\b\b\b\b\b\b\b\b\b\b\b\b\b\r26/26 [==============================] - 0s 3ms/step - loss: 5.1577e-04\n",
            "Epoch 37/50\n",
            "17/26 [==================>...........] - ETA: 0s - loss: 5.3157e-04"
          ]
        },
        {
          "output_type": "stream",
          "name": "stderr",
          "text": [
            "WARNING:tensorflow:Early stopping conditioned on metric `val_loss` which is not available. Available metrics are: loss\n"
          ]
        },
        {
          "output_type": "stream",
          "name": "stdout",
          "text": [
            "\b\b\b\b\b\b\b\b\b\b\b\b\b\b\b\b\b\b\b\b\b\b\b\b\b\b\b\b\b\b\b\b\b\b\b\b\b\b\b\b\b\b\b\b\b\b\b\b\b\b\b\b\b\b\b\b\b\b\b\b\b\b\b\b\b\b\b\r26/26 [==============================] - 0s 4ms/step - loss: 5.2142e-04\n",
            "Epoch 38/50\n",
            "16/26 [=================>............] - ETA: 0s - loss: 4.7981e-04"
          ]
        },
        {
          "output_type": "stream",
          "name": "stderr",
          "text": [
            "WARNING:tensorflow:Early stopping conditioned on metric `val_loss` which is not available. Available metrics are: loss\n"
          ]
        },
        {
          "output_type": "stream",
          "name": "stdout",
          "text": [
            "\b\b\b\b\b\b\b\b\b\b\b\b\b\b\b\b\b\b\b\b\b\b\b\b\b\b\b\b\b\b\b\b\b\b\b\b\b\b\b\b\b\b\b\b\b\b\b\b\b\b\b\b\b\b\b\b\b\b\b\b\b\b\b\b\b\b\b\r26/26 [==============================] - 0s 4ms/step - loss: 5.4949e-04\n",
            "Epoch 39/50\n",
            "15/26 [================>.............] - ETA: 0s - loss: 5.2240e-04"
          ]
        },
        {
          "output_type": "stream",
          "name": "stderr",
          "text": [
            "WARNING:tensorflow:Early stopping conditioned on metric `val_loss` which is not available. Available metrics are: loss\n"
          ]
        },
        {
          "output_type": "stream",
          "name": "stdout",
          "text": [
            "\b\b\b\b\b\b\b\b\b\b\b\b\b\b\b\b\b\b\b\b\b\b\b\b\b\b\b\b\b\b\b\b\b\b\b\b\b\b\b\b\b\b\b\b\b\b\b\b\b\b\b\b\b\b\b\b\b\b\b\b\b\b\b\b\b\b\b\r26/26 [==============================] - 0s 4ms/step - loss: 5.1008e-04\n",
            "Epoch 40/50\n",
            "14/26 [===============>..............] - ETA: 0s - loss: 5.6609e-04"
          ]
        },
        {
          "output_type": "stream",
          "name": "stderr",
          "text": [
            "WARNING:tensorflow:Early stopping conditioned on metric `val_loss` which is not available. Available metrics are: loss\n"
          ]
        },
        {
          "output_type": "stream",
          "name": "stdout",
          "text": [
            "\b\b\b\b\b\b\b\b\b\b\b\b\b\b\b\b\b\b\b\b\b\b\b\b\b\b\b\b\b\b\b\b\b\b\b\b\b\b\b\b\b\b\b\b\b\b\b\b\b\b\b\b\b\b\b\b\b\b\b\b\b\b\b\b\b\b\b\r26/26 [==============================] - 0s 3ms/step - loss: 4.9776e-04\n",
            "Epoch 41/50\n",
            "18/26 [===================>..........] - ETA: 0s - loss: 5.2833e-04"
          ]
        },
        {
          "output_type": "stream",
          "name": "stderr",
          "text": [
            "WARNING:tensorflow:Early stopping conditioned on metric `val_loss` which is not available. Available metrics are: loss\n"
          ]
        },
        {
          "output_type": "stream",
          "name": "stdout",
          "text": [
            "\b\b\b\b\b\b\b\b\b\b\b\b\b\b\b\b\b\b\b\b\b\b\b\b\b\b\b\b\b\b\b\b\b\b\b\b\b\b\b\b\b\b\b\b\b\b\b\b\b\b\b\b\b\b\b\b\b\b\b\b\b\b\b\b\b\b\b\r26/26 [==============================] - 0s 3ms/step - loss: 4.8629e-04\n",
            "Epoch 42/50\n",
            "21/26 [=======================>......] - ETA: 0s - loss: 5.4785e-04"
          ]
        },
        {
          "output_type": "stream",
          "name": "stderr",
          "text": [
            "WARNING:tensorflow:Early stopping conditioned on metric `val_loss` which is not available. Available metrics are: loss\n"
          ]
        },
        {
          "output_type": "stream",
          "name": "stdout",
          "text": [
            "\b\b\b\b\b\b\b\b\b\b\b\b\b\b\b\b\b\b\b\b\b\b\b\b\b\b\b\b\b\b\b\b\b\b\b\b\b\b\b\b\b\b\b\b\b\b\b\b\b\b\b\b\b\b\b\b\b\b\b\b\b\b\b\b\b\b\b\r26/26 [==============================] - 0s 3ms/step - loss: 5.2733e-04\n",
            "Epoch 43/50\n",
            "18/26 [===================>..........] - ETA: 0s - loss: 4.9769e-04"
          ]
        },
        {
          "output_type": "stream",
          "name": "stderr",
          "text": [
            "WARNING:tensorflow:Early stopping conditioned on metric `val_loss` which is not available. Available metrics are: loss\n"
          ]
        },
        {
          "output_type": "stream",
          "name": "stdout",
          "text": [
            "\b\b\b\b\b\b\b\b\b\b\b\b\b\b\b\b\b\b\b\b\b\b\b\b\b\b\b\b\b\b\b\b\b\b\b\b\b\b\b\b\b\b\b\b\b\b\b\b\b\b\b\b\b\b\b\b\b\b\b\b\b\b\b\b\b\b\b\r26/26 [==============================] - 0s 3ms/step - loss: 5.0967e-04\n",
            "Epoch 44/50\n",
            "22/26 [========================>.....] - ETA: 0s - loss: 5.6963e-04"
          ]
        },
        {
          "output_type": "stream",
          "name": "stderr",
          "text": [
            "WARNING:tensorflow:Early stopping conditioned on metric `val_loss` which is not available. Available metrics are: loss\n"
          ]
        },
        {
          "output_type": "stream",
          "name": "stdout",
          "text": [
            "\b\b\b\b\b\b\b\b\b\b\b\b\b\b\b\b\b\b\b\b\b\b\b\b\b\b\b\b\b\b\b\b\b\b\b\b\b\b\b\b\b\b\b\b\b\b\b\b\b\b\b\b\b\b\b\b\b\b\b\b\b\b\b\b\b\b\b\r26/26 [==============================] - 0s 3ms/step - loss: 5.3855e-04\n",
            "Epoch 45/50\n",
            "26/26 [==============================] - ETA: 0s - loss: 4.8503e-04"
          ]
        },
        {
          "output_type": "stream",
          "name": "stderr",
          "text": [
            "WARNING:tensorflow:Early stopping conditioned on metric `val_loss` which is not available. Available metrics are: loss\n"
          ]
        },
        {
          "output_type": "stream",
          "name": "stdout",
          "text": [
            "\b\b\b\b\b\b\b\b\b\b\b\b\b\b\b\b\b\b\b\b\b\b\b\b\b\b\b\b\b\b\b\b\b\b\b\b\b\b\b\b\b\b\b\b\b\b\b\b\b\b\b\b\b\b\b\b\b\b\b\b\b\b\b\b\b\b\b\r26/26 [==============================] - 0s 4ms/step - loss: 4.8503e-04\n",
            "Epoch 46/50\n",
            "26/26 [==============================] - ETA: 0s - loss: 4.9985e-04"
          ]
        },
        {
          "output_type": "stream",
          "name": "stderr",
          "text": [
            "WARNING:tensorflow:Early stopping conditioned on metric `val_loss` which is not available. Available metrics are: loss\n"
          ]
        },
        {
          "output_type": "stream",
          "name": "stdout",
          "text": [
            "\b\b\b\b\b\b\b\b\b\b\b\b\b\b\b\b\b\b\b\b\b\b\b\b\b\b\b\b\b\b\b\b\b\b\b\b\b\b\b\b\b\b\b\b\b\b\b\b\b\b\b\b\b\b\b\b\b\b\b\b\b\b\b\b\b\b\b\r26/26 [==============================] - 0s 4ms/step - loss: 4.9985e-04\n",
            "Epoch 47/50\n",
            "25/26 [===========================>..] - ETA: 0s - loss: 5.2790e-04"
          ]
        },
        {
          "output_type": "stream",
          "name": "stderr",
          "text": [
            "WARNING:tensorflow:Early stopping conditioned on metric `val_loss` which is not available. Available metrics are: loss\n"
          ]
        },
        {
          "output_type": "stream",
          "name": "stdout",
          "text": [
            "\b\b\b\b\b\b\b\b\b\b\b\b\b\b\b\b\b\b\b\b\b\b\b\b\b\b\b\b\b\b\b\b\b\b\b\b\b\b\b\b\b\b\b\b\b\b\b\b\b\b\b\b\b\b\b\b\b\b\b\b\b\b\b\b\b\b\b\r26/26 [==============================] - 0s 5ms/step - loss: 5.1911e-04\n",
            "Epoch 48/50\n",
            "14/26 [===============>..............] - ETA: 0s - loss: 4.3985e-04"
          ]
        },
        {
          "output_type": "stream",
          "name": "stderr",
          "text": [
            "WARNING:tensorflow:Early stopping conditioned on metric `val_loss` which is not available. Available metrics are: loss\n"
          ]
        },
        {
          "output_type": "stream",
          "name": "stdout",
          "text": [
            "\b\b\b\b\b\b\b\b\b\b\b\b\b\b\b\b\b\b\b\b\b\b\b\b\b\b\b\b\b\b\b\b\b\b\b\b\b\b\b\b\b\b\b\b\b\b\b\b\b\b\b\b\b\b\b\b\b\b\b\b\b\b\b\b\b\b\b\r26/26 [==============================] - 0s 4ms/step - loss: 4.9342e-04\n",
            "Epoch 49/50\n",
            "25/26 [===========================>..] - ETA: 0s - loss: 5.6830e-04"
          ]
        },
        {
          "output_type": "stream",
          "name": "stderr",
          "text": [
            "WARNING:tensorflow:Early stopping conditioned on metric `val_loss` which is not available. Available metrics are: loss\n"
          ]
        },
        {
          "output_type": "stream",
          "name": "stdout",
          "text": [
            "\b\b\b\b\b\b\b\b\b\b\b\b\b\b\b\b\b\b\b\b\b\b\b\b\b\b\b\b\b\b\b\b\b\b\b\b\b\b\b\b\b\b\b\b\b\b\b\b\b\b\b\b\b\b\b\b\b\b\b\b\b\b\b\b\b\b\b\r26/26 [==============================] - 0s 5ms/step - loss: 5.5966e-04\n",
            "Epoch 50/50\n",
            "24/26 [==========================>...] - ETA: 0s - loss: 4.9853e-04"
          ]
        },
        {
          "output_type": "stream",
          "name": "stderr",
          "text": [
            "WARNING:tensorflow:Early stopping conditioned on metric `val_loss` which is not available. Available metrics are: loss\n"
          ]
        },
        {
          "output_type": "stream",
          "name": "stdout",
          "text": [
            "26/26 [==============================] - 0s 5ms/step - loss: 4.9311e-04\n",
            "6/6 [==============================] - 0s 5ms/step\n",
            "Test RMSE: 17.677605701208766\n",
            "Test MAE: 11.717321442513814\n",
            "Test MAPE: 2.1301301540079143%\n",
            "Epoch 1/50\n",
            "31/31 [==============================] - 0s 4ms/step - loss: 6.6575e-04\n",
            "Epoch 2/50\n",
            "31/31 [==============================] - 0s 5ms/step - loss: 6.7865e-04\n",
            "Epoch 3/50\n",
            "31/31 [==============================] - 0s 4ms/step - loss: 7.5913e-04\n",
            "Epoch 4/50\n",
            "31/31 [==============================] - 0s 6ms/step - loss: 6.2072e-04\n",
            "Epoch 5/50\n",
            "31/31 [==============================] - 0s 5ms/step - loss: 6.2124e-04\n",
            "Epoch 6/50\n",
            "31/31 [==============================] - 0s 5ms/step - loss: 5.9980e-04\n",
            "Epoch 7/50\n",
            "31/31 [==============================] - 0s 5ms/step - loss: 6.0219e-04\n",
            "Epoch 8/50\n",
            "31/31 [==============================] - 0s 4ms/step - loss: 6.0736e-04\n",
            "Epoch 9/50\n",
            "31/31 [==============================] - 0s 4ms/step - loss: 5.8597e-04\n",
            "Epoch 10/50\n",
            "31/31 [==============================] - 0s 4ms/step - loss: 5.8269e-04\n",
            "Epoch 11/50\n",
            "31/31 [==============================] - 0s 4ms/step - loss: 5.7426e-04\n",
            "Epoch 12/50\n",
            "31/31 [==============================] - 0s 4ms/step - loss: 6.8857e-04\n",
            "Epoch 13/50\n",
            "31/31 [==============================] - 0s 4ms/step - loss: 6.2402e-04\n",
            "Epoch 14/50\n",
            "31/31 [==============================] - 0s 5ms/step - loss: 5.7097e-04\n",
            "Epoch 15/50\n",
            "31/31 [==============================] - 0s 4ms/step - loss: 6.0144e-04\n",
            "Epoch 16/50\n",
            "31/31 [==============================] - 0s 3ms/step - loss: 5.9466e-04\n",
            "Epoch 17/50\n",
            "31/31 [==============================] - 0s 3ms/step - loss: 6.6662e-04\n",
            "Epoch 18/50\n",
            "31/31 [==============================] - 0s 3ms/step - loss: 6.9057e-04\n",
            "Epoch 19/50\n",
            "31/31 [==============================] - 0s 3ms/step - loss: 6.1047e-04\n",
            "Epoch 20/50\n",
            "31/31 [==============================] - 0s 4ms/step - loss: 6.3052e-04\n",
            "Epoch 21/50\n",
            "31/31 [==============================] - 0s 3ms/step - loss: 5.6839e-04\n",
            "Epoch 22/50\n",
            "31/31 [==============================] - 0s 3ms/step - loss: 6.8845e-04\n",
            "Epoch 23/50\n",
            "31/31 [==============================] - 0s 3ms/step - loss: 6.0187e-04\n",
            "Epoch 24/50\n",
            "31/31 [==============================] - 0s 3ms/step - loss: 5.6824e-04\n",
            "Epoch 25/50\n",
            "31/31 [==============================] - 0s 3ms/step - loss: 6.0038e-04\n",
            "Epoch 26/50\n",
            "31/31 [==============================] - 0s 3ms/step - loss: 5.8673e-04\n",
            "Epoch 27/50\n",
            "31/31 [==============================] - 0s 3ms/step - loss: 5.6618e-04\n",
            "Epoch 28/50\n",
            "31/31 [==============================] - 0s 3ms/step - loss: 6.0827e-04\n",
            "Epoch 29/50\n",
            "31/31 [==============================] - 0s 3ms/step - loss: 5.7585e-04\n",
            "Epoch 30/50\n",
            "31/31 [==============================] - 0s 4ms/step - loss: 6.0618e-04\n",
            "Epoch 31/50\n",
            "31/31 [==============================] - 0s 3ms/step - loss: 5.8750e-04\n",
            "Epoch 32/50\n",
            "31/31 [==============================] - 0s 3ms/step - loss: 6.2760e-04\n",
            "Epoch 33/50\n",
            "31/31 [==============================] - 0s 3ms/step - loss: 5.9576e-04\n",
            "Epoch 34/50\n",
            "31/31 [==============================] - 0s 3ms/step - loss: 6.5022e-04\n",
            "Epoch 35/50\n",
            "31/31 [==============================] - 0s 3ms/step - loss: 5.7821e-04\n",
            "Epoch 36/50\n",
            "31/31 [==============================] - 0s 3ms/step - loss: 5.5950e-04\n",
            "Epoch 37/50\n",
            "31/31 [==============================] - 0s 3ms/step - loss: 5.6531e-04\n",
            "Epoch 38/50\n",
            "31/31 [==============================] - 0s 3ms/step - loss: 5.7002e-04\n",
            "Epoch 39/50\n",
            "31/31 [==============================] - 0s 3ms/step - loss: 5.8790e-04\n",
            "Epoch 40/50\n",
            "31/31 [==============================] - 0s 3ms/step - loss: 6.5964e-04\n",
            "Epoch 41/50\n",
            "31/31 [==============================] - 0s 3ms/step - loss: 6.4394e-04\n",
            "Epoch 42/50\n",
            "31/31 [==============================] - 0s 3ms/step - loss: 6.6930e-04\n",
            "Epoch 43/50\n",
            "31/31 [==============================] - 0s 3ms/step - loss: 5.6082e-04\n",
            "Epoch 44/50\n",
            "31/31 [==============================] - 0s 3ms/step - loss: 5.6020e-04\n",
            "Epoch 45/50\n",
            "31/31 [==============================] - 0s 3ms/step - loss: 6.2576e-04\n",
            "Epoch 46/50\n",
            "31/31 [==============================] - 0s 3ms/step - loss: 6.0380e-04\n",
            "Epoch 47/50\n",
            "31/31 [==============================] - 0s 3ms/step - loss: 5.8508e-04\n",
            "Epoch 48/50\n",
            "31/31 [==============================] - 0s 3ms/step - loss: 5.6327e-04\n",
            "Epoch 49/50\n",
            "31/31 [==============================] - 0s 3ms/step - loss: 5.7298e-04\n",
            "Epoch 50/50\n",
            "31/31 [==============================] - 0s 3ms/step - loss: 5.8781e-04\n"
          ]
        },
        {
          "output_type": "execute_result",
          "data": {
            "text/plain": [
              "<keras.src.callbacks.History at 0x794d6e2a5540>"
            ]
          },
          "metadata": {},
          "execution_count": 9
        }
      ]
    },
    {
      "cell_type": "code",
      "source": [
        "days = 5\n",
        "predicted_prices = []\n",
        "for day in range(days):\n",
        "    prediction = model.predict(np.array([X_reshaped[-1]]))\n",
        "    prediction = scaler_y.inverse_transform(prediction)\n",
        "    print(f\"Predicted price for {symbol} after {day + 1} day(s): {prediction[0][0]}\")\n",
        "    predicted_prices.append(prediction[0][0])\n",
        "\n",
        "    # Update DataFrame for next prediction\n",
        "    new_data = pd.DataFrame({\n",
        "        'Date': [df.iloc[-1]['Date'] + timedelta(days=1)],\n",
        "        'Open': [latest_price],\n",
        "        'High': [latest_price + 5],\n",
        "        'Low': [latest_price - 5],\n",
        "        'Close': [prediction[0][0]],\n",
        "        'Adj Close': [prediction[0][0]],\n",
        "        'Volume': [df.iloc[-1]['Volume'] + 100000],\n",
        "        'Price_Change': [prediction[0][0] - df.iloc[-1]['Close']],\n",
        "        'MA7': [df.iloc[-1]['MA7']],\n",
        "        'MA21': [df.iloc[-1]['MA21']],\n",
        "        'EMA': [df.iloc[-1]['EMA']],\n",
        "        'Prediction': [None]\n",
        "    })\n",
        "    df = pd.concat([df, new_data], ignore_index=True)\n",
        "    X = df[['Open', 'High', 'Low', 'Close', 'Adj Close', 'Volume', 'Price_Change', 'MA7', 'MA21', 'EMA']][:-1]\n",
        "    y = df['Prediction'][:-1]\n",
        "\n",
        "    # Drop the last row to remove NaN from 'Prediction'\n",
        "    df = df.dropna(subset=['Prediction'])\n",
        "\n",
        "    # Rescale the data\n",
        "    X_scaled = scaler_X.transform(X)\n",
        "    y_scaled = scaler_y.transform(y.values.reshape(-1, 1))\n",
        "\n",
        "    # Reshape input to be 3D [samples, timesteps, features]\n",
        "    X_reshaped = np.reshape(X_scaled, (X_scaled.shape[0], X_scaled.shape[1], 1))\n",
        "\n",
        "    # Retrain model with updated data\n",
        "    model.fit(X_reshaped, y_scaled, epochs=50, batch_size=32, verbose=1)"
      ],
      "metadata": {
        "colab": {
          "base_uri": "https://localhost:8080/"
        },
        "id": "9C4vkLiX71pu",
        "outputId": "89e5745d-07fd-49a4-bfc0-0f26937f46fc"
      },
      "execution_count": null,
      "outputs": [
        {
          "output_type": "stream",
          "name": "stdout",
          "text": [
            "1/1 [==============================] - 0s 26ms/step\n",
            "Predicted price for NFLX after 1 day(s): 425.2037658691406\n",
            "Epoch 1/50\n",
            "31/31 [==============================] - 0s 3ms/step - loss: 5.7135e-04\n",
            "Epoch 2/50\n",
            "31/31 [==============================] - 0s 3ms/step - loss: 5.9082e-04\n",
            "Epoch 3/50\n",
            "31/31 [==============================] - 0s 3ms/step - loss: 6.7927e-04\n",
            "Epoch 4/50\n",
            "31/31 [==============================] - 0s 3ms/step - loss: 6.2996e-04\n",
            "Epoch 5/50\n",
            "31/31 [==============================] - 0s 3ms/step - loss: 5.9884e-04\n",
            "Epoch 6/50\n",
            "31/31 [==============================] - 0s 3ms/step - loss: 5.6317e-04\n",
            "Epoch 7/50\n",
            "31/31 [==============================] - 0s 3ms/step - loss: 5.8471e-04\n",
            "Epoch 8/50\n",
            "31/31 [==============================] - 0s 3ms/step - loss: 5.6231e-04\n",
            "Epoch 9/50\n",
            "31/31 [==============================] - 0s 3ms/step - loss: 5.6697e-04\n",
            "Epoch 10/50\n",
            "31/31 [==============================] - 0s 2ms/step - loss: 5.8394e-04\n",
            "Epoch 11/50\n",
            "31/31 [==============================] - 0s 3ms/step - loss: 5.9448e-04\n",
            "Epoch 12/50\n",
            "31/31 [==============================] - 0s 3ms/step - loss: 5.7577e-04\n",
            "Epoch 13/50\n",
            "31/31 [==============================] - 0s 3ms/step - loss: 5.9485e-04\n",
            "Epoch 14/50\n",
            "31/31 [==============================] - 0s 2ms/step - loss: 5.7517e-04\n",
            "Epoch 15/50\n",
            "31/31 [==============================] - 0s 3ms/step - loss: 5.8647e-04\n",
            "Epoch 16/50\n",
            "31/31 [==============================] - 0s 3ms/step - loss: 5.5397e-04\n",
            "Epoch 17/50\n",
            "31/31 [==============================] - 0s 2ms/step - loss: 5.7711e-04\n",
            "Epoch 18/50\n",
            "31/31 [==============================] - 0s 2ms/step - loss: 6.0586e-04\n",
            "Epoch 19/50\n",
            "31/31 [==============================] - 0s 3ms/step - loss: 5.8931e-04\n",
            "Epoch 20/50\n",
            "31/31 [==============================] - 0s 3ms/step - loss: 6.0586e-04\n",
            "Epoch 21/50\n",
            "31/31 [==============================] - 0s 3ms/step - loss: 6.1445e-04\n",
            "Epoch 22/50\n",
            "31/31 [==============================] - 0s 3ms/step - loss: 6.0555e-04\n",
            "Epoch 23/50\n",
            "31/31 [==============================] - 0s 3ms/step - loss: 5.8320e-04\n",
            "Epoch 24/50\n",
            "31/31 [==============================] - 0s 3ms/step - loss: 5.4575e-04\n",
            "Epoch 25/50\n",
            "31/31 [==============================] - 0s 3ms/step - loss: 5.6300e-04\n",
            "Epoch 26/50\n",
            "31/31 [==============================] - 0s 3ms/step - loss: 5.6088e-04\n",
            "Epoch 27/50\n",
            "31/31 [==============================] - 0s 4ms/step - loss: 5.5459e-04\n",
            "Epoch 28/50\n",
            "31/31 [==============================] - 0s 3ms/step - loss: 5.5246e-04\n",
            "Epoch 29/50\n",
            "31/31 [==============================] - 0s 3ms/step - loss: 5.9177e-04\n",
            "Epoch 30/50\n",
            "31/31 [==============================] - 0s 3ms/step - loss: 5.5669e-04\n",
            "Epoch 31/50\n",
            "31/31 [==============================] - 0s 3ms/step - loss: 5.7673e-04\n",
            "Epoch 32/50\n",
            "31/31 [==============================] - 0s 3ms/step - loss: 5.7711e-04\n",
            "Epoch 33/50\n",
            "31/31 [==============================] - 0s 3ms/step - loss: 6.1575e-04\n",
            "Epoch 34/50\n",
            "31/31 [==============================] - 0s 3ms/step - loss: 5.5278e-04\n",
            "Epoch 35/50\n",
            "31/31 [==============================] - 0s 3ms/step - loss: 5.8656e-04\n",
            "Epoch 36/50\n",
            "31/31 [==============================] - 0s 3ms/step - loss: 5.5426e-04\n",
            "Epoch 37/50\n",
            "31/31 [==============================] - 0s 3ms/step - loss: 5.5757e-04\n",
            "Epoch 38/50\n",
            "31/31 [==============================] - 0s 2ms/step - loss: 5.5532e-04\n",
            "Epoch 39/50\n",
            "31/31 [==============================] - 0s 3ms/step - loss: 5.7250e-04\n",
            "Epoch 40/50\n",
            "31/31 [==============================] - 0s 3ms/step - loss: 5.5482e-04\n",
            "Epoch 41/50\n",
            "31/31 [==============================] - 0s 3ms/step - loss: 6.4373e-04\n",
            "Epoch 42/50\n",
            "31/31 [==============================] - 0s 3ms/step - loss: 5.8998e-04\n",
            "Epoch 43/50\n",
            "31/31 [==============================] - 0s 3ms/step - loss: 5.5771e-04\n",
            "Epoch 44/50\n",
            "31/31 [==============================] - 0s 4ms/step - loss: 5.8065e-04\n",
            "Epoch 45/50\n",
            "31/31 [==============================] - 0s 4ms/step - loss: 5.7877e-04\n",
            "Epoch 46/50\n",
            "31/31 [==============================] - 0s 4ms/step - loss: 5.5055e-04\n",
            "Epoch 47/50\n",
            "31/31 [==============================] - 0s 4ms/step - loss: 5.6749e-04\n",
            "Epoch 48/50\n",
            "31/31 [==============================] - 0s 4ms/step - loss: 5.6554e-04\n",
            "Epoch 49/50\n",
            "31/31 [==============================] - 0s 4ms/step - loss: 5.8005e-04\n",
            "Epoch 50/50\n",
            "31/31 [==============================] - 0s 4ms/step - loss: 5.5476e-04\n",
            "1/1 [==============================] - 0s 34ms/step\n",
            "Predicted price for NFLX after 2 day(s): 412.7930908203125\n",
            "Epoch 1/50\n",
            "31/31 [==============================] - 0s 4ms/step - loss: 5.7231e-04\n",
            "Epoch 2/50\n",
            "31/31 [==============================] - 0s 5ms/step - loss: 5.6305e-04\n",
            "Epoch 3/50\n",
            "31/31 [==============================] - 0s 5ms/step - loss: 5.7120e-04\n",
            "Epoch 4/50\n",
            "31/31 [==============================] - 0s 4ms/step - loss: 5.5757e-04\n",
            "Epoch 5/50\n",
            "31/31 [==============================] - 0s 5ms/step - loss: 5.6866e-04\n",
            "Epoch 6/50\n",
            "31/31 [==============================] - 0s 4ms/step - loss: 5.7243e-04\n",
            "Epoch 7/50\n",
            "31/31 [==============================] - 0s 5ms/step - loss: 5.4958e-04\n",
            "Epoch 8/50\n",
            "31/31 [==============================] - 0s 4ms/step - loss: 5.3508e-04\n",
            "Epoch 9/50\n",
            "31/31 [==============================] - 0s 3ms/step - loss: 5.8614e-04\n",
            "Epoch 10/50\n",
            "31/31 [==============================] - 0s 3ms/step - loss: 5.7385e-04\n",
            "Epoch 11/50\n",
            "31/31 [==============================] - 0s 3ms/step - loss: 5.7619e-04\n",
            "Epoch 12/50\n",
            "31/31 [==============================] - 0s 2ms/step - loss: 5.7237e-04\n",
            "Epoch 13/50\n",
            "31/31 [==============================] - 0s 3ms/step - loss: 6.5884e-04\n",
            "Epoch 14/50\n",
            "31/31 [==============================] - 0s 3ms/step - loss: 6.0264e-04\n",
            "Epoch 15/50\n",
            "31/31 [==============================] - 0s 3ms/step - loss: 5.8365e-04\n",
            "Epoch 16/50\n",
            "31/31 [==============================] - 0s 3ms/step - loss: 5.8584e-04\n",
            "Epoch 17/50\n",
            "31/31 [==============================] - 0s 3ms/step - loss: 5.5369e-04\n",
            "Epoch 18/50\n",
            "31/31 [==============================] - 0s 2ms/step - loss: 5.6037e-04\n",
            "Epoch 19/50\n",
            "31/31 [==============================] - 0s 2ms/step - loss: 5.8026e-04\n",
            "Epoch 20/50\n",
            "31/31 [==============================] - 0s 2ms/step - loss: 5.6459e-04\n",
            "Epoch 21/50\n",
            "31/31 [==============================] - 0s 3ms/step - loss: 5.5101e-04\n",
            "Epoch 22/50\n",
            "31/31 [==============================] - 0s 3ms/step - loss: 6.2417e-04\n",
            "Epoch 23/50\n",
            "31/31 [==============================] - 0s 2ms/step - loss: 5.6855e-04\n",
            "Epoch 24/50\n",
            "31/31 [==============================] - 0s 2ms/step - loss: 5.5928e-04\n",
            "Epoch 25/50\n",
            "31/31 [==============================] - 0s 2ms/step - loss: 5.5350e-04\n",
            "Epoch 26/50\n",
            "31/31 [==============================] - 0s 2ms/step - loss: 7.0360e-04\n",
            "Epoch 27/50\n",
            "31/31 [==============================] - 0s 2ms/step - loss: 5.9969e-04\n",
            "Epoch 28/50\n",
            "31/31 [==============================] - 0s 2ms/step - loss: 5.7945e-04\n",
            "Epoch 29/50\n",
            "31/31 [==============================] - 0s 2ms/step - loss: 5.5947e-04\n",
            "Epoch 30/50\n",
            "31/31 [==============================] - 0s 2ms/step - loss: 5.6706e-04\n",
            "Epoch 31/50\n",
            "31/31 [==============================] - 0s 3ms/step - loss: 5.4892e-04\n",
            "Epoch 32/50\n",
            "31/31 [==============================] - 0s 3ms/step - loss: 5.5896e-04\n",
            "Epoch 33/50\n",
            "31/31 [==============================] - 0s 3ms/step - loss: 5.4532e-04\n",
            "Epoch 34/50\n",
            "31/31 [==============================] - 0s 3ms/step - loss: 5.3050e-04\n",
            "Epoch 35/50\n",
            "31/31 [==============================] - 0s 3ms/step - loss: 5.6864e-04\n",
            "Epoch 36/50\n",
            "31/31 [==============================] - 0s 2ms/step - loss: 5.5691e-04\n",
            "Epoch 37/50\n",
            "31/31 [==============================] - 0s 2ms/step - loss: 5.7569e-04\n",
            "Epoch 38/50\n",
            "31/31 [==============================] - 0s 2ms/step - loss: 5.5092e-04\n",
            "Epoch 39/50\n",
            "31/31 [==============================] - 0s 3ms/step - loss: 5.4275e-04\n",
            "Epoch 40/50\n",
            "31/31 [==============================] - 0s 2ms/step - loss: 5.5020e-04\n",
            "Epoch 41/50\n",
            "31/31 [==============================] - 0s 2ms/step - loss: 5.5668e-04\n",
            "Epoch 42/50\n",
            "31/31 [==============================] - 0s 2ms/step - loss: 5.6649e-04\n",
            "Epoch 43/50\n",
            "31/31 [==============================] - 0s 2ms/step - loss: 5.6279e-04\n",
            "Epoch 44/50\n",
            "31/31 [==============================] - 0s 2ms/step - loss: 5.9812e-04\n",
            "Epoch 45/50\n",
            "31/31 [==============================] - 0s 3ms/step - loss: 6.5108e-04\n",
            "Epoch 46/50\n",
            "31/31 [==============================] - 0s 3ms/step - loss: 5.6691e-04\n",
            "Epoch 47/50\n",
            "31/31 [==============================] - 0s 2ms/step - loss: 5.7991e-04\n",
            "Epoch 48/50\n",
            "31/31 [==============================] - 0s 3ms/step - loss: 6.6490e-04\n",
            "Epoch 49/50\n",
            "31/31 [==============================] - 0s 3ms/step - loss: 5.7199e-04\n",
            "Epoch 50/50\n",
            "31/31 [==============================] - 0s 3ms/step - loss: 5.3902e-04\n",
            "1/1 [==============================] - 0s 23ms/step\n",
            "Predicted price for NFLX after 3 day(s): 414.3656005859375\n",
            "Epoch 1/50\n",
            "31/31 [==============================] - 0s 2ms/step - loss: 5.3958e-04\n",
            "Epoch 2/50\n",
            "31/31 [==============================] - 0s 2ms/step - loss: 5.5613e-04\n",
            "Epoch 3/50\n",
            "31/31 [==============================] - 0s 2ms/step - loss: 5.5826e-04\n",
            "Epoch 4/50\n",
            "31/31 [==============================] - 0s 3ms/step - loss: 6.0500e-04\n",
            "Epoch 5/50\n",
            "31/31 [==============================] - 0s 3ms/step - loss: 6.0778e-04\n",
            "Epoch 6/50\n",
            "31/31 [==============================] - 0s 3ms/step - loss: 6.5438e-04\n",
            "Epoch 7/50\n",
            "31/31 [==============================] - 0s 3ms/step - loss: 5.7397e-04\n",
            "Epoch 8/50\n",
            "31/31 [==============================] - 0s 3ms/step - loss: 5.5160e-04\n",
            "Epoch 9/50\n",
            "31/31 [==============================] - 0s 3ms/step - loss: 5.4567e-04\n",
            "Epoch 10/50\n",
            "31/31 [==============================] - 0s 2ms/step - loss: 5.3734e-04\n",
            "Epoch 11/50\n",
            "31/31 [==============================] - 0s 3ms/step - loss: 5.3688e-04\n",
            "Epoch 12/50\n",
            "31/31 [==============================] - 0s 2ms/step - loss: 5.7954e-04\n",
            "Epoch 13/50\n",
            "31/31 [==============================] - 0s 3ms/step - loss: 5.3613e-04\n",
            "Epoch 14/50\n",
            "31/31 [==============================] - 0s 3ms/step - loss: 5.4306e-04\n",
            "Epoch 15/50\n",
            "31/31 [==============================] - 0s 3ms/step - loss: 5.4363e-04\n",
            "Epoch 16/50\n",
            "31/31 [==============================] - 0s 3ms/step - loss: 5.4258e-04\n",
            "Epoch 17/50\n",
            "31/31 [==============================] - 0s 3ms/step - loss: 5.5171e-04\n",
            "Epoch 18/50\n",
            "31/31 [==============================] - 0s 2ms/step - loss: 5.6247e-04\n",
            "Epoch 19/50\n",
            "31/31 [==============================] - 0s 3ms/step - loss: 6.9094e-04\n",
            "Epoch 20/50\n",
            "31/31 [==============================] - 0s 2ms/step - loss: 5.7709e-04\n",
            "Epoch 21/50\n",
            "31/31 [==============================] - 0s 3ms/step - loss: 5.8401e-04\n",
            "Epoch 22/50\n",
            "31/31 [==============================] - 0s 2ms/step - loss: 6.0387e-04\n",
            "Epoch 23/50\n",
            "31/31 [==============================] - 0s 2ms/step - loss: 5.8750e-04\n",
            "Epoch 24/50\n",
            "31/31 [==============================] - 0s 3ms/step - loss: 6.1332e-04\n",
            "Epoch 25/50\n",
            "31/31 [==============================] - 0s 3ms/step - loss: 5.8523e-04\n",
            "Epoch 26/50\n",
            "31/31 [==============================] - 0s 3ms/step - loss: 5.3752e-04\n",
            "Epoch 27/50\n",
            "31/31 [==============================] - 0s 3ms/step - loss: 5.4453e-04\n",
            "Epoch 28/50\n",
            "31/31 [==============================] - 0s 3ms/step - loss: 5.7124e-04\n",
            "Epoch 29/50\n",
            "31/31 [==============================] - 0s 3ms/step - loss: 5.3230e-04\n",
            "Epoch 30/50\n",
            "31/31 [==============================] - 0s 3ms/step - loss: 5.6963e-04\n",
            "Epoch 31/50\n",
            "31/31 [==============================] - 0s 3ms/step - loss: 5.7761e-04\n",
            "Epoch 32/50\n",
            "31/31 [==============================] - 0s 3ms/step - loss: 5.5057e-04\n",
            "Epoch 33/50\n",
            "31/31 [==============================] - 0s 2ms/step - loss: 5.3821e-04\n",
            "Epoch 34/50\n",
            "31/31 [==============================] - 0s 3ms/step - loss: 5.3855e-04\n",
            "Epoch 35/50\n",
            "31/31 [==============================] - 0s 3ms/step - loss: 5.5133e-04\n",
            "Epoch 36/50\n",
            "31/31 [==============================] - 0s 3ms/step - loss: 5.6092e-04\n",
            "Epoch 37/50\n",
            "31/31 [==============================] - 0s 3ms/step - loss: 5.3938e-04\n",
            "Epoch 38/50\n",
            "31/31 [==============================] - 0s 3ms/step - loss: 5.7281e-04\n",
            "Epoch 39/50\n",
            "31/31 [==============================] - 0s 4ms/step - loss: 5.6126e-04\n",
            "Epoch 40/50\n",
            "31/31 [==============================] - 0s 3ms/step - loss: 5.5020e-04\n",
            "Epoch 41/50\n",
            "31/31 [==============================] - 0s 3ms/step - loss: 5.3417e-04\n",
            "Epoch 42/50\n",
            "31/31 [==============================] - 0s 3ms/step - loss: 5.6425e-04\n",
            "Epoch 43/50\n",
            "31/31 [==============================] - 0s 2ms/step - loss: 6.8774e-04\n",
            "Epoch 44/50\n",
            "31/31 [==============================] - 0s 2ms/step - loss: 6.4933e-04\n",
            "Epoch 45/50\n",
            "31/31 [==============================] - 0s 3ms/step - loss: 5.7458e-04\n",
            "Epoch 46/50\n",
            "31/31 [==============================] - 0s 3ms/step - loss: 5.3537e-04\n",
            "Epoch 47/50\n",
            "31/31 [==============================] - 0s 3ms/step - loss: 5.4423e-04\n",
            "Epoch 48/50\n",
            "31/31 [==============================] - 0s 3ms/step - loss: 5.9200e-04\n",
            "Epoch 49/50\n",
            "31/31 [==============================] - 0s 3ms/step - loss: 5.4558e-04\n",
            "Epoch 50/50\n",
            "31/31 [==============================] - 0s 3ms/step - loss: 5.8389e-04\n",
            "1/1 [==============================] - 0s 25ms/step\n",
            "Predicted price for NFLX after 4 day(s): 414.7664794921875\n",
            "Epoch 1/50\n",
            "31/31 [==============================] - 0s 3ms/step - loss: 5.3568e-04\n",
            "Epoch 2/50\n",
            "31/31 [==============================] - 0s 2ms/step - loss: 5.4915e-04\n",
            "Epoch 3/50\n",
            "31/31 [==============================] - 0s 3ms/step - loss: 5.3158e-04\n",
            "Epoch 4/50\n",
            "31/31 [==============================] - 0s 3ms/step - loss: 5.8472e-04\n",
            "Epoch 5/50\n",
            "31/31 [==============================] - 0s 3ms/step - loss: 5.5974e-04\n",
            "Epoch 6/50\n",
            "31/31 [==============================] - 0s 3ms/step - loss: 5.6575e-04\n",
            "Epoch 7/50\n",
            "31/31 [==============================] - 0s 3ms/step - loss: 5.5902e-04\n",
            "Epoch 8/50\n",
            "31/31 [==============================] - 0s 3ms/step - loss: 5.7371e-04\n",
            "Epoch 9/50\n",
            "31/31 [==============================] - 0s 3ms/step - loss: 5.7479e-04\n",
            "Epoch 10/50\n",
            "31/31 [==============================] - 0s 3ms/step - loss: 5.7775e-04\n",
            "Epoch 11/50\n",
            "31/31 [==============================] - 0s 3ms/step - loss: 5.4532e-04\n",
            "Epoch 12/50\n",
            "31/31 [==============================] - 0s 2ms/step - loss: 5.6415e-04\n",
            "Epoch 13/50\n",
            "31/31 [==============================] - 0s 2ms/step - loss: 5.4055e-04\n",
            "Epoch 14/50\n",
            "31/31 [==============================] - 0s 2ms/step - loss: 5.9895e-04\n",
            "Epoch 15/50\n",
            "31/31 [==============================] - 0s 3ms/step - loss: 5.3577e-04\n",
            "Epoch 16/50\n",
            "31/31 [==============================] - 0s 3ms/step - loss: 5.8564e-04\n",
            "Epoch 17/50\n",
            "31/31 [==============================] - 0s 4ms/step - loss: 5.7399e-04\n",
            "Epoch 18/50\n",
            "31/31 [==============================] - 0s 4ms/step - loss: 5.4023e-04\n",
            "Epoch 19/50\n",
            "31/31 [==============================] - 0s 5ms/step - loss: 5.4074e-04\n",
            "Epoch 20/50\n",
            "31/31 [==============================] - 0s 4ms/step - loss: 5.4517e-04\n",
            "Epoch 21/50\n",
            "31/31 [==============================] - 0s 4ms/step - loss: 5.4622e-04\n",
            "Epoch 22/50\n",
            "31/31 [==============================] - 0s 4ms/step - loss: 5.6180e-04\n",
            "Epoch 23/50\n",
            "31/31 [==============================] - 0s 4ms/step - loss: 5.4139e-04\n",
            "Epoch 24/50\n",
            "31/31 [==============================] - 0s 5ms/step - loss: 5.3656e-04\n",
            "Epoch 25/50\n",
            "31/31 [==============================] - 0s 4ms/step - loss: 5.5918e-04\n",
            "Epoch 26/50\n",
            "31/31 [==============================] - 0s 4ms/step - loss: 5.3350e-04\n",
            "Epoch 27/50\n",
            "31/31 [==============================] - 0s 4ms/step - loss: 5.4992e-04\n",
            "Epoch 28/50\n",
            "31/31 [==============================] - 0s 4ms/step - loss: 5.5171e-04\n",
            "Epoch 29/50\n",
            "31/31 [==============================] - 0s 4ms/step - loss: 6.2093e-04\n",
            "Epoch 30/50\n",
            "31/31 [==============================] - 0s 4ms/step - loss: 5.5993e-04\n",
            "Epoch 31/50\n",
            "31/31 [==============================] - 0s 4ms/step - loss: 5.3826e-04\n",
            "Epoch 32/50\n",
            "31/31 [==============================] - 0s 4ms/step - loss: 5.5269e-04\n",
            "Epoch 33/50\n",
            "31/31 [==============================] - 0s 4ms/step - loss: 5.8829e-04\n",
            "Epoch 34/50\n",
            "31/31 [==============================] - 0s 5ms/step - loss: 5.9881e-04\n",
            "Epoch 35/50\n",
            "31/31 [==============================] - 0s 5ms/step - loss: 5.5312e-04\n",
            "Epoch 36/50\n",
            "31/31 [==============================] - 0s 4ms/step - loss: 5.4226e-04\n",
            "Epoch 37/50\n",
            "31/31 [==============================] - 0s 3ms/step - loss: 5.3129e-04\n",
            "Epoch 38/50\n",
            "31/31 [==============================] - 0s 2ms/step - loss: 5.4249e-04\n",
            "Epoch 39/50\n",
            "31/31 [==============================] - 0s 2ms/step - loss: 5.3172e-04\n",
            "Epoch 40/50\n",
            "31/31 [==============================] - 0s 3ms/step - loss: 5.4921e-04\n",
            "Epoch 41/50\n",
            "31/31 [==============================] - 0s 3ms/step - loss: 5.1893e-04\n",
            "Epoch 42/50\n",
            "31/31 [==============================] - 0s 3ms/step - loss: 5.2695e-04\n",
            "Epoch 43/50\n",
            "31/31 [==============================] - 0s 3ms/step - loss: 5.5203e-04\n",
            "Epoch 44/50\n",
            "31/31 [==============================] - 0s 3ms/step - loss: 5.3061e-04\n",
            "Epoch 45/50\n",
            "31/31 [==============================] - 0s 3ms/step - loss: 5.3298e-04\n",
            "Epoch 46/50\n",
            "31/31 [==============================] - 0s 3ms/step - loss: 5.2635e-04\n",
            "Epoch 47/50\n",
            "31/31 [==============================] - 0s 3ms/step - loss: 5.3685e-04\n",
            "Epoch 48/50\n",
            "31/31 [==============================] - 0s 3ms/step - loss: 5.3294e-04\n",
            "Epoch 49/50\n",
            "31/31 [==============================] - 0s 3ms/step - loss: 5.2100e-04\n",
            "Epoch 50/50\n",
            "31/31 [==============================] - 0s 3ms/step - loss: 5.0635e-04\n",
            "1/1 [==============================] - 0s 23ms/step\n",
            "Predicted price for NFLX after 5 day(s): 410.78045654296875\n",
            "Epoch 1/50\n",
            "31/31 [==============================] - 0s 3ms/step - loss: 5.3210e-04\n",
            "Epoch 2/50\n",
            "31/31 [==============================] - 0s 3ms/step - loss: 5.2529e-04\n",
            "Epoch 3/50\n",
            "31/31 [==============================] - 0s 3ms/step - loss: 5.3279e-04\n",
            "Epoch 4/50\n",
            "31/31 [==============================] - 0s 3ms/step - loss: 5.4790e-04\n",
            "Epoch 5/50\n",
            "31/31 [==============================] - 0s 3ms/step - loss: 5.6170e-04\n",
            "Epoch 6/50\n",
            "31/31 [==============================] - 0s 2ms/step - loss: 5.4843e-04\n",
            "Epoch 7/50\n",
            "31/31 [==============================] - 0s 2ms/step - loss: 5.7027e-04\n",
            "Epoch 8/50\n",
            "31/31 [==============================] - 0s 3ms/step - loss: 5.4055e-04\n",
            "Epoch 9/50\n",
            "31/31 [==============================] - 0s 3ms/step - loss: 5.3165e-04\n",
            "Epoch 10/50\n",
            "31/31 [==============================] - 0s 3ms/step - loss: 5.4511e-04\n",
            "Epoch 11/50\n",
            "31/31 [==============================] - 0s 3ms/step - loss: 5.3552e-04\n",
            "Epoch 12/50\n",
            "31/31 [==============================] - 0s 3ms/step - loss: 5.2351e-04\n",
            "Epoch 13/50\n",
            "31/31 [==============================] - 0s 3ms/step - loss: 5.3194e-04\n",
            "Epoch 14/50\n",
            "31/31 [==============================] - 0s 3ms/step - loss: 5.2522e-04\n",
            "Epoch 15/50\n",
            "31/31 [==============================] - 0s 3ms/step - loss: 5.6279e-04\n",
            "Epoch 16/50\n",
            "31/31 [==============================] - 0s 3ms/step - loss: 5.4061e-04\n",
            "Epoch 17/50\n",
            "31/31 [==============================] - 0s 2ms/step - loss: 5.3973e-04\n",
            "Epoch 18/50\n",
            "31/31 [==============================] - 0s 3ms/step - loss: 5.4519e-04\n",
            "Epoch 19/50\n",
            "31/31 [==============================] - 0s 3ms/step - loss: 5.2746e-04\n",
            "Epoch 20/50\n",
            "31/31 [==============================] - 0s 3ms/step - loss: 5.3260e-04\n",
            "Epoch 21/50\n",
            "31/31 [==============================] - 0s 3ms/step - loss: 5.4216e-04\n",
            "Epoch 22/50\n",
            "31/31 [==============================] - 0s 2ms/step - loss: 5.7292e-04\n",
            "Epoch 23/50\n",
            "31/31 [==============================] - 0s 3ms/step - loss: 5.2753e-04\n",
            "Epoch 24/50\n",
            "31/31 [==============================] - 0s 2ms/step - loss: 5.1138e-04\n",
            "Epoch 25/50\n",
            "31/31 [==============================] - 0s 3ms/step - loss: 5.4703e-04\n",
            "Epoch 26/50\n",
            "31/31 [==============================] - 0s 3ms/step - loss: 5.4960e-04\n",
            "Epoch 27/50\n",
            "31/31 [==============================] - 0s 3ms/step - loss: 5.4642e-04\n",
            "Epoch 28/50\n",
            "31/31 [==============================] - 0s 3ms/step - loss: 5.4192e-04\n",
            "Epoch 29/50\n",
            "31/31 [==============================] - 0s 2ms/step - loss: 5.5627e-04\n",
            "Epoch 30/50\n",
            "31/31 [==============================] - 0s 3ms/step - loss: 5.4961e-04\n",
            "Epoch 31/50\n",
            "31/31 [==============================] - 0s 3ms/step - loss: 5.3881e-04\n",
            "Epoch 32/50\n",
            "31/31 [==============================] - 0s 3ms/step - loss: 6.1529e-04\n",
            "Epoch 33/50\n",
            "31/31 [==============================] - 0s 2ms/step - loss: 5.8012e-04\n",
            "Epoch 34/50\n",
            "31/31 [==============================] - 0s 3ms/step - loss: 5.2249e-04\n",
            "Epoch 35/50\n",
            "31/31 [==============================] - 0s 3ms/step - loss: 5.3492e-04\n",
            "Epoch 36/50\n",
            "31/31 [==============================] - 0s 3ms/step - loss: 5.1827e-04\n",
            "Epoch 37/50\n",
            "31/31 [==============================] - 0s 3ms/step - loss: 5.2085e-04\n",
            "Epoch 38/50\n",
            "31/31 [==============================] - 0s 3ms/step - loss: 5.4435e-04\n",
            "Epoch 39/50\n",
            "31/31 [==============================] - 0s 3ms/step - loss: 5.7557e-04\n",
            "Epoch 40/50\n",
            "31/31 [==============================] - 0s 2ms/step - loss: 5.3039e-04\n",
            "Epoch 41/50\n",
            "31/31 [==============================] - 0s 2ms/step - loss: 5.1956e-04\n",
            "Epoch 42/50\n",
            "31/31 [==============================] - 0s 3ms/step - loss: 5.2235e-04\n",
            "Epoch 43/50\n",
            "31/31 [==============================] - 0s 3ms/step - loss: 5.3377e-04\n",
            "Epoch 44/50\n",
            "31/31 [==============================] - 0s 3ms/step - loss: 5.3237e-04\n",
            "Epoch 45/50\n",
            "31/31 [==============================] - 0s 3ms/step - loss: 5.3185e-04\n",
            "Epoch 46/50\n",
            "31/31 [==============================] - 0s 3ms/step - loss: 5.5684e-04\n",
            "Epoch 47/50\n",
            "18/31 [================>.............] - ETA: 0s - loss: 5.4797e-04"
          ]
        }
      ]
    }
  ]
}